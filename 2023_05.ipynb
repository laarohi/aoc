{
 "cells": [
  {
   "cell_type": "code",
   "execution_count": 1,
   "id": "021838ca-c426-4c3d-b155-dcef79098cb1",
   "metadata": {},
   "outputs": [],
   "source": [
    "from aoc_utils import *\n",
    "\n",
    "import pandas as pd\n",
    "import numpy as np\n",
    "\n",
    "from aocd import get_data, submit"
   ]
  },
  {
   "cell_type": "code",
   "execution_count": 2,
   "id": "9c8b3281-561d-485d-a78e-99929790addf",
   "metadata": {},
   "outputs": [],
   "source": [
    "year = 2023\n",
    "day = 5"
   ]
  },
  {
   "cell_type": "code",
   "execution_count": 3,
   "id": "f942dbf5-a17e-475a-9c28-b7b699ba4436",
   "metadata": {},
   "outputs": [],
   "source": [
    "dat = get_data(day=day, year=year, block=True)"
   ]
  },
  {
   "cell_type": "code",
   "execution_count": 4,
   "id": "f1ebf338-f7cd-432e-b2ee-d5638781b52c",
   "metadata": {
    "scrolled": true
   },
   "outputs": [
    {
     "data": {
      "text/plain": [
       "836040384"
      ]
     },
     "execution_count": 4,
     "metadata": {},
     "output_type": "execute_result"
    }
   ],
   "source": [
    "sdat = parse(dat, str, paragraphs )\n",
    "seeds = parse(sdat[0],ints)[0]\n",
    "smaps = [parse(d,ints) for d in sdat[1:]]\n",
    "rmaps = []\n",
    "rsearch = []\n",
    "for i,m in enumerate(smaps):\n",
    "    rm = {}\n",
    "    rs = []\n",
    "    m = m[1:]\n",
    "    m = sorted(m)\n",
    "    for v in m:\n",
    "        rm[v[1]] = v[0]\n",
    "        # inclusive range\n",
    "        rs.append((v[1],v[1]+v[2]-1))\n",
    "    rmaps.append(rm)\n",
    "    rsearch.append(rs)\n",
    "\n",
    "def find_map(v, rm, rs):\n",
    "    for r_min, r_max in rs:\n",
    "        if r_min <= v <= r_max:\n",
    "            return rm[r_min] + v - r_min\n",
    "    return v\n",
    "            \n",
    "res = []\n",
    "for s in seeds:\n",
    "    v = s\n",
    "    #print(v)\n",
    "    for rm,rs in zip(rmaps, rsearch):\n",
    "        #print(v, rm, rs)\n",
    "        v = find_map(v, rm, rs)\n",
    "    #print(v)\n",
    "    res.append(v)\n",
    "            \n",
    "p1 = min(res)    \n",
    "p1"
   ]
  },
  {
   "cell_type": "code",
   "execution_count": 5,
   "id": "43605b0a-b15c-494a-8a3a-10f8550e1499",
   "metadata": {
    "scrolled": true
   },
   "outputs": [
    {
     "name": "stdout",
     "output_type": "stream",
     "text": [
      "aocd will not submit that answer again. At 2023-12-05 00:37:53.179924-05:00 you've previously submitted 836040384 and the server responded with:\n",
      "\u001b[32mThat's the right answer!  You are one gold star closer to restoring snow operations. [Continue to Part Two]\u001b[0m\n"
     ]
    }
   ],
   "source": [
    "submit(p1, day=day, part='a', year=year)"
   ]
  },
  {
   "cell_type": "code",
   "execution_count": 6,
   "id": "59b24e11-defa-4a1d-be71-1007f3cc7dc9",
   "metadata": {},
   "outputs": [
    {
     "data": {
      "text/plain": [
       "10834440"
      ]
     },
     "execution_count": 6,
     "metadata": {},
     "output_type": "execute_result"
    }
   ],
   "source": [
    "bseeds = batched(seeds, 2)\n",
    "res = []\n",
    "\n",
    "def chunk_ranges(v_min, v_max, rs):\n",
    "    res = []\n",
    "    for r_min, r_max in rs:\n",
    "        if r_min <= v_min < v_max <= r_max:\n",
    "            return [(v_min, v_max)]\n",
    "        elif r_min <= v_min <= r_max < v_max:\n",
    "            return [(v_min, r_max)] + chunk_ranges(r_max+1, v_max, rs)\n",
    "        elif v_min < r_min <= v_max <= r_max:\n",
    "            return chunk_ranges(v_min, r_min-1, rs) + [(r_min, v_max)]\n",
    "        elif v_min < r_min < r_max < v_max:\n",
    "            return chunk_ranges(v_min, r_min-1, rs) + [(r_min, r_max)] + chunk_ranges(r_max+1, v_max, rs)\n",
    "    return [(v_min, v_max)]\n",
    "            \n",
    "res = []\n",
    "for s, c in bseeds:\n",
    "    vs = [(s, s+c-1)]\n",
    "    for rm,rs in zip(rmaps, rsearch):\n",
    "        vs_new = []\n",
    "        for v in vs:\n",
    "            v_chunked = chunk_ranges(v[0], v[1], rs)\n",
    "            for _v in v_chunked:\n",
    "                v_mapped = find_map(_v[0], rm, rs)\n",
    "                vs_new.append((v_mapped, v_mapped + (_v[1] - _v[0])))\n",
    "        vs = sorted(vs_new)\n",
    "    for v in vs:\n",
    "        res.append(v[0])\n",
    "        \n",
    "p2 = min(res)\n",
    "p2"
   ]
  },
  {
   "cell_type": "code",
   "execution_count": 7,
   "id": "97419d4a-445d-49af-b661-8a7a11804406",
   "metadata": {
    "scrolled": true
   },
   "outputs": [
    {
     "name": "stdout",
     "output_type": "stream",
     "text": [
      "aocd will not submit that answer again. At 2023-12-05 01:43:04.551776-05:00 you've previously submitted 10834440 and the server responded with:\n",
      "\u001b[32mThat's the right answer!  You are one gold star closer to restoring snow operations.You have completed Day 5! You can [Shareon\n",
      "  Twitter\n",
      "Mastodon] this victory or [Return to Your Advent Calendar].\u001b[0m\n"
     ]
    }
   ],
   "source": [
    "submit(p2, day=day, part='b', year=year)"
   ]
  }
 ],
 "metadata": {
  "kernelspec": {
   "display_name": "conda_base",
   "language": "python",
   "name": "conda_base"
  },
  "language_info": {
   "codemirror_mode": {
    "name": "ipython",
    "version": 3
   },
   "file_extension": ".py",
   "mimetype": "text/x-python",
   "name": "python",
   "nbconvert_exporter": "python",
   "pygments_lexer": "ipython3",
   "version": "3.11.5"
  }
 },
 "nbformat": 4,
 "nbformat_minor": 5
}
