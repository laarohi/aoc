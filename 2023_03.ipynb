{
 "cells": [
  {
   "cell_type": "code",
   "execution_count": 153,
   "id": "021838ca-c426-4c3d-b155-dcef79098cb1",
   "metadata": {},
   "outputs": [],
   "source": [
    "from aoc_utils import *\n",
    "\n",
    "import pandas as pd\n",
    "import numpy as np\n",
    "\n",
    "from aocd import get_data, submit"
   ]
  },
  {
   "cell_type": "code",
   "execution_count": 154,
   "id": "9c8b3281-561d-485d-a78e-99929790addf",
   "metadata": {},
   "outputs": [],
   "source": [
    "year = 2023\n",
    "day = 3"
   ]
  },
  {
   "cell_type": "code",
   "execution_count": 155,
   "id": "f942dbf5-a17e-475a-9c28-b7b699ba4436",
   "metadata": {},
   "outputs": [],
   "source": [
    "dat = get_data(day=day, year=year, block=True)"
   ]
  },
  {
   "cell_type": "code",
   "execution_count": 161,
   "id": "f1ebf338-f7cd-432e-b2ee-d5638781b52c",
   "metadata": {
    "scrolled": true
   },
   "outputs": [],
   "source": [
    "g = Grid(dat.splitlines(), directions=directions9)\n",
    "line = -1\n",
    "is_dig = False\n",
    "near_symbol = False\n",
    "num = ''\n",
    "res = []\n",
    "for k,v in sorted(g.items(), key=lambda x:(x[0][1],x[0][0])):\n",
    "    if line != k[1]:\n",
    "        if near_symbol and num:\n",
    "            res.append(int(num))\n",
    "        is_dig = False\n",
    "        line = k[1]\n",
    "        near_symbol = False\n",
    "        num = ''\n",
    "    if v.isnumeric():\n",
    "        num += v\n",
    "        is_dig = True\n",
    "        for n in g.neighbor_contents(k):\n",
    "            if not n.isnumeric() and n != '.':\n",
    "                near_symbol = True\n",
    "    else:\n",
    "        is_dig = False\n",
    "        if near_symbol and num:\n",
    "            res.append(int(num))\n",
    "        if near_symbol and not num:\n",
    "            raise Exception\n",
    "        near_symbol = False\n",
    "        num = ''\n",
    "        \n",
    "p1 = sum(res)"
   ]
  },
  {
   "cell_type": "code",
   "execution_count": 164,
   "id": "43605b0a-b15c-494a-8a3a-10f8550e1499",
   "metadata": {
    "scrolled": true
   },
   "outputs": [
    {
     "name": "stdout",
     "output_type": "stream",
     "text": [
      "Part a already solved with same answer: 528819\n"
     ]
    }
   ],
   "source": [
    "submit(p1, day=day, part='a', year=year)"
   ]
  },
  {
   "cell_type": "code",
   "execution_count": 163,
   "id": "ec891eb5-14fa-45a6-9938-34137e402c80",
   "metadata": {},
   "outputs": [],
   "source": [
    "g = Grid(dat.splitlines(), directions=directions9)\n",
    "\n",
    "def get_int(g,k):\n",
    "    num = g[k]\n",
    "    kb = k\n",
    "    while True:\n",
    "        kb = add2(kb,West)\n",
    "        if kb[0] < 0:\n",
    "            break\n",
    "        if g[kb].isnumeric():\n",
    "            num = g[kb] + num\n",
    "        else:\n",
    "            break\n",
    "    kf = k\n",
    "    while True:\n",
    "        kf = add2(kf,East)\n",
    "        if kf[0] >= len(dat.splitlines()[0]):\n",
    "            break\n",
    "        if g[kf].isnumeric():\n",
    "            num = num + g[kf]\n",
    "        else:\n",
    "            break\n",
    "    return int(num)\n",
    "    \n",
    "res = []\n",
    "for k,v in sorted(g.items(), key=lambda x:(x[0][1],x[0][0])):\n",
    "    if v == \"*\":\n",
    "        #print(v)\n",
    "        num += v\n",
    "        is_dig = True\n",
    "        n = g.neighbors(k)\n",
    "        n = sorted(g.neighbors(k), key=lambda x:(x[1],x[0]))\n",
    "        n_g = itertools.groupby(n, key=lambda x: x[1])\n",
    "        g_res = []\n",
    "        for _,grp in n_g:\n",
    "            is_dig = False\n",
    "            for kn in grp:\n",
    "                if g[kn].isnumeric():\n",
    "                    if not is_dig:\n",
    "                        g_res.append(get_int(g,kn))\n",
    "                    is_dig = True\n",
    "                else:\n",
    "                    is_dig = False\n",
    "        if len(g_res) == 2:\n",
    "            res.append(prod(g_res))\n",
    "\n",
    "p2 = sum(res)"
   ]
  },
  {
   "cell_type": "code",
   "execution_count": 165,
   "id": "97419d4a-445d-49af-b661-8a7a11804406",
   "metadata": {
    "scrolled": true
   },
   "outputs": [
    {
     "name": "stdout",
     "output_type": "stream",
     "text": [
      "Part b already solved with same answer: 80403602\n"
     ]
    }
   ],
   "source": [
    "submit(p2, day=day, part='b', year=year)"
   ]
  },
  {
   "cell_type": "code",
   "execution_count": null,
   "id": "f58f6829-1818-4045-ad8b-37dcbd85c263",
   "metadata": {},
   "outputs": [],
   "source": []
  }
 ],
 "metadata": {
  "kernelspec": {
   "display_name": "conda_base",
   "language": "python",
   "name": "conda_base"
  },
  "language_info": {
   "codemirror_mode": {
    "name": "ipython",
    "version": 3
   },
   "file_extension": ".py",
   "mimetype": "text/x-python",
   "name": "python",
   "nbconvert_exporter": "python",
   "pygments_lexer": "ipython3",
   "version": "3.11.5"
  }
 },
 "nbformat": 4,
 "nbformat_minor": 5
}
