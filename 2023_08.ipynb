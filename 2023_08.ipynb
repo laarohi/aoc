{
 "cells": [
  {
   "cell_type": "code",
   "execution_count": 1,
   "id": "021838ca-c426-4c3d-b155-dcef79098cb1",
   "metadata": {},
   "outputs": [],
   "source": [
    "from aoc_utils import *\n",
    "\n",
    "import pandas as pd\n",
    "import numpy as np\n",
    "\n",
    "from aocd import get_data, submit"
   ]
  },
  {
   "cell_type": "code",
   "execution_count": 2,
   "id": "9c8b3281-561d-485d-a78e-99929790addf",
   "metadata": {},
   "outputs": [],
   "source": [
    "year = 2023\n",
    "day = 8"
   ]
  },
  {
   "cell_type": "code",
   "execution_count": 54,
   "id": "f942dbf5-a17e-475a-9c28-b7b699ba4436",
   "metadata": {},
   "outputs": [],
   "source": [
    "dat = get_data(day=day, year=year, block=True)"
   ]
  },
  {
   "cell_type": "code",
   "execution_count": 55,
   "id": "f1ebf338-f7cd-432e-b2ee-d5638781b52c",
   "metadata": {
    "scrolled": true
   },
   "outputs": [],
   "source": [
    "inst, dirs = dat.split('\\n\\n')\n",
    "dirs = {x[0]:(x[1],x[2]) for x in parse(dirs, atoms)}"
   ]
  },
  {
   "cell_type": "code",
   "execution_count": 14,
   "id": "c8c2733c-b607-4f14-8c95-70df909ad971",
   "metadata": {},
   "outputs": [],
   "source": [
    "pos = 'AAA'\n",
    "lr = 'LR'\n",
    "step = 0\n",
    "while pos != 'ZZZ':\n",
    "    for s in inst:\n",
    "        step += 1\n",
    "        pos = dirs[pos][lr.index(s)]\n",
    "        if pos == 'ZZZ':\n",
    "            break\n",
    "        \n",
    "p1 = step        "
   ]
  },
  {
   "cell_type": "code",
   "execution_count": 15,
   "id": "43605b0a-b15c-494a-8a3a-10f8550e1499",
   "metadata": {},
   "outputs": [
    {
     "name": "stdout",
     "output_type": "stream",
     "text": [
      "\u001b[32mThat's the right answer!  You are one gold star closer to restoring snow operations. [Continue to Part Two]\u001b[0m\n"
     ]
    },
    {
     "data": {
      "text/plain": [
       "<urllib3.response.HTTPResponse at 0x1332f0970>"
      ]
     },
     "execution_count": 15,
     "metadata": {},
     "output_type": "execute_result"
    }
   ],
   "source": [
    "submit(p1, day=day, part='a', year=year)"
   ]
  },
  {
   "cell_type": "code",
   "execution_count": 59,
   "id": "8d8acd91-44e3-4d0d-9739-f89866464ef7",
   "metadata": {},
   "outputs": [
    {
     "name": "stdout",
     "output_type": "stream",
     "text": [
      "['SLA', 'AAA', 'LVA', 'NPA', 'GDA', 'RCA']\n"
     ]
    }
   ],
   "source": [
    "pos = [p for p in dirs if p.endswith('A')]\n",
    "lr = 'LR'\n",
    "step = 0\n",
    "print(pos)\n",
    "step_c = defaultdict(list)\n",
    "\n",
    "# I thought that the mapping cycles from the second map onwards\n",
    "for p in pos:\n",
    "    p_init = p\n",
    "    while len(step_c[p_init]) < 2:\n",
    "        for s in inst:\n",
    "            step += 1\n",
    "            p = dirs[p][lr.index(s)]\n",
    "            if p.endswith('Z'):\n",
    "                step_c[p_init].append(step)\n",
    "                step = 0\n",
    "    \n",
    "s = [v[1] for v in step_c.values()]\n",
    "import math \n",
    "p2 = math.lcm(*s)"
   ]
  },
  {
   "cell_type": "code",
   "execution_count": 61,
   "id": "97419d4a-445d-49af-b661-8a7a11804406",
   "metadata": {
    "scrolled": true
   },
   "outputs": [
    {
     "name": "stdout",
     "output_type": "stream",
     "text": [
      "\u001b[32mThat's the right answer!  You are one gold star closer to restoring snow operations.You have completed Day 8! You can [Shareon\n",
      "  Twitter\n",
      "Mastodon] this victory or [Return to Your Advent Calendar].\u001b[0m\n"
     ]
    },
    {
     "data": {
      "text/plain": [
       "<urllib3.response.HTTPResponse at 0x133346e30>"
      ]
     },
     "execution_count": 61,
     "metadata": {},
     "output_type": "execute_result"
    }
   ],
   "source": [
    "submit(p2, day=day, part='b', year=year)"
   ]
  },
  {
   "cell_type": "code",
   "execution_count": null,
   "id": "f8d74acb-a265-440a-aa1a-c3a816bddac2",
   "metadata": {},
   "outputs": [],
   "source": []
  }
 ],
 "metadata": {
  "kernelspec": {
   "display_name": "conda_base",
   "language": "python",
   "name": "conda_base"
  },
  "language_info": {
   "codemirror_mode": {
    "name": "ipython",
    "version": 3
   },
   "file_extension": ".py",
   "mimetype": "text/x-python",
   "name": "python",
   "nbconvert_exporter": "python",
   "pygments_lexer": "ipython3",
   "version": "3.11.5"
  }
 },
 "nbformat": 4,
 "nbformat_minor": 5
}
