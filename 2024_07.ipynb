{
 "cells": [
  {
   "cell_type": "code",
   "execution_count": 1,
   "id": "021838ca-c426-4c3d-b155-dcef79098cb1",
   "metadata": {},
   "outputs": [],
   "source": [
    "from aoc_utils import *\n",
    "\n",
    "import pandas as pd\n",
    "import numpy as np\n",
    "\n",
    "from aocd import get_data, submit"
   ]
  },
  {
   "cell_type": "code",
   "execution_count": 2,
   "id": "9c8b3281-561d-485d-a78e-99929790addf",
   "metadata": {},
   "outputs": [],
   "source": [
    "year, day = 2024, 7"
   ]
  },
  {
   "cell_type": "code",
   "execution_count": 73,
   "id": "8a779b7e-bfb0-4eee-98fd-0ab206089a89",
   "metadata": {},
   "outputs": [],
   "source": [
    "dat = '''190: 10 19\n",
    "3267: 81 40 27\n",
    "83: 17 5\n",
    "156: 15 6\n",
    "7290: 6 8 6 15\n",
    "161011: 16 10 13\n",
    "192: 17 8 14\n",
    "21037: 9 7 18 13\n",
    "292: 11 6 16 20'''"
   ]
  },
  {
   "cell_type": "code",
   "execution_count": 76,
   "id": "f942dbf5-a17e-475a-9c28-b7b699ba4436",
   "metadata": {},
   "outputs": [],
   "source": [
    "dat = get_data(day=day, year=year, block=True)\n",
    "d = parse(dat, ints)"
   ]
  },
  {
   "cell_type": "code",
   "execution_count": 30,
   "id": "2469142b-bbee-4383-b8ef-c7a697d8155c",
   "metadata": {},
   "outputs": [],
   "source": [
    "# plan: go left to right, if divisible then either +/* else just plus\n",
    "def is_possible(res, vals):\n",
    "    val = vals[-1]\n",
    "    mul_pos = False\n",
    "    add_pos = False\n",
    "    if len(vals) == 1:\n",
    "        return res == val\n",
    "        \n",
    "    if res % val == 0:\n",
    "        new_res = int(res/val)\n",
    "        mul_pos = is_possible(new_res, vals[:-1])\n",
    "        \n",
    "    if res - val > 0:\n",
    "        new_res = res - val\n",
    "        add_pos = is_possible(new_res, vals[:-1])\n",
    "\n",
    "    return mul_pos or add_pos"
   ]
  },
  {
   "cell_type": "code",
   "execution_count": 31,
   "id": "35a78358-ed6d-49a2-85dc-075cce20d157",
   "metadata": {},
   "outputs": [
    {
     "data": {
      "text/plain": [
       "882304362421"
      ]
     },
     "execution_count": 31,
     "metadata": {},
     "output_type": "execute_result"
    }
   ],
   "source": [
    "p1 = 0\n",
    "\n",
    "for v  in d:\n",
    "    res, vals = v[0], v[1:]\n",
    "    # print(res, vals, is_possible(res, vals))\n",
    "    p1 += (res * is_possible(res, vals))\n",
    "\n",
    "p1"
   ]
  },
  {
   "cell_type": "code",
   "execution_count": 32,
   "id": "43605b0a-b15c-494a-8a3a-10f8550e1499",
   "metadata": {
    "scrolled": true
   },
   "outputs": [
    {
     "name": "stdout",
     "output_type": "stream",
     "text": [
      "\u001b[32mThat's the right answer!  You are one gold star closer to finding the Chief Historian. [Continue to Part Two]\u001b[0m\n"
     ]
    },
    {
     "data": {
      "text/plain": [
       "<urllib3.response.HTTPResponse at 0x1466268f0>"
      ]
     },
     "execution_count": 32,
     "metadata": {},
     "output_type": "execute_result"
    }
   ],
   "source": [
    "submit(p1, day=day, part='a', year=year)"
   ]
  },
  {
   "cell_type": "code",
   "execution_count": 77,
   "id": "ee3bb7f4-8336-4689-9eff-f2ee3a0c21fb",
   "metadata": {},
   "outputs": [],
   "source": [
    "def is_possible(res, vals):\n",
    "    val = vals[0]\n",
    "    mul_pos = False\n",
    "    add_pos = False\n",
    "    cat_pos = False\n",
    "    if len(vals) == 1:\n",
    "        return res == val\n",
    "        \n",
    "    next_val = vals[1]\n",
    "    if (new_val := val * next_val) <= res:\n",
    "        new_vals = (new_val,) + vals[2:]\n",
    "        mul_pos = is_possible(res, new_vals)\n",
    "        \n",
    "    if (new_val := val + next_val) <= res:\n",
    "        new_vals = (new_val,) + vals[2:]\n",
    "        add_pos = is_possible(res, new_vals)\n",
    "    \n",
    "    if (new_val :=int(str(val) + str(next_val))) <= res:\n",
    "        new_vals = (new_val,) + vals[2:]\n",
    "        cat_pos = is_possible(res, new_vals)\n",
    "\n",
    "    return mul_pos or add_pos or cat_pos"
   ]
  },
  {
   "cell_type": "code",
   "execution_count": 92,
   "id": "f2c9f1a3-129d-44de-9b5e-882b9cc419e1",
   "metadata": {},
   "outputs": [
    {
     "name": "stdout",
     "output_type": "stream",
     "text": [
      "0 145149066755184\n",
      "2.7738161087036133\n"
     ]
    }
   ],
   "source": [
    "dat = get_data(day=day, year=year, block=True)\n",
    "d = parse(dat, ints)\n",
    "\n",
    "cat = lambda x,y: int(str(x) + str(y))\n",
    "ops_p1 = [int.__mul__, int.__add__]\n",
    "ops_p2 = [int.__mul__, int.__add__, cat]\n",
    "\n",
    "def is_possible(res, vals, ops):\n",
    "    possible = False\n",
    "    \n",
    "    if len(vals) == 1:\n",
    "        return res == vals[0]\n",
    "        \n",
    "    for op in ops:\n",
    "        if (new_val := op(vals[0], vals[1])) <= res:\n",
    "            new_vals = (new_val,) + vals[2:]\n",
    "            possible |= is_possible(res, new_vals, ops)\n",
    "        \n",
    "    return possible\n",
    "\n",
    "p1 = p2 = 0\n",
    "\n",
    "import time\n",
    "start = time.time()\n",
    "for v in d:\n",
    "    res, vals = v[0], v[1:]\n",
    "    # p1 += (res * is_possible(res, vals, ops_p1))\n",
    "    p2 += (res * is_possible(res, vals, ops_p2))\n",
    "\n",
    "print(p1, p2)\n",
    "print(time.time()-start)"
   ]
  },
  {
   "cell_type": "code",
   "execution_count": 84,
   "id": "f607f900-5663-4914-b7fc-9fb8c47d2ad7",
   "metadata": {},
   "outputs": [
    {
     "data": {
      "text/plain": [
       "20"
      ]
     },
     "execution_count": 84,
     "metadata": {},
     "output_type": "execute_result"
    }
   ],
   "source": [
    "int.__mul__(4,)"
   ]
  },
  {
   "cell_type": "code",
   "execution_count": 78,
   "id": "a3271f96-a976-4ea8-a97e-101faffc7f99",
   "metadata": {},
   "outputs": [
    {
     "data": {
      "text/plain": [
       "145149066755184"
      ]
     },
     "execution_count": 78,
     "metadata": {},
     "output_type": "execute_result"
    }
   ],
   "source": [
    "p2 = 0\n",
    "\n",
    "for v  in d:\n",
    "    res, vals = v[0], v[1:]\n",
    "    # print(res, vals)\n",
    "    p2 += (res * is_possible(res, vals))\n",
    "\n",
    "p2"
   ]
  },
  {
   "cell_type": "code",
   "execution_count": 79,
   "id": "97419d4a-445d-49af-b661-8a7a11804406",
   "metadata": {
    "scrolled": true
   },
   "outputs": [
    {
     "name": "stdout",
     "output_type": "stream",
     "text": [
      "\u001b[32mThat's the right answer!  You are one gold star closer to finding the Chief Historian.You have completed Day 7! You can [Shareon\n",
      "  Bluesky\n",
      "Twitter\n",
      "Mastodon] this victory or [Return to Your Advent Calendar].\u001b[0m\n"
     ]
    },
    {
     "data": {
      "text/plain": [
       "<urllib3.response.HTTPResponse at 0x14668a5c0>"
      ]
     },
     "execution_count": 79,
     "metadata": {},
     "output_type": "execute_result"
    }
   ],
   "source": [
    "submit(p2, day=day, part='b', year=year)"
   ]
  },
  {
   "cell_type": "code",
   "execution_count": null,
   "id": "279e3b52-ea7b-432e-b030-57022f648633",
   "metadata": {},
   "outputs": [],
   "source": []
  }
 ],
 "metadata": {
  "kernelspec": {
   "display_name": "conda_base",
   "language": "python",
   "name": "conda_base"
  },
  "language_info": {
   "codemirror_mode": {
    "name": "ipython",
    "version": 3
   },
   "file_extension": ".py",
   "mimetype": "text/x-python",
   "name": "python",
   "nbconvert_exporter": "python",
   "pygments_lexer": "ipython3",
   "version": "3.11.5"
  }
 },
 "nbformat": 4,
 "nbformat_minor": 5
}
