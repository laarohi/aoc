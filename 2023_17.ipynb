{
 "cells": [
  {
   "cell_type": "code",
   "execution_count": 1,
   "id": "021838ca-c426-4c3d-b155-dcef79098cb1",
   "metadata": {},
   "outputs": [],
   "source": [
    "from aoc_utils import *\n",
    "\n",
    "import pandas as pd\n",
    "import numpy as np\n",
    "\n",
    "from aocd import get_data, submit"
   ]
  },
  {
   "cell_type": "code",
   "execution_count": 2,
   "id": "9c8b3281-561d-485d-a78e-99929790addf",
   "metadata": {},
   "outputs": [],
   "source": [
    "year = 2023\n",
    "day = 17"
   ]
  },
  {
   "cell_type": "code",
   "execution_count": 3,
   "id": "f942dbf5-a17e-475a-9c28-b7b699ba4436",
   "metadata": {},
   "outputs": [],
   "source": [
    "dat = get_data(day=day, year=year, block=True)"
   ]
  },
  {
   "cell_type": "code",
   "execution_count": 4,
   "id": "f1ebf338-f7cd-432e-b2ee-d5638781b52c",
   "metadata": {
    "scrolled": true
   },
   "outputs": [],
   "source": [
    "dat = '''2413432311323\n",
    "3215453535623\n",
    "3255245654254\n",
    "3446585845452\n",
    "4546657867536\n",
    "1438598798454\n",
    "4457876987766\n",
    "3637877979653\n",
    "4654967986887\n",
    "4564679986453\n",
    "1224686865563\n",
    "2546548887735\n",
    "4322674655533'''"
   ]
  },
  {
   "cell_type": "code",
   "execution_count": 5,
   "id": "4acd6f26-b2f1-4b90-bcaa-66ed45406137",
   "metadata": {},
   "outputs": [],
   "source": [
    "g = Grid(dat)"
   ]
  },
  {
   "cell_type": "code",
   "execution_count": 24,
   "id": "90fdd7dc-3f59-4be6-a1ea-07894046bcc1",
   "metadata": {},
   "outputs": [],
   "source": [
    "from heapq import heappush, heappop, heapify\n",
    "start = (0,0)\n",
    "end = max(g.keys())\n",
    "to_search = []\n",
    "paths = []\n",
    "four_in_a_row = lambda a,b: max(map(abs, sub(a,b))) == 4\n",
    "path_value = lambda path_cost, dist: path_cost + dist\n",
    "start_dist = taxi_distance(start, end)\n",
    "start_value = \n",
    "heappush(to_search, (0,taxi_distance(start, end),start,[start]))\n",
    "while not paths:\n",
    "    path_cost, dist, loc, path = heappop(to_search)\n",
    "    if dist == 0:\n",
    "        paths.append((path_cost, path))\n",
    "    else:\n",
    "        for n in g.neighbors(loc):\n",
    "            if len(path) >= 2 and n == path[-2]:\n",
    "                # not allowed to go in reverse \n",
    "                continue\n",
    "            if len(path) >= 3 and four_in_a_row(n, path[-3]):\n",
    "                # not allowed to have four in a row\n",
    "                continue\n",
    "            n_details = (path_cost+g[n], taxi_distance(n, end), n, path + [n])\n",
    "            heappush(to_search, n_details)\n",
    "        \n",
    "            \n",
    "        \n",
    "    "
   ]
  },
  {
   "cell_type": "code",
   "execution_count": null,
   "id": "6b3d25d7-4ccb-44b1-a6b0-5968d903bb88",
   "metadata": {},
   "outputs": [],
   "source": []
  },
  {
   "cell_type": "code",
   "execution_count": 5,
   "id": "43605b0a-b15c-494a-8a3a-10f8550e1499",
   "metadata": {
    "scrolled": true
   },
   "outputs": [
    {
     "name": "stdout",
     "output_type": "stream",
     "text": [
      "Part a already solved with same answer: 56042\n"
     ]
    }
   ],
   "source": [
    "submit(p1, day=day, part='a', year=year)"
   ]
  },
  {
   "cell_type": "code",
   "execution_count": 27,
   "id": "5f65e1f4-8298-4862-be2a-f9cdd18f0576",
   "metadata": {},
   "outputs": [
    {
     "data": {
      "text/plain": [
       "12"
      ]
     },
     "execution_count": 27,
     "metadata": {},
     "output_type": "execute_result"
    }
   ],
   "source": [
    "max(map(abs,sub(end, start)))"
   ]
  },
  {
   "cell_type": "code",
   "execution_count": 8,
   "id": "97419d4a-445d-49af-b661-8a7a11804406",
   "metadata": {
    "scrolled": true
   },
   "outputs": [
    {
     "name": "stdout",
     "output_type": "stream",
     "text": [
      "Part b already solved with same answer: 55358\n"
     ]
    }
   ],
   "source": [
    "submit(p2, day=day, part='b', year=year)"
   ]
  }
 ],
 "metadata": {
  "kernelspec": {
   "display_name": "conda_base",
   "language": "python",
   "name": "conda_base"
  },
  "language_info": {
   "codemirror_mode": {
    "name": "ipython",
    "version": 3
   },
   "file_extension": ".py",
   "mimetype": "text/x-python",
   "name": "python",
   "nbconvert_exporter": "python",
   "pygments_lexer": "ipython3",
   "version": "3.11.5"
  }
 },
 "nbformat": 4,
 "nbformat_minor": 5
}
