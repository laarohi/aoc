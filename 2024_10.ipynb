{
 "cells": [
  {
   "cell_type": "code",
   "execution_count": 2,
   "id": "021838ca-c426-4c3d-b155-dcef79098cb1",
   "metadata": {},
   "outputs": [],
   "source": [
    "from aoc_utils import *\n",
    "\n",
    "import pandas as pd\n",
    "import numpy as np\n",
    "\n",
    "from aocd import get_data, submit"
   ]
  },
  {
   "cell_type": "code",
   "execution_count": 3,
   "id": "9c8b3281-561d-485d-a78e-99929790addf",
   "metadata": {},
   "outputs": [],
   "source": [
    "year = 2024\n",
    "day = 10"
   ]
  },
  {
   "cell_type": "code",
   "execution_count": 30,
   "id": "f942dbf5-a17e-475a-9c28-b7b699ba4436",
   "metadata": {},
   "outputs": [],
   "source": [
    "dat = get_data(day=day, year=year, block=True)"
   ]
  },
  {
   "cell_type": "code",
   "execution_count": 27,
   "id": "191624cf-d6b9-44e5-81a1-11ede30e56b4",
   "metadata": {},
   "outputs": [],
   "source": [
    "dat = '''89010123\n",
    "78121874\n",
    "87430965\n",
    "96549874\n",
    "45678903\n",
    "32019012\n",
    "01329801\n",
    "10456732'''"
   ]
  },
  {
   "cell_type": "code",
   "execution_count": 31,
   "id": "f1ebf338-f7cd-432e-b2ee-d5638781b52c",
   "metadata": {
    "scrolled": true
   },
   "outputs": [
    {
     "data": {
      "text/plain": [
       "(652, 1432)"
      ]
     },
     "execution_count": 31,
     "metadata": {},
     "output_type": "execute_result"
    }
   ],
   "source": [
    "d = parse(dat, digits)\n",
    "g = Grid(d)\n",
    "\n",
    "def find_score(p):\n",
    "    final_pos = set()\n",
    "    to_search = [p]\n",
    "    while to_search:\n",
    "        s = to_search.pop()\n",
    "        if g[s] == 9:\n",
    "            final_pos.add(s)\n",
    "            continue\n",
    "        for n in g.neighbors(s):\n",
    "            if g[n] == (g[s] + 1):\n",
    "                to_search.append(n)\n",
    "    return len(final_pos)\n",
    "    \n",
    "def find_rating(p):\n",
    "    paths = set()\n",
    "    to_search = [(p,)]\n",
    "    while to_search:\n",
    "        s = to_search.pop()\n",
    "        if g[s[-1]] == 9:\n",
    "            paths.add(s)\n",
    "            continue\n",
    "        for n in g.neighbors(s[-1]):\n",
    "            if g[n] == (g[s[-1]] + 1):\n",
    "                to_search.append(s + (n,))\n",
    "    return len(paths)\n",
    "\n",
    "p1 = p2 = 0\n",
    "for p in g:\n",
    "    if g[p] != 0:\n",
    "        continue\n",
    "    # print(p, find_score(p))\n",
    "    p1 += find_score(p)\n",
    "    p2 += find_rating(p)\n",
    "\n",
    "p1, p2"
   ]
  },
  {
   "cell_type": "code",
   "execution_count": 26,
   "id": "43605b0a-b15c-494a-8a3a-10f8550e1499",
   "metadata": {
    "scrolled": true
   },
   "outputs": [
    {
     "name": "stdout",
     "output_type": "stream",
     "text": [
      "\u001b[32mThat's the right answer!  You are one gold star closer to finding the Chief Historian. [Continue to Part Two]\u001b[0m\n"
     ]
    },
    {
     "data": {
      "text/plain": [
       "<urllib3.response.HTTPResponse at 0x15ee5fcd0>"
      ]
     },
     "execution_count": 26,
     "metadata": {},
     "output_type": "execute_result"
    }
   ],
   "source": [
    "submit(p1, day=day, part='a', year=year)"
   ]
  },
  {
   "cell_type": "code",
   "execution_count": 6,
   "id": "5f65e1f4-8298-4862-be2a-f9cdd18f0576",
   "metadata": {},
   "outputs": [],
   "source": []
  },
  {
   "cell_type": "code",
   "execution_count": 32,
   "id": "97419d4a-445d-49af-b661-8a7a11804406",
   "metadata": {
    "scrolled": true
   },
   "outputs": [
    {
     "name": "stdout",
     "output_type": "stream",
     "text": [
      "\u001b[32mThat's the right answer!  You are one gold star closer to finding the Chief Historian.You have completed Day 10! You can [Shareon\n",
      "  Bluesky\n",
      "Twitter\n",
      "Mastodon] this victory or [Return to Your Advent Calendar].\u001b[0m\n"
     ]
    },
    {
     "data": {
      "text/plain": [
       "<urllib3.response.HTTPResponse at 0x15f341b40>"
      ]
     },
     "execution_count": 32,
     "metadata": {},
     "output_type": "execute_result"
    }
   ],
   "source": [
    "submit(p2, day=day, part='b', year=year)"
   ]
  },
  {
   "cell_type": "code",
   "execution_count": null,
   "id": "850f1e63-c7ed-4431-ac05-7ad43238714e",
   "metadata": {},
   "outputs": [],
   "source": []
  }
 ],
 "metadata": {
  "kernelspec": {
   "display_name": "conda_base",
   "language": "python",
   "name": "conda_base"
  },
  "language_info": {
   "codemirror_mode": {
    "name": "ipython",
    "version": 3
   },
   "file_extension": ".py",
   "mimetype": "text/x-python",
   "name": "python",
   "nbconvert_exporter": "python",
   "pygments_lexer": "ipython3",
   "version": "3.11.5"
  }
 },
 "nbformat": 4,
 "nbformat_minor": 5
}
