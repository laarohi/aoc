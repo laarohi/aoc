{
 "cells": [
  {
   "cell_type": "code",
   "execution_count": 1,
   "id": "021838ca-c426-4c3d-b155-dcef79098cb1",
   "metadata": {},
   "outputs": [],
   "source": [
    "from aoc_utils import *\n",
    "\n",
    "import pandas as pd\n",
    "import numpy as np\n",
    "\n",
    "from aocd import get_data, submit"
   ]
  },
  {
   "cell_type": "code",
   "execution_count": 2,
   "id": "9c8b3281-561d-485d-a78e-99929790addf",
   "metadata": {},
   "outputs": [],
   "source": [
    "year = 2024\n",
    "day = 11"
   ]
  },
  {
   "cell_type": "code",
   "execution_count": 3,
   "id": "f942dbf5-a17e-475a-9c28-b7b699ba4436",
   "metadata": {},
   "outputs": [
    {
     "name": "stdout",
     "output_type": "stream",
     "text": [
      "                                                                               \n"
     ]
    }
   ],
   "source": [
    "dat = get_data(day=day, year=year, block=True)"
   ]
  },
  {
   "cell_type": "code",
   "execution_count": 24,
   "id": "475f18a6-331f-46e6-a987-0709a0d29255",
   "metadata": {},
   "outputs": [
    {
     "data": {
      "text/plain": [
       "[0, 27, 5409930, 828979, 4471, 3, 68524, 170]"
      ]
     },
     "execution_count": 24,
     "metadata": {},
     "output_type": "execute_result"
    }
   ],
   "source": [
    "d = [int(s) for s in dat.split(' ')]\n",
    "d"
   ]
  },
  {
   "cell_type": "code",
   "execution_count": 30,
   "id": "f1ebf338-f7cd-432e-b2ee-d5638781b52c",
   "metadata": {
    "scrolled": true
   },
   "outputs": [
    {
     "data": {
      "text/plain": [
       "232454623677743"
      ]
     },
     "execution_count": 30,
     "metadata": {},
     "output_type": "execute_result"
    }
   ],
   "source": [
    "\n",
    "def stone_transform(s):\n",
    "    if s == 0:\n",
    "        return [1]\n",
    "    if len(str(s)) % 2 == 0:\n",
    "        s = str(s)\n",
    "        return [int(s[:len(s)//2]), int(s[len(s)//2:])]\n",
    "    else:\n",
    "        return [s * 2024]\n",
    "\n",
    "@cache\n",
    "def stone_count(s, max_blinks, c_blinks=0):\n",
    "    if c_blinks == max_blinks:\n",
    "        return 1\n",
    "        \n",
    "    c = 0\n",
    "    t = stone_transform(s)\n",
    "    c_blinks += 1\n",
    "    for _c in t:\n",
    "        c += stone_count(_c, max_blinks, c_blinks)\n",
    "    return c \n",
    "\n",
    "p1 = 0\n",
    "for s in d:\n",
    "    p1 += stone_count(s, 25) \n",
    "p2 = 0\n",
    "for s in d:\n",
    "    p2 += stone_count(s, 75) "
   ]
  },
  {
   "cell_type": "code",
   "execution_count": null,
   "id": "ee6728cf-ee77-4cd8-a0c0-1c408bb73b1d",
   "metadata": {},
   "outputs": [],
   "source": [
    "sl = [125,17]\n",
    "res = []\n",
    "for i, s in sl:\n",
    "    for j in range(blinks):\n",
    "        if \n"
   ]
  },
  {
   "cell_type": "code",
   "execution_count": 5,
   "id": "43605b0a-b15c-494a-8a3a-10f8550e1499",
   "metadata": {
    "scrolled": true
   },
   "outputs": [
    {
     "name": "stdout",
     "output_type": "stream",
     "text": [
      "Part a already solved with same answer: 56042\n"
     ]
    }
   ],
   "source": [
    "submit(p1, day=day, part='a', year=year)"
   ]
  },
  {
   "cell_type": "code",
   "execution_count": 6,
   "id": "5f65e1f4-8298-4862-be2a-f9cdd18f0576",
   "metadata": {},
   "outputs": [],
   "source": []
  },
  {
   "cell_type": "code",
   "execution_count": 8,
   "id": "97419d4a-445d-49af-b661-8a7a11804406",
   "metadata": {
    "scrolled": true
   },
   "outputs": [
    {
     "name": "stdout",
     "output_type": "stream",
     "text": [
      "Part b already solved with same answer: 55358\n"
     ]
    }
   ],
   "source": [
    "submit(p2, day=day, part='b', year=year)"
   ]
  }
 ],
 "metadata": {
  "kernelspec": {
   "display_name": "conda_base",
   "language": "python",
   "name": "conda_base"
  },
  "language_info": {
   "codemirror_mode": {
    "name": "ipython",
    "version": 3
   },
   "file_extension": ".py",
   "mimetype": "text/x-python",
   "name": "python",
   "nbconvert_exporter": "python",
   "pygments_lexer": "ipython3",
   "version": "3.11.5"
  }
 },
 "nbformat": 4,
 "nbformat_minor": 5
}
