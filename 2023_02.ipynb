{
 "cells": [
  {
   "cell_type": "code",
   "execution_count": 1,
   "id": "021838ca-c426-4c3d-b155-dcef79098cb1",
   "metadata": {},
   "outputs": [],
   "source": [
    "from aoc_utils import *\n",
    "\n",
    "import pandas as pd\n",
    "import numpy as np\n",
    "\n",
    "from aocd import get_data, submit"
   ]
  },
  {
   "cell_type": "code",
   "execution_count": 2,
   "id": "9c8b3281-561d-485d-a78e-99929790addf",
   "metadata": {},
   "outputs": [],
   "source": [
    "year = 2023\n",
    "day = 2"
   ]
  },
  {
   "cell_type": "code",
   "execution_count": 3,
   "id": "f942dbf5-a17e-475a-9c28-b7b699ba4436",
   "metadata": {},
   "outputs": [],
   "source": [
    "dat = get_data(day=day, year=year, block=True)"
   ]
  },
  {
   "cell_type": "code",
   "execution_count": 4,
   "id": "fc27f99e-9249-4b8a-b1c4-31cdd2b0ff88",
   "metadata": {},
   "outputs": [],
   "source": [
    "# 12 red 13 green 14 blue\n",
    "check = {'red':12, 'green':13, 'blue':14}\n",
    "ids = []\n",
    "impossible = []\n",
    "for l in dat.splitlines():\n",
    "    gid, content = l.split(':')\n",
    "    gid = parse(gid, ints)[0][0]\n",
    "    ids.append(gid)\n",
    "    conts = mapl(lambda x: parse(x, atoms)[0], content.split(';'))\n",
    "    conts = mapl(lambda x: { x[i+1]:x[i] for i in range(0, len(x) , 2)}, conts)\n",
    "    for r in conts:\n",
    "        for k,c in r.items():\n",
    "            if check[k] < c:\n",
    "                impossible.append(gid)\n",
    "\n",
    "pos = set(ids) - set(impossible)\n",
    "p1 = sum(pos)"
   ]
  },
  {
   "cell_type": "code",
   "execution_count": 5,
   "id": "43605b0a-b15c-494a-8a3a-10f8550e1499",
   "metadata": {
    "scrolled": true
   },
   "outputs": [
    {
     "name": "stdout",
     "output_type": "stream",
     "text": [
      "Part a already solved with same answer: 2476\n"
     ]
    }
   ],
   "source": [
    "submit(p1, day=day, part='a', year=year)"
   ]
  },
  {
   "cell_type": "code",
   "execution_count": 6,
   "id": "d20af21c-d856-45f1-9b61-2af8f44d7300",
   "metadata": {},
   "outputs": [],
   "source": [
    "powers = []\n",
    "for l in dat.splitlines():\n",
    "    gid, content = l.split(':')\n",
    "    gid = parse(gid, ints)[0][0]\n",
    "    ids.append(gid)\n",
    "    conts = mapl(lambda x: parse(x, atoms)[0], content.split(';'))\n",
    "    conts = mapl(lambda x: { x[i+1]:x[i] for i in range(0, len(x) , 2)}, conts)\n",
    "    power = defaultdict(int)\n",
    "    for r in conts:\n",
    "        for k,c in r.items():\n",
    "            if power.get(k, 0) < c:\n",
    "                power[k] = c\n",
    "    powers.append(prod(list(power.values())))\n",
    "\n",
    "p2 = sum(powers)"
   ]
  },
  {
   "cell_type": "code",
   "execution_count": 7,
   "id": "97419d4a-445d-49af-b661-8a7a11804406",
   "metadata": {
    "scrolled": true
   },
   "outputs": [
    {
     "name": "stdout",
     "output_type": "stream",
     "text": [
      "Part b already solved with same answer: 54911\n"
     ]
    }
   ],
   "source": [
    "submit(p2, day=day, part='b', year=year)"
   ]
  },
  {
   "cell_type": "markdown",
   "id": "bec2ba45-8a78-4813-808c-0e3cd1d24df7",
   "metadata": {},
   "source": [
    "A more elegant solution with hindsight:"
   ]
  },
  {
   "cell_type": "code",
   "execution_count": 8,
   "id": "201e18e3-129f-4ff9-9197-c1f7f2d9a30e",
   "metadata": {},
   "outputs": [],
   "source": [
    "find_color = lambda color: lambda x: mapt(int, re.findall(r'([0-9]+) ' + color, x))\n",
    "r_max = mapt(max, parse(dat, find_color('red'))) \n",
    "g_max = mapt(max, parse(dat, find_color('green'))) \n",
    "b_max = mapt(max, parse(dat, find_color('blue'))) \n",
    "r = set([i+1 for i,v in enumerate(r_max) if v > 12])\n",
    "g = set([i+1 for i,v in enumerate(g_max) if v > 13])\n",
    "b = set([i+1 for i,v in enumerate(b_max) if v > 14])\n",
    "full_set = set(range(1, len(dat.splitlines())+1))\n",
    "p1 = sum(full_set - r.union(g).union(b))\n",
    "p2 = sum(map(prod, zip(r_max,g_max,b_max)))\n"
   ]
  }
 ],
 "metadata": {
  "kernelspec": {
   "display_name": "conda_base",
   "language": "python",
   "name": "conda_base"
  },
  "language_info": {
   "codemirror_mode": {
    "name": "ipython",
    "version": 3
   },
   "file_extension": ".py",
   "mimetype": "text/x-python",
   "name": "python",
   "nbconvert_exporter": "python",
   "pygments_lexer": "ipython3",
   "version": "3.11.5"
  }
 },
 "nbformat": 4,
 "nbformat_minor": 5
}
