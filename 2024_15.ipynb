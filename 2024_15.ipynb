{
 "cells": [
  {
   "cell_type": "code",
   "execution_count": 1,
   "id": "021838ca-c426-4c3d-b155-dcef79098cb1",
   "metadata": {},
   "outputs": [],
   "source": [
    "from aoc_utils import *\n",
    "\n",
    "import pandas as pd\n",
    "import numpy as np\n",
    "\n",
    "from aocd import get_data, submit"
   ]
  },
  {
   "cell_type": "code",
   "execution_count": 2,
   "id": "9c8b3281-561d-485d-a78e-99929790addf",
   "metadata": {},
   "outputs": [],
   "source": [
    "year = 2024\n",
    "day = 15"
   ]
  },
  {
   "cell_type": "code",
   "execution_count": 61,
   "id": "f942dbf5-a17e-475a-9c28-b7b699ba4436",
   "metadata": {},
   "outputs": [],
   "source": [
    "dat = get_data(day=day, year=year, block=True)"
   ]
  },
  {
   "cell_type": "code",
   "execution_count": 39,
   "id": "006f5229-cfaa-424f-83b1-7cb7de7cf1e0",
   "metadata": {},
   "outputs": [],
   "source": [
    "dat = '''########\n",
    "#..O.O.#\n",
    "##@.O..#\n",
    "#...O..#\n",
    "#.#.O..#\n",
    "#...O..#\n",
    "#......#\n",
    "########\n",
    "\n",
    "<^^>>>vv<v>>v<<'''"
   ]
  },
  {
   "cell_type": "code",
   "execution_count": 36,
   "id": "f1ebf338-f7cd-432e-b2ee-d5638781b52c",
   "metadata": {
    "scrolled": true
   },
   "outputs": [
    {
     "data": {
      "text/plain": [
       "1538871"
      ]
     },
     "execution_count": 36,
     "metadata": {},
     "output_type": "execute_result"
    }
   ],
   "source": [
    "g,d = dat.split('\\n\\n')\n",
    "g = parse(g)\n",
    "g = Grid(g)\n",
    "d = mapl(arrow_direction.get, d)\n",
    "\n",
    "c = [k for k,v in g.items() if v=='@'][0]\n",
    "for dir in d:\n",
    "    if not dir:\n",
    "        continue\n",
    "    box = False\n",
    "    p = add(c, dir)\n",
    "    while g[p] == 'O':\n",
    "        box = True\n",
    "        p = add(p, dir)\n",
    "    if g[p] == '#':\n",
    "        continue\n",
    "    if box:\n",
    "        g[p] = 'O'\n",
    "    g[c] = '.'\n",
    "    c = add(c, dir)\n",
    "    g[c] = '@'\n",
    "\n",
    "p1 = 0\n",
    "for p,v in g.items():\n",
    "    if v == 'O':\n",
    "        p1 += p[0] + 100*p[1]\n",
    "\n",
    "p1\n",
    "        "
   ]
  },
  {
   "cell_type": "code",
   "execution_count": 5,
   "id": "43605b0a-b15c-494a-8a3a-10f8550e1499",
   "metadata": {
    "scrolled": true
   },
   "outputs": [
    {
     "name": "stdout",
     "output_type": "stream",
     "text": [
      "Part a already solved with same answer: 56042\n"
     ]
    }
   ],
   "source": [
    "submit(p1, day=day, part='a', year=year)"
   ]
  },
  {
   "cell_type": "code",
   "execution_count": 58,
   "id": "fe202d1f-727c-4e72-b97e-a26c1b59f3da",
   "metadata": {},
   "outputs": [],
   "source": [
    "dat = '''#######\n",
    "#...#.#\n",
    "#.....#\n",
    "#..OO@#\n",
    "#..O..#\n",
    "#.....#\n",
    "#######\n",
    "\n",
    "<vv<<^^<<^^'''\n",
    "\n",
    "dat = '''##########\n",
    "#..O..O.O#\n",
    "#......O.#\n",
    "#.OO..O.O#\n",
    "#..O@..O.#\n",
    "#O#..O...#\n",
    "#O..O..O.#\n",
    "#.OO.O.OO#\n",
    "#....O...#\n",
    "##########\n",
    "\n",
    "<vv>^<v^>v>^vv^v>v<>v^v<v<^vv<<<^><<><>>v<vvv<>^v^>^<<<><<v<<<v^vv^v>^\n",
    "vvv<<^>^v^^><<>>><>^<<><^vv^^<>vvv<>><^^v>^>vv<>v<<<<v<^v>^<^^>>>^<v<v\n",
    "><>vv>v^v^<>><>>>><^^>vv>v<^^^>>v^v^<^^>v^^>v^<^v>v<>>v^v^<v>v^^<^^vv<\n",
    "<<v<^>>^^^^>>>v^<>vvv^><v<<<>^^^vv^<vvv>^>v<^^^^v<>^>vvvv><>>v^<<^^^^^\n",
    "^><^><>>><>^^<<^^v>>><^<v>^<vv>>v>>>^v><>^v><<<<v>>v<v<v>vvv>^<><<>^><\n",
    "^>><>^v<><^vvv<^^<><v<<<<<><^v<<<><<<^^<v<^^^><^>>^<v^><<<^>>^v<v^v<v^\n",
    ">^>>^v>vv>^<<^v<>><<><<v<<v><>v<^vv<<<>^^v^>^^>>><<^v>>v^v><^^>>^<>vv^\n",
    "<><^^>^^^<><vvvvv^v<v<<>^v<v>v<<^><<><<><<<^^<<<^<<>><<><^^^>^^<>^>v<>\n",
    "^^>vv<^v^v<vv>^<><v<^v>^^^>>>^^vvv^>vvv<>>>^<^>>>>>^<<^v>^vvv<>^<><<v>\n",
    "v^^>>><<^^<>>^v^<v^vv<>v^<<>^<^v^v><^<<<><<^<v><v<>vv>>v><v^<vv<>v^<<^'''"
   ]
  },
  {
   "cell_type": "code",
   "execution_count": 63,
   "id": "5f65e1f4-8298-4862-be2a-f9cdd18f0576",
   "metadata": {},
   "outputs": [],
   "source": [
    "dat2 = dat.replace('#','##')\n",
    "dat2 = dat2.replace('O','[]')\n",
    "dat2 = dat2.replace('.','..')\n",
    "dat2 = dat2.replace('@','@.')"
   ]
  },
  {
   "cell_type": "code",
   "execution_count": 64,
   "id": "91ed2488-d295-40f5-afb2-b6bcfeaf6547",
   "metadata": {
    "scrolled": true
   },
   "outputs": [
    {
     "data": {
      "text/plain": [
       "1543338"
      ]
     },
     "execution_count": 64,
     "metadata": {},
     "output_type": "execute_result"
    }
   ],
   "source": [
    "g,d = dat2.split('\\n\\n')\n",
    "g = parse(g)\n",
    "g = Grid(g)\n",
    "d = mapl(arrow_direction.get, d)\n",
    "\n",
    "def check_boxes(p):\n",
    "    \n",
    "    if g[p] not in ('[',']'):\n",
    "        return\n",
    "\n",
    "# print('init')\n",
    "# g.print()\n",
    "# print()\n",
    "c = [k for k,v in g.items() if v=='@'][0]\n",
    "for dir in d:\n",
    "    # print()\n",
    "    if not dir:\n",
    "        continue\n",
    "    box = False\n",
    "    p = add(c, dir)\n",
    "    # print('pos',p)\n",
    "    if dir in (North, South):\n",
    "        b_que = deque([p])\n",
    "        b_set = set([(c,g[c])])\n",
    "        wall = False\n",
    "        while b_que:\n",
    "            pc = b_que.popleft()\n",
    "            # print('checking:',pc)\n",
    "            if g[pc] == '[':\n",
    "                b_set.add((pc,'['))\n",
    "                b_set.add((add(pc, East),']'))\n",
    "                b_loc = add(pc, dir)\n",
    "                b_que.append(b_loc)\n",
    "                b_que.append(add(b_loc, East))\n",
    "            elif g[pc] == ']':\n",
    "                b_set.add((pc,']'))\n",
    "                b_set.add((add(pc, West),'['))\n",
    "                b_loc = add(pc, dir)\n",
    "                b_que.append(b_loc)\n",
    "                b_que.append(add(b_loc, West))\n",
    "            elif g[pc] == '#':\n",
    "                wall = True\n",
    "                break\n",
    "                \n",
    "    if dir in (East, West):\n",
    "        b_set = set([(c,g[c])])\n",
    "        wall = False\n",
    "        while g[p] in ('[',']'):\n",
    "            b_set.add((p, g[p]))\n",
    "            p = add(p, dir)\n",
    "        if g[p] == '#':\n",
    "            wall = True\n",
    "        \n",
    "    if wall:\n",
    "        continue\n",
    "    for p,v in b_set:\n",
    "        g[p] = '.'\n",
    "    for p,v in b_set:\n",
    "        g[add(p,dir)] = v \n",
    "    c = add(c, dir)\n",
    "    \n",
    "\n",
    "p2 = 0\n",
    "for p,v in g.items():\n",
    "    if v == '[':\n",
    "        p1 += p[0] + 100*p[1]\n",
    "\n",
    "p2"
   ]
  },
  {
   "cell_type": "code",
   "execution_count": 8,
   "id": "97419d4a-445d-49af-b661-8a7a11804406",
   "metadata": {
    "scrolled": true
   },
   "outputs": [
    {
     "name": "stdout",
     "output_type": "stream",
     "text": [
      "Part b already solved with same answer: 55358\n"
     ]
    }
   ],
   "source": [
    "submit(p2, day=day, part='b', year=year)"
   ]
  }
 ],
 "metadata": {
  "kernelspec": {
   "display_name": "conda_base",
   "language": "python",
   "name": "conda_base"
  },
  "language_info": {
   "codemirror_mode": {
    "name": "ipython",
    "version": 3
   },
   "file_extension": ".py",
   "mimetype": "text/x-python",
   "name": "python",
   "nbconvert_exporter": "python",
   "pygments_lexer": "ipython3",
   "version": "3.11.5"
  }
 },
 "nbformat": 4,
 "nbformat_minor": 5
}
