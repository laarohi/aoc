{
 "cells": [
  {
   "cell_type": "code",
   "execution_count": 1,
   "id": "021838ca-c426-4c3d-b155-dcef79098cb1",
   "metadata": {},
   "outputs": [],
   "source": [
    "from aoc_utils import *\n",
    "\n",
    "import pandas as pd\n",
    "import numpy as np\n",
    "\n",
    "from aocd import get_data, submit"
   ]
  },
  {
   "cell_type": "code",
   "execution_count": 2,
   "id": "9c8b3281-561d-485d-a78e-99929790addf",
   "metadata": {},
   "outputs": [],
   "source": [
    "year = 2024\n",
    "day = 4"
   ]
  },
  {
   "cell_type": "code",
   "execution_count": 64,
   "id": "f942dbf5-a17e-475a-9c28-b7b699ba4436",
   "metadata": {},
   "outputs": [],
   "source": [
    "dat = get_data(day=day, year=year, block=True)"
   ]
  },
  {
   "cell_type": "code",
   "execution_count": 55,
   "id": "2119c226-7e1f-4fbf-9697-a9ce916133b4",
   "metadata": {},
   "outputs": [],
   "source": [
    "dat = \"\"\"MMMSXXMASM\n",
    "MSAMXMSMSA\n",
    "AMXSXMAAMM\n",
    "MSAMASMSMX\n",
    "XMASAMXAMM\n",
    "XXAMMXXAMA\n",
    "SMSMSASXSS\n",
    "SAXAMASAAA\n",
    "MAMMMXMMMM\n",
    "MXMXAXMASX\"\"\""
   ]
  },
  {
   "cell_type": "code",
   "execution_count": 65,
   "id": "f1ebf338-f7cd-432e-b2ee-d5638781b52c",
   "metadata": {
    "scrolled": true
   },
   "outputs": [],
   "source": [
    "d = parse(dat)"
   ]
  },
  {
   "cell_type": "code",
   "execution_count": 37,
   "id": "4e8d17b3-9ede-42c6-b7c3-5b46f42bfb92",
   "metadata": {},
   "outputs": [],
   "source": [
    "g = Grid(d, directions8)"
   ]
  },
  {
   "cell_type": "code",
   "execution_count": 38,
   "id": "d88218b5-44f7-46c7-a1fa-33d01ed59c32",
   "metadata": {},
   "outputs": [
    {
     "data": {
      "text/plain": [
       "2458"
      ]
     },
     "execution_count": 38,
     "metadata": {},
     "output_type": "execute_result"
    }
   ],
   "source": [
    "\n",
    "def check_for_word(g, loc, word, dirs=None):\n",
    "    c = 0\n",
    "    if g[loc] == word[0]:\n",
    "        if len(word) > 1:\n",
    "            dirs = dirs or g.directions\n",
    "            neighbs = neighbors(loc, dirs) \n",
    "            for n in neighbs:\n",
    "                if n not in g: continue\n",
    "                dir = sub(n, loc)\n",
    "                c += check_for_word(g, n, word[1:], [dir])\n",
    "        else:\n",
    "            return 1\n",
    "    return c\n",
    "    \n",
    "word = 'XMAS'\n",
    "mx,my = max(g.keys())\n",
    "p1 = 0\n",
    "    \n",
    "for i in range(mx+1):\n",
    "    for j in range(my+1):\n",
    "        p1 += check_for_word(g, (i,j), word)\n",
    "            \n",
    "p1"
   ]
  },
  {
   "cell_type": "code",
   "execution_count": 39,
   "id": "43605b0a-b15c-494a-8a3a-10f8550e1499",
   "metadata": {
    "scrolled": true
   },
   "outputs": [
    {
     "name": "stdout",
     "output_type": "stream",
     "text": [
      "\u001b[32mThat's the right answer!  You are one gold star closer to finding the Chief Historian. [Continue to Part Two]\u001b[0m\n"
     ]
    },
    {
     "data": {
      "text/plain": [
       "<urllib3.response.HTTPResponse at 0x1060ca3b0>"
      ]
     },
     "execution_count": 39,
     "metadata": {},
     "output_type": "execute_result"
    }
   ],
   "source": [
    "submit(p1, day=day, part='a', year=year)"
   ]
  },
  {
   "cell_type": "code",
   "execution_count": null,
   "id": "d475b520-8a5b-4545-a15c-9e25795af948",
   "metadata": {},
   "outputs": [],
   "source": [
    "# (0, -1), (1, -1) --> (1, 1)\n",
    "# (1, 0), (1, -1) --> (-1, -1)\n",
    "# (1, 0), (1, 1) --> (-1, 1)\n",
    "# (0, 1), (1, 1) --> (1, -1)"
   ]
  },
  {
   "cell_type": "code",
   "execution_count": 66,
   "id": "5f65e1f4-8298-4862-be2a-f9cdd18f0576",
   "metadata": {},
   "outputs": [],
   "source": [
    "g = Grid(d, diagonals)"
   ]
  },
  {
   "cell_type": "code",
   "execution_count": 67,
   "id": "11df1690-5423-43b6-8899-514a6fb653c6",
   "metadata": {},
   "outputs": [
    {
     "data": {
      "text/plain": [
       "1945"
      ]
     },
     "execution_count": 67,
     "metadata": {},
     "output_type": "execute_result"
    }
   ],
   "source": [
    "\n",
    "def check_for_word(g, loc, word, dirs=None):\n",
    "    d = []\n",
    "    if g[loc] == word[0]:\n",
    "        if len(word) > 1:\n",
    "            dirs = dirs or g.directions\n",
    "            neighbs = neighbors(loc, dirs) \n",
    "            for n in neighbs:\n",
    "                if n not in g: continue\n",
    "                dir = sub(n, loc)\n",
    "                d += check_for_word(g, n, word[1:], [dir])\n",
    "        else:\n",
    "            return dirs\n",
    "    return d\n",
    "\n",
    "def check_for_cross(g, loc, word, dirs):\n",
    "    c = 0\n",
    "    l = len(word)\n",
    "    for d in dirs:\n",
    "        for i in range(2):\n",
    "            m = [0,0]\n",
    "            m[i] = (l-1)*d[i]\n",
    "            m = tuple(m)\n",
    "            search_dir = list(d)\n",
    "            search_dir[i] *= -1\n",
    "            search_dir = tuple(search_dir)\n",
    "            p = add(loc, m)\n",
    "            if p not in g: continue\n",
    "            if check_for_word(g, p, word, dirs=[search_dir]):\n",
    "                # print(f'cross_found {loc=},{p=},{m=},{search_dir=}')\n",
    "                c += 1\n",
    "    return c\n",
    "            \n",
    "    \n",
    "word = 'MAS'\n",
    "mx,my = max(g.keys())\n",
    "p2 = 0\n",
    "    \n",
    "for i in range(mx+1):\n",
    "    for j in range(my+1):\n",
    "        d = check_for_word(g, (i,j), word)\n",
    "        if d:\n",
    "            p2 += check_for_cross(g, (i,j), word, d)\n",
    "            \n",
    "p2 = int(p2/2)\n",
    "p2"
   ]
  },
  {
   "cell_type": "code",
   "execution_count": 62,
   "id": "70bf491a-17f0-45fa-9220-d1632aaec7d1",
   "metadata": {},
   "outputs": [
    {
     "data": {
      "text/plain": [
       "4.75"
      ]
     },
     "execution_count": 62,
     "metadata": {},
     "output_type": "execute_result"
    }
   ],
   "source": [
    "p2 = (p2)/2\n",
    "p2"
   ]
  },
  {
   "cell_type": "code",
   "execution_count": 53,
   "id": "97419d4a-445d-49af-b661-8a7a11804406",
   "metadata": {
    "scrolled": true
   },
   "outputs": [
    {
     "name": "stderr",
     "output_type": "stream",
     "text": [
      "coerced float value 1868.0 for 2024/04\n",
      "wrong answer: That's not the right answer; your answer is too low.  Curiously, it's the right answer for someone else; you might be logged in to the wrong account or just unlucky. In any case, you need to be using your puzzle input.  If you're stuck, make sure you're using the full input data; there are also some general tips on the about page, or you can ask for hints on the subreddit.  Please wait one minute before trying again. [Return to Day 4]\n"
     ]
    },
    {
     "name": "stdout",
     "output_type": "stream",
     "text": [
      "\u001b[31mThat's not the right answer; your answer is too low.  Curiously, it's the right answer for someone else; you might be logged in to the wrong account or just unlucky. In any case, you need to be using your puzzle input.  If you're stuck, make sure you're using the full input data; there are also some general tips on the about page, or you can ask for hints on the subreddit.  Please wait one minute before trying again. [Return to Day 4]\u001b[0m\n"
     ]
    },
    {
     "data": {
      "text/plain": [
       "<urllib3.response.HTTPResponse at 0x15c39bb20>"
      ]
     },
     "execution_count": 53,
     "metadata": {},
     "output_type": "execute_result"
    }
   ],
   "source": [
    "submit(p2, day=day, part='b', year=year)"
   ]
  },
  {
   "cell_type": "code",
   "execution_count": null,
   "id": "e5f853c4-69db-4bfe-981f-e4c85714d3eb",
   "metadata": {},
   "outputs": [],
   "source": []
  }
 ],
 "metadata": {
  "kernelspec": {
   "display_name": "conda_base",
   "language": "python",
   "name": "conda_base"
  },
  "language_info": {
   "codemirror_mode": {
    "name": "ipython",
    "version": 3
   },
   "file_extension": ".py",
   "mimetype": "text/x-python",
   "name": "python",
   "nbconvert_exporter": "python",
   "pygments_lexer": "ipython3",
   "version": "3.11.5"
  }
 },
 "nbformat": 4,
 "nbformat_minor": 5
}
