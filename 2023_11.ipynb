{
 "cells": [
  {
   "cell_type": "code",
   "execution_count": 1,
   "id": "021838ca-c426-4c3d-b155-dcef79098cb1",
   "metadata": {},
   "outputs": [],
   "source": [
    "from aoc_utils import *\n",
    "\n",
    "import pandas as pd\n",
    "import numpy as np\n",
    "\n",
    "from aocd import get_data, submit"
   ]
  },
  {
   "cell_type": "code",
   "execution_count": 2,
   "id": "9c8b3281-561d-485d-a78e-99929790addf",
   "metadata": {},
   "outputs": [],
   "source": [
    "year = 2023\n",
    "day = 11"
   ]
  },
  {
   "cell_type": "code",
   "execution_count": 3,
   "id": "f942dbf5-a17e-475a-9c28-b7b699ba4436",
   "metadata": {},
   "outputs": [
    {
     "name": "stdout",
     "output_type": "stream",
     "text": [
      "                                                                               \n"
     ]
    }
   ],
   "source": [
    "dat = get_data(day=day, year=year, block=True)"
   ]
  },
  {
   "cell_type": "code",
   "execution_count": 23,
   "id": "f1ebf338-f7cd-432e-b2ee-d5638781b52c",
   "metadata": {
    "scrolled": true
   },
   "outputs": [],
   "source": [
    "res = []\n",
    "sdat = dat.splitlines()\n",
    "nr = len(sdat)\n",
    "nc = len(sdat[0])\n",
    "for r, vr in enumerate(sdat):\n",
    "    if not '#' in vr:\n",
    "        res.append(list(vr))\n",
    "        res.append(list(vr))\n",
    "    else:\n",
    "        res.append(list(vr))\n",
    "tres = []\n",
    "tdat = T(res)\n",
    "for r, vr in enumerate(tdat):\n",
    "    if not '#' in vr:\n",
    "        tres.append(list(vr))\n",
    "        tres.append(list(vr))\n",
    "    else:\n",
    "        tres.append(list(vr))\n",
    "\n",
    "g = Grid(tres)"
   ]
  },
  {
   "cell_type": "code",
   "execution_count": 27,
   "id": "52060d8f-e0f5-41e7-98ac-f149bf024cfb",
   "metadata": {},
   "outputs": [],
   "source": [
    "gals = []\n",
    "for k,v in g.items():\n",
    "    if v == '#':\n",
    "       gals.append(k)\n",
    "gal_pairs = combinations(gals, 2)\n",
    "\n",
    "res = 0\n",
    "for q,p in gal_pairs:\n",
    "    res += taxi_distance(q,p)"
   ]
  },
  {
   "cell_type": "code",
   "execution_count": 30,
   "id": "eed6cbb3-d9ec-42ac-a23e-afc58e75e9d5",
   "metadata": {},
   "outputs": [],
   "source": [
    "p1 = res"
   ]
  },
  {
   "cell_type": "code",
   "execution_count": 31,
   "id": "43605b0a-b15c-494a-8a3a-10f8550e1499",
   "metadata": {},
   "outputs": [
    {
     "name": "stdout",
     "output_type": "stream",
     "text": [
      "\u001b[32mThat's the right answer!  You are one gold star closer to restoring snow operations. [Continue to Part Two]\u001b[0m\n"
     ]
    },
    {
     "data": {
      "text/plain": [
       "<urllib3.response.HTTPResponse at 0x1378b7370>"
      ]
     },
     "execution_count": 31,
     "metadata": {},
     "output_type": "execute_result"
    }
   ],
   "source": [
    "submit(p1, day=day, part='a', year=year)"
   ]
  },
  {
   "cell_type": "code",
   "execution_count": 33,
   "id": "5f17002d-6a41-4ed8-935a-16d8de9f4618",
   "metadata": {
    "scrolled": true
   },
   "outputs": [],
   "source": [
    "res = []\n",
    "sdat = dat.splitlines()\n",
    "nr = len(sdat)\n",
    "nc = len(sdat[0])\n",
    "big_r = []\n",
    "big_c = []\n",
    "for r, vr in enumerate(sdat):\n",
    "    if not '#' in vr:\n",
    "        res.append(list(vr))\n",
    "        big_r.append(r)\n",
    "    else:\n",
    "        res.append(list(vr))\n",
    "tres = []\n",
    "tdat = T(res)\n",
    "for r, vr in enumerate(tdat):\n",
    "    if not '#' in vr:\n",
    "        tres.append(list(vr))\n",
    "        big_c.append(r)\n",
    "    else:\n",
    "        tres.append(list(vr))\n",
    "\n",
    "g = Grid(tres)"
   ]
  },
  {
   "cell_type": "code",
   "execution_count": 35,
   "id": "5969daf8-76c8-45ac-9ffd-f6760f940fa6",
   "metadata": {},
   "outputs": [],
   "source": [
    "gals = []\n",
    "for k,v in g.items():\n",
    "    if v == '#':\n",
    "       gals.append(k)\n",
    "gal_pairs = combinations(gals, 2)\n",
    "\n",
    "def taxi_distance(p, q, big_r, big_c):\n",
    "    \"\"\"Manhattan (L1) distance between two 2D Points.\"\"\"\n",
    "    dist = 0\n",
    "    for r in big_r:\n",
    "        if (p[0] < r < q[0]) or (q[0] < r < p[0]):\n",
    "            dist += 1000000 - 1\n",
    "    for c in big_c:\n",
    "        if (p[1] < c < q[1]) or (q[1] < c < p[1]):\n",
    "            dist += 1000000 - 1\n",
    "    return dist + abs(p[0] - q[0]) + abs(p[1] - q[1])\n",
    "\n",
    "res = 0\n",
    "for q,p in gal_pairs:\n",
    "    res += taxi_distance(q,p, big_r, big_c)"
   ]
  },
  {
   "cell_type": "code",
   "execution_count": 37,
   "id": "d78b4b7e-d965-4fec-9f57-eb9e2cf6f734",
   "metadata": {},
   "outputs": [],
   "source": [
    "p2 = res"
   ]
  },
  {
   "cell_type": "code",
   "execution_count": 38,
   "id": "97419d4a-445d-49af-b661-8a7a11804406",
   "metadata": {
    "scrolled": true
   },
   "outputs": [
    {
     "name": "stdout",
     "output_type": "stream",
     "text": [
      "\u001b[32mThat's the right answer!  You are one gold star closer to restoring snow operations.You have completed Day 11! You can [Shareon\n",
      "  Twitter\n",
      "Mastodon] this victory or [Return to Your Advent Calendar].\u001b[0m\n"
     ]
    },
    {
     "data": {
      "text/plain": [
       "<urllib3.response.HTTPResponse at 0x1378c37f0>"
      ]
     },
     "execution_count": 38,
     "metadata": {},
     "output_type": "execute_result"
    }
   ],
   "source": [
    "submit(p2, day=day, part='b', year=year)"
   ]
  }
 ],
 "metadata": {
  "kernelspec": {
   "display_name": "conda_base",
   "language": "python",
   "name": "conda_base"
  },
  "language_info": {
   "codemirror_mode": {
    "name": "ipython",
    "version": 3
   },
   "file_extension": ".py",
   "mimetype": "text/x-python",
   "name": "python",
   "nbconvert_exporter": "python",
   "pygments_lexer": "ipython3",
   "version": "3.11.5"
  }
 },
 "nbformat": 4,
 "nbformat_minor": 5
}
