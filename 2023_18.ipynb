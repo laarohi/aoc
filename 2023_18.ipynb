{
 "cells": [
  {
   "cell_type": "code",
   "execution_count": 2,
   "id": "021838ca-c426-4c3d-b155-dcef79098cb1",
   "metadata": {},
   "outputs": [],
   "source": [
    "from aoc_utils import *\n",
    "\n",
    "import pandas as pd\n",
    "import numpy as np\n",
    "\n",
    "from aocd import get_data, submit"
   ]
  },
  {
   "cell_type": "code",
   "execution_count": 3,
   "id": "9c8b3281-561d-485d-a78e-99929790addf",
   "metadata": {},
   "outputs": [],
   "source": [
    "year = 2023\n",
    "day = 18"
   ]
  },
  {
   "cell_type": "code",
   "execution_count": 69,
   "id": "f942dbf5-a17e-475a-9c28-b7b699ba4436",
   "metadata": {},
   "outputs": [],
   "source": [
    "dat = get_data(day=day, year=year, block=True)"
   ]
  },
  {
   "cell_type": "code",
   "execution_count": 61,
   "id": "5c78f844-eabd-4229-b048-3bd7835eb8ca",
   "metadata": {},
   "outputs": [],
   "source": [
    "dat = '''R 6 (#70c710)\n",
    "D 5 (#0dc571)\n",
    "L 2 (#5713f0)\n",
    "D 2 (#d2c081)\n",
    "R 2 (#59c680)\n",
    "D 2 (#411b91)\n",
    "L 5 (#8ceee2)\n",
    "U 2 (#caa173)\n",
    "L 1 (#1b58a2)\n",
    "U 2 (#caa171)\n",
    "R 2 (#7807d2)\n",
    "U 3 (#a77fa3)\n",
    "L 2 (#015232)\n",
    "U 2 (#7a21e3)'''"
   ]
  },
  {
   "cell_type": "code",
   "execution_count": 112,
   "id": "f1ebf338-f7cd-432e-b2ee-d5638781b52c",
   "metadata": {
    "scrolled": true
   },
   "outputs": [],
   "source": [
    "import itertools\n",
    "\n",
    "pos = (0,0)\n",
    "outline = {pos:None}\n",
    "for l in dat.splitlines():\n",
    "    dir, dist, colour = l.split()\n",
    "    dir = arrow_direction[dir]\n",
    "    for i in range(int(dist)):\n",
    "        pos = add2(pos,dir)\n",
    "        outline[pos] =  colour\n",
    "\n",
    "r_dim = [o[0] for o in outline.keys()]\n",
    "c_dim = [o[1] for o in outline.keys()]\n",
    "min_c = min(c_dim)\n",
    "min_r = min(r_dim)\n",
    "max_c = max(c_dim)\n",
    "max_r = max(r_dim)\n",
    "tot_c = 1 + max(c_dim) - min(c_dim)\n",
    "tot_r = 1 + max(r_dim) - min(r_dim)\n",
    "\n",
    "g = {}\n",
    "for r,c in itertools.product(range(tot_r), range(tot_c)):\n",
    "    if (r+min_r,c+min_c) in outline:\n",
    "        g[(r,c)] = '#'\n",
    "    else:\n",
    "        g[(r,c)] = '.' \n",
    "        \n",
    "g = Grid(g, directions8)"
   ]
  },
  {
   "cell_type": "code",
   "execution_count": 114,
   "id": "e4a2aae9-cf40-40fd-ba09-1f3126c1e9fd",
   "metadata": {},
   "outputs": [],
   "source": [
    "start = (38,10)\n",
    "inside = {start}\n",
    "to_search = [start]\n",
    "while to_search:\n",
    "    p = to_search.pop()\n",
    "    g[p] = '#'\n",
    "    for n in g.neighbors(p):\n",
    "        if g[n] == '.' and n not in inside:\n",
    "            inside.add(n) \n",
    "            to_search.append(n)\n",
    "p1 = len(inside)  + len(outline)"
   ]
  },
  {
   "cell_type": "code",
   "execution_count": 116,
   "id": "d79c25ff-bc53-46e6-bf97-4215fcd9158f",
   "metadata": {},
   "outputs": [
    {
     "data": {
      "text/plain": [
       "47045"
      ]
     },
     "execution_count": 116,
     "metadata": {},
     "output_type": "execute_result"
    }
   ],
   "source": [
    "p1"
   ]
  },
  {
   "cell_type": "code",
   "execution_count": 117,
   "id": "43605b0a-b15c-494a-8a3a-10f8550e1499",
   "metadata": {
    "scrolled": true
   },
   "outputs": [
    {
     "name": "stdout",
     "output_type": "stream",
     "text": [
      "\u001b[32mThat's the right answer!  You are one gold star closer to restoring snow operations. [Continue to Part Two]\u001b[0m\n"
     ]
    },
    {
     "data": {
      "text/plain": [
       "<urllib3.response.HTTPResponse at 0x15ebd42b0>"
      ]
     },
     "execution_count": 117,
     "metadata": {},
     "output_type": "execute_result"
    }
   ],
   "source": [
    "submit(p1, day=day, part='a', year=year)"
   ]
  },
  {
   "cell_type": "code",
   "execution_count": null,
   "id": "3eeb6041-289f-41eb-abad-1ce0b8f90525",
   "metadata": {},
   "outputs": [],
   "source": [
    "import itertools\n",
    "\n",
    "line_start = (0,0)\n",
    "h_lines = defaultdict(list)\n",
    "v_lines = defaultdict(list)\n",
    "for l in dat.splitlines():\n",
    "    dir, dist, colour = l.split()\n",
    "    dir = arrow_direction[dir]\n",
    "    line_end = add(line_start, mul(dir, dist))\n",
    "    if dir in (North, South):\n",
    "        c = line_start[1]\n",
    "        r = tuple(sorted((line_start[0], line_end[0])))\n",
    "        v_lines[c].append(r)\n",
    "    elif dir in (East, West):\n",
    "        r = line_start[0]\n",
    "        c = tuple(sorted((line_start[1], line_end[1])))\n",
    "        h_lines[r].append(c)\n",
    "\n",
    "h_min = min([h[0] for h in h_lines.values()])\n",
    "h_max = max([h[1] for h in h_lines.values()])\n",
    "\n",
    "h_out = {(h_min, h_max)}\n",
    "h_in = {}\n",
    "for hc, hrs in sorted(h_lines.items()):\n",
    "    \n",
    "    \n",
    "    \n",
    "    \n",
    "    \n",
    "    \n",
    "checked = {}\n",
    "for edge_start, edge_stop in edges:\n",
    "    \n",
    "\n",
    "r_dim = [o[0] for o in edges]\n",
    "c_dim = [o[1] for o in edges]\n",
    "min_c = min(c_dim)\n",
    "min_r = min(r_dim)\n",
    "max_c = max(c_dim)\n",
    "max_r = max(r_dim)\n",
    "tot_c = 1 + max_c - min_c\n",
    "tot_r = 1 + max_r - min_r \n",
    "\n",
    "for r in range(min_r, max_r+1):\n",
    "    h_edges = [e for e in edges if e[0] = r]\n",
    "    for\n",
    "    \n",
    "g = {}\n",
    "for r,c in itertools.product(range(tot_r), range(tot_c)):\n",
    "    if (r+min_r,c+min_c) in outline:\n",
    "        g[(r,c)] = '#'\n",
    "    else:\n",
    "        g[(r,c)] = '.' \n",
    "        \n",
    "g = Grid(g, directions8)"
   ]
  },
  {
   "cell_type": "code",
   "execution_count": 8,
   "id": "97419d4a-445d-49af-b661-8a7a11804406",
   "metadata": {
    "scrolled": true
   },
   "outputs": [
    {
     "name": "stdout",
     "output_type": "stream",
     "text": [
      "Part b already solved with same answer: 55358\n"
     ]
    }
   ],
   "source": [
    "submit(p2, day=day, part='b', year=year)"
   ]
  }
 ],
 "metadata": {
  "kernelspec": {
   "display_name": "conda_base",
   "language": "python",
   "name": "conda_base"
  },
  "language_info": {
   "codemirror_mode": {
    "name": "ipython",
    "version": 3
   },
   "file_extension": ".py",
   "mimetype": "text/x-python",
   "name": "python",
   "nbconvert_exporter": "python",
   "pygments_lexer": "ipython3",
   "version": "3.11.5"
  }
 },
 "nbformat": 4,
 "nbformat_minor": 5
}
