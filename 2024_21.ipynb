{
 "cells": [
  {
   "cell_type": "code",
   "execution_count": 1,
   "id": "021838ca-c426-4c3d-b155-dcef79098cb1",
   "metadata": {},
   "outputs": [],
   "source": [
    "from aoc_utils import *\n",
    "\n",
    "import pandas as pd\n",
    "import numpy as np\n",
    "\n",
    "from aocd import get_data, submit"
   ]
  },
  {
   "cell_type": "code",
   "execution_count": 2,
   "id": "9c8b3281-561d-485d-a78e-99929790addf",
   "metadata": {},
   "outputs": [],
   "source": [
    "year = 2024\n",
    "day = 21"
   ]
  },
  {
   "cell_type": "code",
   "execution_count": 3,
   "id": "f942dbf5-a17e-475a-9c28-b7b699ba4436",
   "metadata": {},
   "outputs": [],
   "source": [
    "dat = get_data(day=day, year=year, block=True)"
   ]
  },
  {
   "cell_type": "code",
   "execution_count": 4,
   "id": "6830faba-2d86-4cfb-9d8b-c17fe335d341",
   "metadata": {},
   "outputs": [
    {
     "data": {
      "text/plain": [
       "'480A\\n965A\\n140A\\n341A\\n285A'"
      ]
     },
     "execution_count": 4,
     "metadata": {},
     "output_type": "execute_result"
    }
   ],
   "source": [
    "dat"
   ]
  },
  {
   "cell_type": "code",
   "execution_count": 5,
   "id": "f1f3cf47-4845-4c44-9dd3-dccaad46ad52",
   "metadata": {},
   "outputs": [],
   "source": [
    "arrow_directions = {'^': North, 'v': South, '>': East, '<': West}\n",
    "vdirs = {v:k for k,v in arrow_directions.items()}\n",
    "def nav_dirs(dirs):\n",
    "    return ''.join(vdirs[d] for d in dirs) +'A'"
   ]
  },
  {
   "cell_type": "code",
   "execution_count": 6,
   "id": "f475a5ec-05fc-4643-9893-190342566ef3",
   "metadata": {},
   "outputs": [],
   "source": [
    "# just creating a mapping for the numpad and keypad\n",
    "\n",
    "pad = '''7 8 9\n",
    "4 5 6\n",
    "1 2 3\n",
    "-1 0 A'''\n",
    "\n",
    "pad = [x.split(' ') for x in  pad.split('\\n')]\n",
    "numpad = {}\n",
    "for i in range(len(pad[0])):\n",
    "    for j in range(len(pad)):\n",
    "        p = pad[j][i]\n",
    "        if p != '-1':\n",
    "            numpad[p] = (i,j)\n",
    "            \n",
    "pad = [['-1',North,'A'],[West,South,East]]\n",
    "keypad = {}\n",
    "for i in range(len(pad[0])):\n",
    "    for j in range(len(pad)):\n",
    "        p = pad[j][i]\n",
    "        if p != '-1':\n",
    "            keypad[p] = (i,j)\n"
   ]
  },
  {
   "cell_type": "code",
   "execution_count": 98,
   "id": "ecd042b2-b0d4-4d3d-a2ee-0e131429b7b6",
   "metadata": {},
   "outputs": [],
   "source": [
    "codes = dat.split('\\n')\n",
    "codes\n",
    "\n",
    "class Pad:\n",
    "    '''\n",
    "    '''\n",
    "\n",
    "    def __init__(self, padmap, child=None, state='A'):\n",
    "        self.padmap = padmap\n",
    "        self.locs = set(padmap.values())\n",
    "        self.state = state\n",
    "        self.child = child\n",
    "        self.path = ''\n",
    "\n",
    "    def navigate(self, tgt):\n",
    "        \n",
    "        '''\n",
    "        navigate to tgt on CURRENT keyboard\n",
    "        return required keypresses on NEXT keyboard\n",
    "        '''\n",
    "        \n",
    "        cur_pos = self.padmap[self.state]\n",
    "        tgt_pos = self.padmap[tgt]\n",
    "        dir = sub(tgt_pos, cur_pos)\n",
    "        h_dir = (dir[0],0)\n",
    "        v_dir = (0,dir[1])\n",
    "        if add2(cur_pos, h_dir) in self.locs:\n",
    "            h_dirs = []\n",
    "            h_dirs += [(np.sign(dir[0]),0)]*abs(dir[0])\n",
    "            h_dirs += [(0,np.sign(dir[1]))]*abs(dir[1])\n",
    "        else:\n",
    "            h_dirs = None\n",
    "        if add2(cur_pos, v_dir) in self.locs:\n",
    "            v_dirs = []\n",
    "            v_dirs += [(0,np.sign(dir[1]))]*abs(dir[1])\n",
    "            v_dirs += [(np.sign(dir[0]),0)]*abs(dir[0])\n",
    "        else:\n",
    "            v_dirs = None\n",
    "        self.state = tgt\n",
    "        return (h_dirs, v_dirs)\n",
    "\n",
    "    def operate(self, instructions):\n",
    "        res = 0\n",
    "        for tgt in instructions:\n",
    "            self.path += vdirs.get(tgt, tgt)\n",
    "            tmp_res = []\n",
    "            for child_instructions in self.navigate(tgt):\n",
    "                if child_instructions is None:\n",
    "                    continue\n",
    "                r = 0\n",
    "                if self.child is None:\n",
    "                    r += len(nav_dirs(child_instructions))\n",
    "                else:\n",
    "                    r += self.child.operate(child_instructions)\n",
    "                    r += self.child.operate('A')\n",
    "                tmp_res.append(r)\n",
    "            res += min(tmp_res)\n",
    "            # enter = hit 'A' after instruction\n",
    "            # if self.child.enter:\n",
    "        return res\n",
    "                    \n",
    "            \n",
    "class Keypad(Pad):\n",
    "    pass\n",
    "\n",
    "class Numpad(Pad):\n",
    "    pass\n",
    "\n"
   ]
  },
  {
   "cell_type": "code",
   "execution_count": 99,
   "id": "cb8996eb-a9b9-479c-b6c7-c3e73e270724",
   "metadata": {},
   "outputs": [
    {
     "name": "stdout",
     "output_type": "stream",
     "text": [
      "480A 480 74\n",
      "965A 965 66\n",
      "140A 140 70\n",
      "341A 341 72\n",
      "285A 285 68\n"
     ]
    },
    {
     "data": {
      "text/plain": [
       "152942"
      ]
     },
     "execution_count": 99,
     "metadata": {},
     "output_type": "execute_result"
    }
   ],
   "source": [
    "codes = '''029A\n",
    "980A\n",
    "179A\n",
    "456A\n",
    "379A'''.split('\\n')\n",
    "codes = dat.split('\\n')\n",
    "p1 = 0\n",
    "for code in codes:\n",
    "    k2 = Keypad(keypad)\n",
    "    k = Keypad(keypad, child=k2)\n",
    "    n = Numpad(numpad, child=k)\n",
    "    r = n.operate(code)\n",
    "    print(code, int(code[:-1]),r)\n",
    "    p1 += int(code[:-1])*r\n",
    "p1"
   ]
  },
  {
   "cell_type": "code",
   "execution_count": null,
   "id": "209b7b23-9771-4fe4-9aaf-5009607ae97a",
   "metadata": {},
   "outputs": [],
   "source": [
    "# TO DYLAN: IGNORE EVERYTHING FROM THIS POINT ONWARDS FOR NOW\n",
    "\n",
    "    # def navigate(self, tgt):\n",
    "    #     # print(_nav_cache)\n",
    "    #     print((tgt, self.state) in _nav_cache)\n",
    "        \n",
    "    #     if (tgt, self.state) in _nav_cache:\n",
    "    #         self.state = tgt\n",
    "    #         print('hitting cache', ((tgt, self.state)))\n",
    "    #         return _nav_cache[(tgt, self.state)]\n",
    "    #     else:\n",
    "    #         res = super().navigate(tgt)\n",
    "    #         _nav_cache[(tgt, self.state)] = res\n",
    "    #         # print(_nav_cache)\n",
    "    #         # print((tgt, self.state), (tgt, self.state) in _nav_cache)\n",
    "    #         print('recalcing',(tgt, self.state), len(_nav_cache))\n",
    "    #         return res\n"
   ]
  },
  {
   "cell_type": "code",
   "execution_count": 50,
   "id": "3493d9e0-9470-419c-867a-5514307b1840",
   "metadata": {},
   "outputs": [
    {
     "ename": "KeyboardInterrupt",
     "evalue": "",
     "output_type": "error",
     "traceback": [
      "\u001b[0;31m---------------------------------------------------------------------------\u001b[0m",
      "\u001b[0;31mKeyboardInterrupt\u001b[0m                         Traceback (most recent call last)",
      "Cell \u001b[0;32mIn[50], line 13\u001b[0m\n\u001b[1;32m     11\u001b[0m n \u001b[38;5;241m=\u001b[39m Numpad(numpad, child\u001b[38;5;241m=\u001b[39mk)\n\u001b[1;32m     12\u001b[0m \u001b[38;5;28;01mfor\u001b[39;00m code \u001b[38;5;129;01min\u001b[39;00m codes:\n\u001b[0;32m---> 13\u001b[0m     r \u001b[38;5;241m=\u001b[39m \u001b[43mn\u001b[49m\u001b[38;5;241;43m.\u001b[39;49m\u001b[43moperate\u001b[49m\u001b[43m(\u001b[49m\u001b[43mcode\u001b[49m\u001b[43m)\u001b[49m\n\u001b[1;32m     14\u001b[0m     \u001b[38;5;28mprint\u001b[39m(code, \u001b[38;5;28mint\u001b[39m(code[:\u001b[38;5;241m-\u001b[39m\u001b[38;5;241m1\u001b[39m]),r)\n\u001b[1;32m     15\u001b[0m     p1 \u001b[38;5;241m+\u001b[39m\u001b[38;5;241m=\u001b[39m \u001b[38;5;28mint\u001b[39m(code[:\u001b[38;5;241m-\u001b[39m\u001b[38;5;241m1\u001b[39m])\u001b[38;5;241m*\u001b[39mr\n",
      "Cell \u001b[0;32mIn[45], line 54\u001b[0m, in \u001b[0;36mPad.operate\u001b[0;34m(self, instructions)\u001b[0m\n\u001b[1;32m     52\u001b[0m     r \u001b[38;5;241m+\u001b[39m\u001b[38;5;241m=\u001b[39m \u001b[38;5;28mlen\u001b[39m(nav_dirs(child_instructions))\n\u001b[1;32m     53\u001b[0m \u001b[38;5;28;01melse\u001b[39;00m:\n\u001b[0;32m---> 54\u001b[0m     r \u001b[38;5;241m+\u001b[39m\u001b[38;5;241m=\u001b[39m \u001b[38;5;28;43mself\u001b[39;49m\u001b[38;5;241;43m.\u001b[39;49m\u001b[43mchild\u001b[49m\u001b[38;5;241;43m.\u001b[39;49m\u001b[43moperate\u001b[49m\u001b[43m(\u001b[49m\u001b[43mchild_instructions\u001b[49m\u001b[43m)\u001b[49m\n\u001b[1;32m     55\u001b[0m     r \u001b[38;5;241m+\u001b[39m\u001b[38;5;241m=\u001b[39m \u001b[38;5;28mself\u001b[39m\u001b[38;5;241m.\u001b[39mchild\u001b[38;5;241m.\u001b[39moperate(\u001b[38;5;124m'\u001b[39m\u001b[38;5;124mA\u001b[39m\u001b[38;5;124m'\u001b[39m)\n\u001b[1;32m     56\u001b[0m tmp_res\u001b[38;5;241m.\u001b[39mappend(r)\n",
      "Cell \u001b[0;32mIn[45], line 54\u001b[0m, in \u001b[0;36mPad.operate\u001b[0;34m(self, instructions)\u001b[0m\n\u001b[1;32m     52\u001b[0m     r \u001b[38;5;241m+\u001b[39m\u001b[38;5;241m=\u001b[39m \u001b[38;5;28mlen\u001b[39m(nav_dirs(child_instructions))\n\u001b[1;32m     53\u001b[0m \u001b[38;5;28;01melse\u001b[39;00m:\n\u001b[0;32m---> 54\u001b[0m     r \u001b[38;5;241m+\u001b[39m\u001b[38;5;241m=\u001b[39m \u001b[38;5;28;43mself\u001b[39;49m\u001b[38;5;241;43m.\u001b[39;49m\u001b[43mchild\u001b[49m\u001b[38;5;241;43m.\u001b[39;49m\u001b[43moperate\u001b[49m\u001b[43m(\u001b[49m\u001b[43mchild_instructions\u001b[49m\u001b[43m)\u001b[49m\n\u001b[1;32m     55\u001b[0m     r \u001b[38;5;241m+\u001b[39m\u001b[38;5;241m=\u001b[39m \u001b[38;5;28mself\u001b[39m\u001b[38;5;241m.\u001b[39mchild\u001b[38;5;241m.\u001b[39moperate(\u001b[38;5;124m'\u001b[39m\u001b[38;5;124mA\u001b[39m\u001b[38;5;124m'\u001b[39m)\n\u001b[1;32m     56\u001b[0m tmp_res\u001b[38;5;241m.\u001b[39mappend(r)\n",
      "    \u001b[0;31m[... skipping similar frames: Pad.operate at line 54 (15 times)]\u001b[0m\n",
      "Cell \u001b[0;32mIn[45], line 55\u001b[0m, in \u001b[0;36mPad.operate\u001b[0;34m(self, instructions)\u001b[0m\n\u001b[1;32m     53\u001b[0m     \u001b[38;5;28;01melse\u001b[39;00m:\n\u001b[1;32m     54\u001b[0m         r \u001b[38;5;241m+\u001b[39m\u001b[38;5;241m=\u001b[39m \u001b[38;5;28mself\u001b[39m\u001b[38;5;241m.\u001b[39mchild\u001b[38;5;241m.\u001b[39moperate(child_instructions)\n\u001b[0;32m---> 55\u001b[0m         r \u001b[38;5;241m+\u001b[39m\u001b[38;5;241m=\u001b[39m \u001b[38;5;28;43mself\u001b[39;49m\u001b[38;5;241;43m.\u001b[39;49m\u001b[43mchild\u001b[49m\u001b[38;5;241;43m.\u001b[39;49m\u001b[43moperate\u001b[49m\u001b[43m(\u001b[49m\u001b[38;5;124;43m'\u001b[39;49m\u001b[38;5;124;43mA\u001b[39;49m\u001b[38;5;124;43m'\u001b[39;49m\u001b[43m)\u001b[49m\n\u001b[1;32m     56\u001b[0m     tmp_res\u001b[38;5;241m.\u001b[39mappend(r)\n\u001b[1;32m     57\u001b[0m res \u001b[38;5;241m+\u001b[39m\u001b[38;5;241m=\u001b[39m \u001b[38;5;28mmin\u001b[39m(tmp_res)\n",
      "    \u001b[0;31m[... skipping similar frames: Pad.operate at line 54 (1 times)]\u001b[0m\n",
      "Cell \u001b[0;32mIn[45], line 55\u001b[0m, in \u001b[0;36mPad.operate\u001b[0;34m(self, instructions)\u001b[0m\n\u001b[1;32m     53\u001b[0m     \u001b[38;5;28;01melse\u001b[39;00m:\n\u001b[1;32m     54\u001b[0m         r \u001b[38;5;241m+\u001b[39m\u001b[38;5;241m=\u001b[39m \u001b[38;5;28mself\u001b[39m\u001b[38;5;241m.\u001b[39mchild\u001b[38;5;241m.\u001b[39moperate(child_instructions)\n\u001b[0;32m---> 55\u001b[0m         r \u001b[38;5;241m+\u001b[39m\u001b[38;5;241m=\u001b[39m \u001b[38;5;28;43mself\u001b[39;49m\u001b[38;5;241;43m.\u001b[39;49m\u001b[43mchild\u001b[49m\u001b[38;5;241;43m.\u001b[39;49m\u001b[43moperate\u001b[49m\u001b[43m(\u001b[49m\u001b[38;5;124;43m'\u001b[39;49m\u001b[38;5;124;43mA\u001b[39;49m\u001b[38;5;124;43m'\u001b[39;49m\u001b[43m)\u001b[49m\n\u001b[1;32m     56\u001b[0m     tmp_res\u001b[38;5;241m.\u001b[39mappend(r)\n\u001b[1;32m     57\u001b[0m res \u001b[38;5;241m+\u001b[39m\u001b[38;5;241m=\u001b[39m \u001b[38;5;28mmin\u001b[39m(tmp_res)\n",
      "    \u001b[0;31m[... skipping similar frames: Pad.operate at line 54 (2 times), Pad.operate at line 55 (1 times)]\u001b[0m\n",
      "Cell \u001b[0;32mIn[45], line 54\u001b[0m, in \u001b[0;36mPad.operate\u001b[0;34m(self, instructions)\u001b[0m\n\u001b[1;32m     52\u001b[0m     r \u001b[38;5;241m+\u001b[39m\u001b[38;5;241m=\u001b[39m \u001b[38;5;28mlen\u001b[39m(nav_dirs(child_instructions))\n\u001b[1;32m     53\u001b[0m \u001b[38;5;28;01melse\u001b[39;00m:\n\u001b[0;32m---> 54\u001b[0m     r \u001b[38;5;241m+\u001b[39m\u001b[38;5;241m=\u001b[39m \u001b[38;5;28;43mself\u001b[39;49m\u001b[38;5;241;43m.\u001b[39;49m\u001b[43mchild\u001b[49m\u001b[38;5;241;43m.\u001b[39;49m\u001b[43moperate\u001b[49m\u001b[43m(\u001b[49m\u001b[43mchild_instructions\u001b[49m\u001b[43m)\u001b[49m\n\u001b[1;32m     55\u001b[0m     r \u001b[38;5;241m+\u001b[39m\u001b[38;5;241m=\u001b[39m \u001b[38;5;28mself\u001b[39m\u001b[38;5;241m.\u001b[39mchild\u001b[38;5;241m.\u001b[39moperate(\u001b[38;5;124m'\u001b[39m\u001b[38;5;124mA\u001b[39m\u001b[38;5;124m'\u001b[39m)\n\u001b[1;32m     56\u001b[0m tmp_res\u001b[38;5;241m.\u001b[39mappend(r)\n",
      "Cell \u001b[0;32mIn[45], line 55\u001b[0m, in \u001b[0;36mPad.operate\u001b[0;34m(self, instructions)\u001b[0m\n\u001b[1;32m     53\u001b[0m     \u001b[38;5;28;01melse\u001b[39;00m:\n\u001b[1;32m     54\u001b[0m         r \u001b[38;5;241m+\u001b[39m\u001b[38;5;241m=\u001b[39m \u001b[38;5;28mself\u001b[39m\u001b[38;5;241m.\u001b[39mchild\u001b[38;5;241m.\u001b[39moperate(child_instructions)\n\u001b[0;32m---> 55\u001b[0m         r \u001b[38;5;241m+\u001b[39m\u001b[38;5;241m=\u001b[39m \u001b[38;5;28;43mself\u001b[39;49m\u001b[38;5;241;43m.\u001b[39;49m\u001b[43mchild\u001b[49m\u001b[38;5;241;43m.\u001b[39;49m\u001b[43moperate\u001b[49m\u001b[43m(\u001b[49m\u001b[38;5;124;43m'\u001b[39;49m\u001b[38;5;124;43mA\u001b[39;49m\u001b[38;5;124;43m'\u001b[39;49m\u001b[43m)\u001b[49m\n\u001b[1;32m     56\u001b[0m     tmp_res\u001b[38;5;241m.\u001b[39mappend(r)\n\u001b[1;32m     57\u001b[0m res \u001b[38;5;241m+\u001b[39m\u001b[38;5;241m=\u001b[39m \u001b[38;5;28mmin\u001b[39m(tmp_res)\n",
      "Cell \u001b[0;32mIn[45], line 47\u001b[0m, in \u001b[0;36mPad.operate\u001b[0;34m(self, instructions)\u001b[0m\n\u001b[1;32m     45\u001b[0m \u001b[38;5;28mself\u001b[39m\u001b[38;5;241m.\u001b[39mpath \u001b[38;5;241m+\u001b[39m\u001b[38;5;241m=\u001b[39m vdirs\u001b[38;5;241m.\u001b[39mget(tgt, tgt)\n\u001b[1;32m     46\u001b[0m tmp_res \u001b[38;5;241m=\u001b[39m []\n\u001b[0;32m---> 47\u001b[0m \u001b[38;5;28;01mfor\u001b[39;00m child_instructions \u001b[38;5;129;01min\u001b[39;00m \u001b[38;5;28;43mself\u001b[39;49m\u001b[38;5;241;43m.\u001b[39;49m\u001b[43mnavigate\u001b[49m\u001b[43m(\u001b[49m\u001b[43mtgt\u001b[49m\u001b[43m)\u001b[49m:\n\u001b[1;32m     48\u001b[0m     \u001b[38;5;28;01mif\u001b[39;00m child_instructions \u001b[38;5;129;01mis\u001b[39;00m \u001b[38;5;28;01mNone\u001b[39;00m:\n\u001b[1;32m     49\u001b[0m         \u001b[38;5;28;01mcontinue\u001b[39;00m\n",
      "Cell \u001b[0;32mIn[45], line 15\u001b[0m, in \u001b[0;36mPad.navigate\u001b[0;34m(self, tgt)\u001b[0m\n\u001b[1;32m     12\u001b[0m     \u001b[38;5;28mself\u001b[39m\u001b[38;5;241m.\u001b[39mchild \u001b[38;5;241m=\u001b[39m child\n\u001b[1;32m     13\u001b[0m     \u001b[38;5;28mself\u001b[39m\u001b[38;5;241m.\u001b[39mpath \u001b[38;5;241m=\u001b[39m \u001b[38;5;124m'\u001b[39m\u001b[38;5;124m'\u001b[39m\n\u001b[0;32m---> 15\u001b[0m \u001b[38;5;28;01mdef\u001b[39;00m \u001b[38;5;21mnavigate\u001b[39m(\u001b[38;5;28mself\u001b[39m, tgt):\n\u001b[1;32m     17\u001b[0m \u001b[38;5;250m    \u001b[39m\u001b[38;5;124;03m'''\u001b[39;00m\n\u001b[1;32m     18\u001b[0m \u001b[38;5;124;03m    navigate to tgt on CURRENT keyboard\u001b[39;00m\n\u001b[1;32m     19\u001b[0m \u001b[38;5;124;03m    return required keypresses on NEXT keyboard\u001b[39;00m\n\u001b[1;32m     20\u001b[0m \u001b[38;5;124;03m    '''\u001b[39;00m\n\u001b[1;32m     22\u001b[0m     cur_pos \u001b[38;5;241m=\u001b[39m \u001b[38;5;28mself\u001b[39m\u001b[38;5;241m.\u001b[39mpadmap[\u001b[38;5;28mself\u001b[39m\u001b[38;5;241m.\u001b[39mstate]\n",
      "\u001b[0;31mKeyboardInterrupt\u001b[0m: "
     ]
    }
   ],
   "source": [
    "codes = '''029A\n",
    "980A\n",
    "179A\n",
    "456A\n",
    "379A'''.split('\\n')\n",
    "codes = dat.split('\\n')\n",
    "p1 = 0\n",
    "k = None\n",
    "for _ in range(25):\n",
    "    k = Keypad(keypad, child=k)\n",
    "n = Numpad(numpad, child=k)\n",
    "for code in codes:\n",
    "    r = n.operate(code)\n",
    "    print(code, int(code[:-1]),r)\n",
    "    p1 += int(code[:-1])*r\n",
    "p1"
   ]
  },
  {
   "cell_type": "code",
   "execution_count": 43,
   "id": "a0a8f1ae-041e-4da3-bb0d-0949728a304c",
   "metadata": {},
   "outputs": [
    {
     "ename": "TypeError",
     "evalue": "unhashable type: 'list'",
     "output_type": "error",
     "traceback": [
      "\u001b[0;31m---------------------------------------------------------------------------\u001b[0m",
      "\u001b[0;31mTypeError\u001b[0m                                 Traceback (most recent call last)",
      "Cell \u001b[0;32mIn[43], line 15\u001b[0m\n\u001b[1;32m     13\u001b[0m \u001b[38;5;28;01mfor\u001b[39;00m c \u001b[38;5;129;01min\u001b[39;00m code:\n\u001b[1;32m     14\u001b[0m     \u001b[38;5;28;01mfor\u001b[39;00m t \u001b[38;5;129;01min\u001b[39;00m n\u001b[38;5;241m.\u001b[39mnavigate(c):\n\u001b[0;32m---> 15\u001b[0m         \u001b[38;5;28;01mfor\u001b[39;00m t2 \u001b[38;5;129;01min\u001b[39;00m \u001b[43mk\u001b[49m\u001b[38;5;241;43m.\u001b[39;49m\u001b[43mnavigate\u001b[49m\u001b[43m(\u001b[49m\u001b[43mt\u001b[49m\u001b[43m)\u001b[49m:\n\u001b[1;32m     16\u001b[0m             r \u001b[38;5;241m+\u001b[39m\u001b[38;5;241m=\u001b[39m nav_dirs(k2\u001b[38;5;241m.\u001b[39mnavigate(t2))\n\u001b[1;32m     17\u001b[0m         r \u001b[38;5;241m+\u001b[39m\u001b[38;5;241m=\u001b[39m nav_dirs(k2\u001b[38;5;241m.\u001b[39mnavigate(\u001b[38;5;124m'\u001b[39m\u001b[38;5;124mA\u001b[39m\u001b[38;5;124m'\u001b[39m))\n",
      "Cell \u001b[0;32mIn[42], line 23\u001b[0m, in \u001b[0;36mPad.navigate\u001b[0;34m(self, tgt)\u001b[0m\n\u001b[1;32m     17\u001b[0m \u001b[38;5;250m\u001b[39m\u001b[38;5;124;03m'''\u001b[39;00m\n\u001b[1;32m     18\u001b[0m \u001b[38;5;124;03mnavigate to tgt on CURRENT keyboard\u001b[39;00m\n\u001b[1;32m     19\u001b[0m \u001b[38;5;124;03mreturn required keypresses on NEXT keyboard\u001b[39;00m\n\u001b[1;32m     20\u001b[0m \u001b[38;5;124;03m'''\u001b[39;00m\n\u001b[1;32m     22\u001b[0m cur_pos \u001b[38;5;241m=\u001b[39m \u001b[38;5;28mself\u001b[39m\u001b[38;5;241m.\u001b[39mpadmap[\u001b[38;5;28mself\u001b[39m\u001b[38;5;241m.\u001b[39mstate]\n\u001b[0;32m---> 23\u001b[0m tgt_pos \u001b[38;5;241m=\u001b[39m \u001b[38;5;28;43mself\u001b[39;49m\u001b[38;5;241;43m.\u001b[39;49m\u001b[43mpadmap\u001b[49m\u001b[43m[\u001b[49m\u001b[43mtgt\u001b[49m\u001b[43m]\u001b[49m\n\u001b[1;32m     24\u001b[0m \u001b[38;5;28mdir\u001b[39m \u001b[38;5;241m=\u001b[39m sub(tgt_pos, cur_pos)\n\u001b[1;32m     25\u001b[0m h_dir \u001b[38;5;241m=\u001b[39m (\u001b[38;5;28mdir\u001b[39m[\u001b[38;5;241m0\u001b[39m],\u001b[38;5;241m0\u001b[39m)\n",
      "\u001b[0;31mTypeError\u001b[0m: unhashable type: 'list'"
     ]
    }
   ],
   "source": [
    "codes = '''029A\n",
    "980A\n",
    "179A\n",
    "456A\n",
    "379A'''.split('\\n')\n",
    "# codes = dat.split('\\n')\n",
    "p1 = 0\n",
    "for code in codes:\n",
    "    n = Numpad(numpad)\n",
    "    k = Keypad(keypad)\n",
    "    k2 = Keypad(keypad)\n",
    "    r = ''\n",
    "    for c in code:\n",
    "        for t in n.navigate(c):\n",
    "            for t2 in k.navigate(t):\n",
    "                r += nav_dirs(k2.navigate(t2))\n",
    "            r += nav_dirs(k2.navigate('A'))\n",
    "        for t2 in k.navigate('A'):\n",
    "            r += nav_dirs(k2.navigate(t2))\n",
    "        r += nav_dirs(k2.navigate('A'))\n",
    "    print(code,len(r))\n",
    "    print(r)\n",
    "    p1 += int(code[:-1])*len(r)\n",
    "p1 \n"
   ]
  },
  {
   "cell_type": "code",
   "execution_count": 5,
   "id": "43605b0a-b15c-494a-8a3a-10f8550e1499",
   "metadata": {
    "scrolled": true
   },
   "outputs": [
    {
     "name": "stdout",
     "output_type": "stream",
     "text": [
      "Part a already solved with same answer: 56042\n"
     ]
    }
   ],
   "source": [
    "submit(p1, day=day, part='a', year=year)"
   ]
  },
  {
   "cell_type": "code",
   "execution_count": 8,
   "id": "97419d4a-445d-49af-b661-8a7a11804406",
   "metadata": {
    "scrolled": true
   },
   "outputs": [
    {
     "name": "stdout",
     "output_type": "stream",
     "text": [
      "Part b already solved with same answer: 55358\n"
     ]
    }
   ],
   "source": [
    "submit(p2, day=day, part='b', year=year)"
   ]
  }
 ],
 "metadata": {
  "kernelspec": {
   "display_name": "conda_base",
   "language": "python",
   "name": "conda_base"
  },
  "language_info": {
   "codemirror_mode": {
    "name": "ipython",
    "version": 3
   },
   "file_extension": ".py",
   "mimetype": "text/x-python",
   "name": "python",
   "nbconvert_exporter": "python",
   "pygments_lexer": "ipython3",
   "version": "3.11.5"
  }
 },
 "nbformat": 4,
 "nbformat_minor": 5
}
