{
 "cells": [
  {
   "cell_type": "code",
   "execution_count": 1,
   "id": "021838ca-c426-4c3d-b155-dcef79098cb1",
   "metadata": {},
   "outputs": [],
   "source": [
    "from aoc_utils import *\n",
    "\n",
    "import pandas as pd\n",
    "import numpy as np\n",
    "\n",
    "from aocd import get_data, submit"
   ]
  },
  {
   "cell_type": "code",
   "execution_count": 2,
   "id": "9c8b3281-561d-485d-a78e-99929790addf",
   "metadata": {},
   "outputs": [],
   "source": [
    "year = 2024\n",
    "day = 12"
   ]
  },
  {
   "cell_type": "code",
   "execution_count": 99,
   "id": "f942dbf5-a17e-475a-9c28-b7b699ba4436",
   "metadata": {},
   "outputs": [],
   "source": [
    "dat = get_data(day=day, year=year, block=True)"
   ]
  },
  {
   "cell_type": "code",
   "execution_count": 85,
   "id": "f0e73d2a-01ff-43b0-bed2-0255fc17b6ce",
   "metadata": {},
   "outputs": [],
   "source": [
    "dat = '''AAAA\n",
    "BBCD\n",
    "BBCC\n",
    "EEEC'''"
   ]
  },
  {
   "cell_type": "code",
   "execution_count": 88,
   "id": "9dec095a-00c1-4e94-8ee3-c346badc5ebf",
   "metadata": {},
   "outputs": [],
   "source": [
    "dat = '''OOOOO\n",
    "OXOXO\n",
    "OOOOO\n",
    "OXOXO\n",
    "OOOOO'''"
   ]
  },
  {
   "cell_type": "code",
   "execution_count": 78,
   "id": "ac66dea0-55c2-4c3e-bb4f-4642902f6153",
   "metadata": {},
   "outputs": [],
   "source": [
    "dat = '''RRRRIICCFF\n",
    "RRRRIICCCF\n",
    "VVRRRCCFFF\n",
    "VVRCCCJFFF\n",
    "VVVVCJJCFE\n",
    "VVIVCCJJEE\n",
    "VVIIICJJEE\n",
    "MIIIIIJJEE\n",
    "MIIISIJEEE\n",
    "MMMISSJEEE'''"
   ]
  },
  {
   "cell_type": "code",
   "execution_count": 91,
   "id": "c5d8b0e8-41ff-4437-854b-9ee1bb6e6b3b",
   "metadata": {},
   "outputs": [],
   "source": [
    "dat ='''AAAAAA\n",
    "AAABBA\n",
    "AAABBA\n",
    "ABBAAA\n",
    "ABBAAA\n",
    "AAAAAA'''"
   ]
  },
  {
   "cell_type": "code",
   "execution_count": 100,
   "id": "f1ebf338-f7cd-432e-b2ee-d5638781b52c",
   "metadata": {
    "scrolled": true
   },
   "outputs": [],
   "source": [
    "d = parse(dat)\n",
    "g = Grid(d)\n",
    "# g.print()"
   ]
  },
  {
   "cell_type": "code",
   "execution_count": 101,
   "id": "5f65e1f4-8298-4862-be2a-f9cdd18f0576",
   "metadata": {},
   "outputs": [
    {
     "name": "stdout",
     "output_type": "stream",
     "text": [
      "{(0, 1), (1, 2), (0, 0), (1, 1), (0, 3), (2, 0), (0, 2), (1, 0), (1, 3)}\n"
     ]
    },
    {
     "data": {
      "text/plain": [
       "(1363484, 838988)"
      ]
     },
     "execution_count": 101,
     "metadata": {},
     "output_type": "execute_result"
    }
   ],
   "source": [
    "def find_plot(p, existing=None):\n",
    "    if existing is None:\n",
    "        existing = {p,}\n",
    "\n",
    "    for n in g.neighbors(p):\n",
    "        if g[n] == g[p] and n not in existing:\n",
    "            existing.add(n)\n",
    "            find_plot(n, existing)\n",
    "    return existing\n",
    "\n",
    "def find_peri(plot):\n",
    "    peri = 0\n",
    "    for p in plot:\n",
    "        peri += 4\n",
    "        for n in g.neighbors(p):\n",
    "            if g[n] == g[p]:\n",
    "                peri -= 1\n",
    "    return peri\n",
    "\n",
    "def find_corners(plot):\n",
    "    corners = 0\n",
    "    # label = (point, direction)\n",
    "    for p in plot:\n",
    "        for d in diagonals:\n",
    "            c = [(X_(d),0), (0, Y_(d))]\n",
    "            if add(p, d) not in plot:\n",
    "                if all((add(p,dir) in plot) for dir in c):\n",
    "                    corners += 1\n",
    "            if all((add(p,dir) not in plot) for dir in c):\n",
    "                    corners += 1\n",
    "    return corners\n",
    "        \n",
    "\n",
    "# corner possibilities\n",
    "'''\n",
    "0 0 0 0\n",
    "0 X X 0\n",
    "0 X 0 0\n",
    "0 0 0 0\n",
    "'''\n",
    "\n",
    "\n",
    "\n",
    "print(find_plot((0,0)))\n",
    "\n",
    "to_use = set(g.keys())\n",
    "plots = {}\n",
    "p1 = p2 = 0\n",
    "while to_use:\n",
    "    p = to_use.pop()\n",
    "    plot = find_plot(p)\n",
    "    to_use -= plot\n",
    "    peri = find_peri(plot)\n",
    "    #print(plot)\n",
    "    sides = find_corners(plot)\n",
    "    #print(sides)\n",
    "    p1 += len(plot)*peri\n",
    "    p2 += len(plot)*sides\n",
    "p1,p2"
   ]
  },
  {
   "cell_type": "code",
   "execution_count": 5,
   "id": "43605b0a-b15c-494a-8a3a-10f8550e1499",
   "metadata": {
    "scrolled": true
   },
   "outputs": [
    {
     "name": "stdout",
     "output_type": "stream",
     "text": [
      "Part a already solved with same answer: 56042\n"
     ]
    }
   ],
   "source": [
    "submit(p1, day=day, part='a', year=year)"
   ]
  },
  {
   "cell_type": "code",
   "execution_count": 102,
   "id": "97419d4a-445d-49af-b661-8a7a11804406",
   "metadata": {
    "scrolled": true
   },
   "outputs": [
    {
     "name": "stdout",
     "output_type": "stream",
     "text": [
      "\u001b[32mThat's the right answer!  You are one gold star closer to finding the Chief Historian.You have completed Day 12! You can [Shareon\n",
      "  Bluesky\n",
      "Twitter\n",
      "Mastodon] this victory or [Return to Your Advent Calendar].\u001b[0m\n"
     ]
    },
    {
     "data": {
      "text/plain": [
       "<urllib3.response.HTTPResponse at 0x155650eb0>"
      ]
     },
     "execution_count": 102,
     "metadata": {},
     "output_type": "execute_result"
    }
   ],
   "source": [
    "submit(p2, day=day, part='b', year=year)"
   ]
  },
  {
   "cell_type": "code",
   "execution_count": null,
   "id": "4db435c4-4ded-47f0-a10b-ac2215143ef2",
   "metadata": {
    "jupyter": {
     "source_hidden": true
    }
   },
   "outputs": [],
   "source": []
  }
 ],
 "metadata": {
  "kernelspec": {
   "display_name": "conda_base",
   "language": "python",
   "name": "conda_base"
  },
  "language_info": {
   "codemirror_mode": {
    "name": "ipython",
    "version": 3
   },
   "file_extension": ".py",
   "mimetype": "text/x-python",
   "name": "python",
   "nbconvert_exporter": "python",
   "pygments_lexer": "ipython3",
   "version": "3.11.5"
  }
 },
 "nbformat": 4,
 "nbformat_minor": 5
}
