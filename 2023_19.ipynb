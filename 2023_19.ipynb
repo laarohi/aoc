{
 "cells": [
  {
   "cell_type": "code",
   "execution_count": 1,
   "id": "021838ca-c426-4c3d-b155-dcef79098cb1",
   "metadata": {},
   "outputs": [],
   "source": [
    "from aoc_utils import *\n",
    "\n",
    "import pandas as pd\n",
    "import numpy as np\n",
    "\n",
    "from aocd import get_data, submit"
   ]
  },
  {
   "cell_type": "code",
   "execution_count": 2,
   "id": "9c8b3281-561d-485d-a78e-99929790addf",
   "metadata": {},
   "outputs": [],
   "source": [
    "year = 2023\n",
    "day = 19"
   ]
  },
  {
   "cell_type": "code",
   "execution_count": 25,
   "id": "f942dbf5-a17e-475a-9c28-b7b699ba4436",
   "metadata": {},
   "outputs": [],
   "source": [
    "dat = get_data(day=day, year=year, block=True)"
   ]
  },
  {
   "cell_type": "code",
   "execution_count": 16,
   "id": "f1ebf338-f7cd-432e-b2ee-d5638781b52c",
   "metadata": {
    "scrolled": true
   },
   "outputs": [],
   "source": [
    "dat = '''px{a<2006:qkq,m>2090:A,rfg}\n",
    "pv{a>1716:R,A}\n",
    "lnx{m>1548:A,A}\n",
    "rfg{s<537:gd,x>2440:R,A}\n",
    "qs{s>3448:A,lnx}\n",
    "qkq{x<1416:A,crn}\n",
    "crn{x>2662:A,R}\n",
    "in{s<1351:px,qqz}\n",
    "qqz{s>2770:qs,m<1801:hdj,R}\n",
    "gd{a>3333:R,R}\n",
    "hdj{m>838:A,pv}\n",
    "\n",
    "{x=787,m=2655,a=1222,s=2876}\n",
    "{x=1679,m=44,a=2067,s=496}\n",
    "{x=2036,m=264,a=79,s=2244}\n",
    "{x=2461,m=1339,a=466,s=291}\n",
    "{x=2127,m=1623,a=2188,s=1013}'''"
   ]
  },
  {
   "cell_type": "code",
   "execution_count": 28,
   "id": "21f98ee4-b794-4fc9-a6b2-e832f9382014",
   "metadata": {},
   "outputs": [],
   "source": [
    "wflows, ratings = dat.split('\\n\\n')\n",
    "wfs = {}\n",
    "for wf in wflows.splitlines():\n",
    "    name, rules = wf.split('{')\n",
    "    rules = rules[:-1].split(',')\n",
    "    rs = []\n",
    "    for rule in rules:\n",
    "        if ':' in rule:\n",
    "            rule, mapping = rule.split(':')\n",
    "            if '<' in rule:\n",
    "                variable, value = rule.split('<')\n",
    "                value = (-np.inf, int(value))\n",
    "            elif '>' in rule:\n",
    "                variable, value = rule.split('>')\n",
    "                value = (int(value), np.inf)\n",
    "        else:\n",
    "            variable = None\n",
    "            value = None\n",
    "            mapping = rule\n",
    "        rs.append((variable, value, mapping))\n",
    "            \n",
    "    wfs[name] = rs\n",
    "    \n",
    "\n",
    "res = 0\n",
    "ratings = parse(ratings, ints)\n",
    "for x,m,a,s in ratings:\n",
    "    rating = dict(x=x,m=m,a=a,s=s)\n",
    "    wf = 'in'\n",
    "    while wf not in ('A','R'):\n",
    "        rs = wfs[wf]\n",
    "        for var,val,new_wf in rs:\n",
    "            if val and (val[0] < rating[var] < val[1]):\n",
    "                wf = new_wf\n",
    "                break\n",
    "        else:\n",
    "            wf = new_wf\n",
    "    if wf == 'A':\n",
    "        res += x+m+a+s\n",
    "\n",
    "p1 = res"
   ]
  },
  {
   "cell_type": "code",
   "execution_count": 29,
   "id": "43605b0a-b15c-494a-8a3a-10f8550e1499",
   "metadata": {
    "scrolled": true
   },
   "outputs": [
    {
     "name": "stdout",
     "output_type": "stream",
     "text": [
      "\u001b[32mThat's the right answer!  You are one gold star closer to restoring snow operations. [Continue to Part Two]\u001b[0m\n"
     ]
    },
    {
     "data": {
      "text/plain": [
       "<urllib3.response.HTTPResponse at 0x1521b2b30>"
      ]
     },
     "execution_count": 29,
     "metadata": {},
     "output_type": "execute_result"
    }
   ],
   "source": [
    "submit(p1, day=day, part='a', year=year)"
   ]
  },
  {
   "cell_type": "code",
   "execution_count": 6,
   "id": "5f65e1f4-8298-4862-be2a-f9cdd18f0576",
   "metadata": {},
   "outputs": [],
   "source": [
    "unlimited = [(-np.inf, np.inf)]\n",
    "ratings = dict(x=copy(unlimited), m=copy(unlimited), a=copy(unlimited), s=copy(unlimited))\n",
    "\n",
    "def accepted(wfs, var, search_range):\n",
    "    accepted_ranges = []\n",
    "    wf = 'in'\n",
    "    rs = wfs[wf]\n",
    "    rmin,rmax = search_range\n",
    "    for v, val, new_wf in rs:\n",
    "        if v and v == var:\n",
    "            vmin, vmax = val\n",
    "            omax = min(rmax, vmax)\n",
    "            omin = max(rmin, vmin)\n",
    "        elif not v:\n",
    "            omax = rmax\n",
    "            omin = rmin\n",
    "        else:\n",
    "            continue\n",
    "        if omax > omin:\n",
    "            if new_wf == 'A':\n",
    "                accepted_ranges.append((omin, omax))\n",
    "            elif new_wf == 'R':\n",
    "                continue\n",
    "            else:\n",
    "                    \n",
    "                    \n",
    "                \n",
    "            i\n",
    "    \n",
    "    "
   ]
  },
  {
   "cell_type": "code",
   "execution_count": 8,
   "id": "97419d4a-445d-49af-b661-8a7a11804406",
   "metadata": {
    "scrolled": true
   },
   "outputs": [
    {
     "name": "stdout",
     "output_type": "stream",
     "text": [
      "Part b already solved with same answer: 55358\n"
     ]
    }
   ],
   "source": [
    "submit(p2, day=day, part='b', year=year)"
   ]
  }
 ],
 "metadata": {
  "kernelspec": {
   "display_name": "conda_base",
   "language": "python",
   "name": "conda_base"
  },
  "language_info": {
   "codemirror_mode": {
    "name": "ipython",
    "version": 3
   },
   "file_extension": ".py",
   "mimetype": "text/x-python",
   "name": "python",
   "nbconvert_exporter": "python",
   "pygments_lexer": "ipython3",
   "version": "3.11.5"
  }
 },
 "nbformat": 4,
 "nbformat_minor": 5
}
