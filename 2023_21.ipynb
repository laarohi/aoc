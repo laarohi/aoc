{
 "cells": [
  {
   "cell_type": "code",
   "execution_count": 1,
   "id": "021838ca-c426-4c3d-b155-dcef79098cb1",
   "metadata": {},
   "outputs": [],
   "source": [
    "from aoc_utils import *\n",
    "\n",
    "import pandas as pd\n",
    "import numpy as np\n",
    "\n",
    "from aocd import get_data, submit"
   ]
  },
  {
   "cell_type": "code",
   "execution_count": 2,
   "id": "9c8b3281-561d-485d-a78e-99929790addf",
   "metadata": {},
   "outputs": [],
   "source": [
    "year = 2023\n",
    "day = 21"
   ]
  },
  {
   "cell_type": "code",
   "execution_count": 34,
   "id": "f942dbf5-a17e-475a-9c28-b7b699ba4436",
   "metadata": {},
   "outputs": [],
   "source": [
    "dat = get_data(day=day, year=year, block=True)"
   ]
  },
  {
   "cell_type": "code",
   "execution_count": 39,
   "id": "c5ae37a6-6d81-4099-a3e5-0881bbae25e2",
   "metadata": {},
   "outputs": [],
   "source": [
    "dat = '''...........\n",
    ".....###.#.\n",
    ".###.##..#.\n",
    "..#.#...#..\n",
    "....#.#....\n",
    ".##..S####.\n",
    ".##..#...#.\n",
    ".......##..\n",
    ".##.#.####.\n",
    ".##..##.##.\n",
    "...........'''"
   ]
  },
  {
   "cell_type": "code",
   "execution_count": 115,
   "id": "f1ebf338-f7cd-432e-b2ee-d5638781b52c",
   "metadata": {
    "scrolled": true
   },
   "outputs": [],
   "source": [
    "g = Grid(dat)\n",
    "\n",
    "max_c, max_r = max(g)\n",
    "len_c = max_c + 1\n",
    "len_r  = max_r + 1\n",
    "\n",
    "for k,v in g.items():\n",
    "    if v == 'S':\n",
    "        start = k\n",
    "        g[k] = '.'\n",
    "        break\n",
    "#visited = set()\n",
    "\n",
    "from functools import cache\n",
    "\n",
    "\n",
    "visited = visit_count(g, start)"
   ]
  },
  {
   "cell_type": "code",
   "execution_count": 134,
   "id": "608aaf1b-83ee-4877-979f-37d553e35921",
   "metadata": {},
   "outputs": [
    {
     "data": {
      "text/plain": [
       "array([[10.,  9.,  8.,  7.,  6.,  7.,  8.,  7.,  8.,  9., 10.],\n",
       "       [11., 10., nan,  6.,  5., nan, nan,  6., nan, nan,  9.],\n",
       "       [12., 11., nan, nan,  4., nan, nan,  5., nan, nan,  8.],\n",
       "       [13., 12., nan,  4.,  3.,  2.,  3.,  4.,  5.,  6.,  7.],\n",
       "       [12., 13., 14., nan, nan,  1.,  2.,  3., nan,  7.,  8.],\n",
       "       [11., nan, nan,  2.,  1.,  0., nan,  4.,  5., nan,  9.],\n",
       "       [10., nan, nan,  3., nan, nan,  6.,  5., nan, nan, 10.],\n",
       "       [ 9., nan,  5.,  4.,  5., nan,  7., nan, nan, 12., 11.],\n",
       "       [ 8.,  7.,  6., nan,  6., nan,  8., nan, nan, nan, 12.],\n",
       "       [ 9., nan, nan,  8.,  7., nan, nan, 12., nan, nan, 13.],\n",
       "       [10., 11., 10.,  9.,  8.,  9., 10., 11., 12., 13., 14.]])"
      ]
     },
     "execution_count": 134,
     "metadata": {},
     "output_type": "execute_result"
    }
   ],
   "source": [
    "visited"
   ]
  },
  {
   "cell_type": "code",
   "execution_count": 283,
   "id": "3d0823cb-f298-4f2b-82d3-ec62c7e91854",
   "metadata": {},
   "outputs": [],
   "source": [
    "def visit_count(start):\n",
    "    max_c, max_r = max(g)\n",
    "    len_c = max_c + 1\n",
    "    len_r  = max_r + 1\n",
    "    visited = np.zeros((len_c, len_r))*np.nan\n",
    "    #visited = {}\n",
    "    to_search = {start}\n",
    "    \n",
    "    i = 0\n",
    "    while to_search:\n",
    "        new_search = set()\n",
    "        for p in to_search:\n",
    "            if np.isnan(visited[*p]):\n",
    "                visited[*p] = i #str(i).rjust(3)\n",
    "            for n in g.neighbors(p):\n",
    "                if g[n] == '.' and np.isnan(visited[*n]):\n",
    "                    new_search.add(n)\n",
    "        to_search = new_search\n",
    "        i += 1\n",
    "    return visited\n",
    "    \n",
    "def extrapolate(v, dir): \n",
    "    # dir can be ({-1,0,1}, {-1,0,1})\n",
    "    if dir[0] == 0:\n",
    "        if dir[1] == 1:\n",
    "            r, rw = max_r, 0\n",
    "        else:\n",
    "            r, rw = 0, max_r\n",
    "        c = range(len_c)\n",
    "        rc = zip(c, [r]*len_c)\n",
    "        rcw = zip(c, [rw]*len_c)\n",
    "        rc_iter = zip(rc, rcw)\n",
    "    elif dir[1] == 0:\n",
    "        if dir[0] == 1:\n",
    "            c, cw =max_c, 0\n",
    "        else:\n",
    "            c, cw = 0, max_c\n",
    "        r = range(len_r)\n",
    "        rc = zip([c]*len_r, r)\n",
    "        rcw = zip([cw]*len_r, r)\n",
    "        rc_iter = zip(rc, rcw)\n",
    "    else:\n",
    "        v1 = extrapolate(v, (0, dir[1]))\n",
    "        v1 = extrapolate(v1, (dir[0], 0))\n",
    "        v2 = extrapolate(v, (dir[0], 0))\n",
    "        v2 = extrapolate(v2, (0, dir[1]))\n",
    "        return np.minimum(v1, v2)\n",
    "        \n",
    "    vs = []\n",
    "    for rc, rcw in rc_iter: #range(len_r): \n",
    "        #print(rc, rcw)\n",
    "        #print(1 + v[*rc] + visit_count(rcw))\n",
    "        vs.append( 1 + v[*rc] + visit_count(rcw))\n",
    "    min_v = reduce(np.minimum, vs)\n",
    "    return min_v\n",
    "\n",
    "dirs = {(0,1), (0,-1), (1,0), (-1,0), (1,1), (-1,1), (1,-1), (-1,-1)}\n",
    "\n",
    "def border_elems(v, dir=(0,0)):\n",
    "    res = []\n",
    "    if dir[1] == 1 or dir == (0,0):\n",
    "        res.append(v[:,-1])\n",
    "    if dir[1] == -1 or dir == (0,0):\n",
    "        res.append(v[:,0])\n",
    "    if dir[0] == 1 or dir == (0,0):\n",
    "        res.append(v[-1,:])\n",
    "    if dir[0] == -1 or dir == (0,0):\n",
    "        res.append(v[0,:])\n",
    "    return np.concatenate(res, axis=None)\n",
    "\n",
    "def sub_elems(d, b):\n",
    "    for k,v in d.items():\n",
    "        d[k] = v - b\n",
    "    return d\n",
    "\n",
    "def expand(d):\n",
    "    dim = max(max(d))\n",
    "    d_new = {}\n",
    "    b_min = np.inf\n",
    "    b_max = 0\n",
    "    for p, v in d.items():\n",
    "        for dir in dirs:\n",
    "            if max(map(abs, add2(p, dir))) == dim + 1:\n",
    "                # extrapolate \n",
    "                v_ext = extrapolate(v, dir)\n",
    "                border = border_elems(v_ext, dir)\n",
    "                b_min = min(b_min, min(border))\n",
    "                b_max = max(b_max, max(border))\n",
    "                \n",
    "                d_new[add2(p,dir)] = v_ext\n",
    "    return d_new, b_min, b_max\n",
    "\n",
    "def count(d, nmax=np.inf):\n",
    "    c = [0,0]\n",
    "    for v in d.values():\n",
    "        c[0] += np.sum((v % 2 == 0) & (v <= nmax))\n",
    "        c[1] += np.sum((v % 2 == 1) & (v <= nmax))\n",
    "    return c\n",
    "\n",
    "def add_count(c, d, offset, nmax=np.inf):\n",
    "    c_new = count(d, nmax)\n",
    "    if offset:\n",
    "        c_new = list(reversed(c_new))\n",
    "    return add2(c, c_new)"
   ]
  },
  {
   "cell_type": "code",
   "execution_count": 358,
   "id": "46b63dbd-e965-4cca-a97d-720f770ef45f",
   "metadata": {},
   "outputs": [
    {
     "data": {
      "text/plain": [
       "(1407, 1444)"
      ]
     },
     "execution_count": 358,
     "metadata": {},
     "output_type": "execute_result"
    }
   ],
   "source": [
    "n = 51\n",
    "c = [0,0]\n",
    "v = visit_count(start)\n",
    "b_min = min(border_elems(v))\n",
    "b_max = max(border_elems(v))\n",
    "n_min = b_min\n",
    "n_max = b_max\n",
    "n_min_prev = 0\n",
    "d = {(0,0):v}\n",
    "offset = False\n",
    "\n",
    "# while n_max < n:\n",
    "#     n_min_prev = n_min\n",
    "#     c = add_count(c, d, offset)\n",
    "#     d = sub_elems(d, b_min)\n",
    "#     offset = bool(b_min % 2)\n",
    "#     d, b_min, b_max = expand(d)\n",
    "#     n_min += b_min\n",
    "#     n_max += b_max\n",
    "    \n",
    "while n_min < n:\n",
    "    n_min -= b_min\n",
    "    n_max -= b_max\n",
    "    d_new, b_min, b_max = expand(d)\n",
    "    d.update(d_new)\n",
    "    n_min += b_min\n",
    "    n_max += b_max\n",
    "        \n",
    "    \n",
    "nrel = n - n_min_prev\n",
    "c = add_count(c, d, offset, nrel)\n",
    "\n",
    "c[n % 2]\n",
    "c"
   ]
  },
  {
   "cell_type": "code",
   "execution_count": 359,
   "id": "f8ef7e14-15cd-4bbb-bc44-2a089de0c2d1",
   "metadata": {},
   "outputs": [
    {
     "data": {
      "text/plain": [
       "55.0"
      ]
     },
     "execution_count": 359,
     "metadata": {},
     "output_type": "execute_result"
    }
   ],
   "source": [
    "n_min"
   ]
  },
  {
   "cell_type": "code",
   "execution_count": 360,
   "id": "fb47c55e-81eb-4283-9f2a-371c43929340",
   "metadata": {},
   "outputs": [
    {
     "data": {
      "text/plain": [
       "Counter({4: 32, 3: 24, 2: 16, 1: 8, 0: 1})"
      ]
     },
     "execution_count": 360,
     "metadata": {},
     "output_type": "execute_result"
    }
   ],
   "source": [
    "Counter([max([abs(i) for i in k]) for k in d.keys()])"
   ]
  },
  {
   "cell_type": "code",
   "execution_count": 361,
   "id": "a66cf759-2303-4d61-8148-471973af8b94",
   "metadata": {},
   "outputs": [],
   "source": [
    "dim = max(max(d))\n",
    "d_a = {(k[0]+dim,k[1]+dim):v for k,v in d.items()}\n",
    "vis = np.zeros([dim*2 + 1, dim*2 + 1])\n",
    "vis = [[None for i in range(dim*2+1)] for j in range(dim*2+1)]\n",
    "for (i,j),v in d_a.items():\n",
    "    vis[i][j] = v\n",
    "vis = np.block(vis)\n",
    "pd.DataFrame(vis).replace(np.nan, -1).astype(int).to_csv('vis.csv')"
   ]
  },
  {
   "cell_type": "code",
   "execution_count": 364,
   "id": "aa67d1f9-97a9-4e73-9209-b48f23efd141",
   "metadata": {},
   "outputs": [
    {
     "data": {
      "text/plain": [
       "56.0"
      ]
     },
     "execution_count": 364,
     "metadata": {},
     "output_type": "execute_result"
    }
   ],
   "source": [
    "min(border_elems(vis))"
   ]
  },
  {
   "cell_type": "code",
   "execution_count": 235,
   "id": "c973805a-ec69-4308-b1f2-9393adde366d",
   "metadata": {},
   "outputs": [
    {
     "data": {
      "text/plain": [
       "7.0"
      ]
     },
     "execution_count": 235,
     "metadata": {},
     "output_type": "execute_result"
    }
   ],
   "source": [
    "b_min"
   ]
  },
  {
   "cell_type": "code",
   "execution_count": 234,
   "id": "5686889f-d043-41c9-9e81-cec32be82072",
   "metadata": {},
   "outputs": [
    {
     "data": {
      "text/plain": [
       "array([[22., 23., 24., 25., 26., 27., 28., 29., 30., 31., 32.],\n",
       "       [21., 22., nan, 26., 27., nan, nan, 28., nan, nan, 31.],\n",
       "       [20., 21., nan, nan, 26., nan, nan, 27., nan, nan, 30.],\n",
       "       [19., 20., nan, 26., 25., 24., 25., 26., 27., 28., 29.],\n",
       "       [18., 19., 20., nan, nan, 23., 24., 25., nan, 29., 28.],\n",
       "       [17., nan, nan, 20., 21., 22., nan, 26., 27., nan, 27.],\n",
       "       [16., nan, nan, 19., nan, nan, 28., 27., nan, nan, 26.],\n",
       "       [15., nan, 17., 18., 19., nan, 29., nan, nan, 26., 25.],\n",
       "       [14., 15., 16., nan, 18., nan, 30., nan, nan, nan, 24.],\n",
       "       [13., nan, nan, 16., 17., nan, nan, 20., nan, nan, 23.],\n",
       "       [12., 13., 14., 15., 16., 17., 18., 19., 20., 21., 22.]])"
      ]
     },
     "execution_count": 234,
     "metadata": {},
     "output_type": "execute_result"
    }
   ],
   "source": [
    "d[(-1,1)]"
   ]
  },
  {
   "cell_type": "code",
   "execution_count": 232,
   "id": "00db8067-6b17-4568-b083-d32139917124",
   "metadata": {},
   "outputs": [
    {
     "data": {
      "text/plain": [
       "array([[22., 23., 24., 25., 26., 27., 28., 29., 30., 31., 32.],\n",
       "       [21., 22., nan, 26., 27., nan, nan, 28., nan, nan, 31.],\n",
       "       [20., 21., nan, nan, 26., nan, nan, 27., nan, nan, 30.],\n",
       "       [19., 20., nan, 26., 25., 24., 25., 26., 27., 28., 29.],\n",
       "       [18., 19., 20., nan, nan, 23., 24., 25., nan, 29., 28.],\n",
       "       [17., nan, nan, 20., 21., 22., nan, 26., 27., nan, 27.],\n",
       "       [16., nan, nan, 19., nan, nan, 28., 27., nan, nan, 26.],\n",
       "       [15., nan, 17., 18., 19., nan, 29., nan, nan, 26., 25.],\n",
       "       [14., 15., 16., nan, 18., nan, 30., nan, nan, nan, 24.],\n",
       "       [13., nan, nan, 16., 17., nan, nan, 20., nan, nan, 23.],\n",
       "       [12., 13., 14., 15., 16., 17., 18., 19., 20., 21., 22.]])"
      ]
     },
     "execution_count": 232,
     "metadata": {},
     "output_type": "execute_result"
    }
   ],
   "source": [
    "extrapolate(v, (-1,1))"
   ]
  },
  {
   "cell_type": "code",
   "execution_count": 178,
   "id": "16271ef9-a992-4eb4-a7a0-6e2b240b7af8",
   "metadata": {},
   "outputs": [
    {
     "data": {
      "text/plain": [
       "24"
      ]
     },
     "execution_count": 178,
     "metadata": {},
     "output_type": "execute_result"
    }
   ],
   "source": [
    "len(d)"
   ]
  },
  {
   "cell_type": "code",
   "execution_count": 188,
   "id": "b53394c6-e6ee-41f6-94a7-18783e5257ae",
   "metadata": {},
   "outputs": [
    {
     "data": {
      "text/plain": [
       "(1986, 1907)"
      ]
     },
     "execution_count": 188,
     "metadata": {},
     "output_type": "execute_result"
    }
   ],
   "source": [
    "c"
   ]
  },
  {
   "cell_type": "code",
   "execution_count": 171,
   "id": "9c0189d4-d022-4812-9ea9-8dd5c3468fb4",
   "metadata": {},
   "outputs": [
    {
     "data": {
      "text/plain": [
       "array([[-10.,  -9.,  -8.,  -7.,  -8.,  -9., -10., -11., -12., -13., -14.],\n",
       "       [-11., -10.,  nan,  -8.,  -9.,  nan,  nan, -12.,  nan,  nan, -15.],\n",
       "       [-12., -11.,  nan,  nan, -10.,  nan,  nan, -13.,  nan,  nan, -16.],\n",
       "       [-13., -12.,  nan, -12., -11., -12., -13., -14., -15., -16., -17.],\n",
       "       [-14., -13., -14.,  nan,  nan, -13., -14., -15.,  nan, -17., -18.],\n",
       "       [-15.,  nan,  nan, -16., -15., -14.,  nan, -16., -17.,  nan, -19.],\n",
       "       [-16.,  nan,  nan, -17.,  nan,  nan, -18., -17.,  nan,  nan, -20.],\n",
       "       [-17.,  nan, -19., -18., -19.,  nan, -19.,  nan,  nan, -22., -21.],\n",
       "       [-18., -19., -20.,  nan, -20.,  nan, -20.,  nan,  nan,  nan, -22.],\n",
       "       [-19.,  nan,  nan, -22., -21.,  nan,  nan, -26.,  nan,  nan, -23.],\n",
       "       [-20., -21., -22., -23., -22., -23., -24., -25., -26., -25., -24.]])"
      ]
     },
     "execution_count": 171,
     "metadata": {},
     "output_type": "execute_result"
    }
   ],
   "source": [
    "np.minimum(min_v, -1*min_v)"
   ]
  },
  {
   "cell_type": "code",
   "execution_count": 164,
   "id": "9f253e34-ba5b-4c10-8bc9-972ef90a5889",
   "metadata": {},
   "outputs": [
    {
     "data": {
      "text/plain": [
       "[(0, 4), (1, None), (2, None), (3, None), (4, None)]"
      ]
     },
     "execution_count": 164,
     "metadata": {},
     "output_type": "execute_result"
    }
   ],
   "source": [
    "from itertools import zip_longest\n",
    "list(zip_longest(range(5), [4]))"
   ]
  },
  {
   "cell_type": "code",
   "execution_count": 153,
   "id": "c11e8f35-719e-41e2-9eec-3cfe74ec1eb0",
   "metadata": {},
   "outputs": [
    {
     "data": {
      "text/plain": [
       "28"
      ]
     },
     "execution_count": 153,
     "metadata": {},
     "output_type": "execute_result"
    }
   ],
   "source": [
    "np.sum((min_v % 2 == 0) & (min_v < 20))"
   ]
  },
  {
   "cell_type": "code",
   "execution_count": 145,
   "id": "f4e48aec-5f3a-4dc6-94f8-55dfc1896966",
   "metadata": {},
   "outputs": [
    {
     "data": {
      "text/plain": [
       "array([10.,  9.,  8.,  7.,  8.,  9., 10., 11., 12., 13., 14., 11., 15.,\n",
       "       12., 16., 13., 17., 14., 18., 15., 19., 16., 20., 17., 21., 18.,\n",
       "       22., 19., 23., 20., 21., 22., 23., 22., 23., 24., 25., 26., 25.,\n",
       "       24.])"
      ]
     },
     "execution_count": 145,
     "metadata": {},
     "output_type": "execute_result"
    }
   ],
   "source": [
    "\n",
    "border_elems(min_v)"
   ]
  },
  {
   "cell_type": "code",
   "execution_count": 139,
   "id": "9801bce3-cde6-4d71-a76a-ddb2d673a2f2",
   "metadata": {},
   "outputs": [
    {
     "data": {
      "text/plain": [
       "42"
      ]
     },
     "execution_count": 139,
     "metadata": {},
     "output_type": "execute_result"
    }
   ],
   "source": [
    "np.sum(min_v % 2 == 0)"
   ]
  },
  {
   "cell_type": "code",
   "execution_count": 112,
   "id": "5d82823a-4d2e-4423-ab52-d01635a6cb68",
   "metadata": {},
   "outputs": [
    {
     "name": "stdout",
     "output_type": "stream",
     "text": [
      "10 11 12 13 14 15 16 17 18 19 20\n",
      "11 12 13 14 15  #  #  # 19  # 21\n",
      "10  #  #  # 16  #  # 19 20  # 22\n",
      "9 10  # 12  # 16 17 18  # 22 23\n",
      "8 9 10 11  # 15  # 19 20 21 22\n",
      "9  #  # 12 13 14  #  #  #  # 23\n",
      "10  #  # 13 14  # 18 19 20  # 24\n",
      "11 12 13 14 15 16 17  #  # 26 25\n",
      "12  #  # 15  # 17  #  #  #  # 26\n",
      "13  #  # 16 17  #  # 22  #  # 25\n",
      "14 15 16 17 18 19 20 21 22 23 24\n"
     ]
    }
   ],
   "source": [
    "Grid(min_v, default=' #').print(sep=' ')"
   ]
  },
  {
   "cell_type": "code",
   "execution_count": 37,
   "id": "f763a0c0-1d33-47f2-885d-be158f3cf039",
   "metadata": {},
   "outputs": [],
   "source": [
    "p1 = res"
   ]
  },
  {
   "cell_type": "code",
   "execution_count": 38,
   "id": "43605b0a-b15c-494a-8a3a-10f8550e1499",
   "metadata": {},
   "outputs": [
    {
     "name": "stdout",
     "output_type": "stream",
     "text": [
      "\u001b[32mThat's the right answer!  You are one gold star closer to restoring snow operations. [Continue to Part Two]\u001b[0m\n"
     ]
    },
    {
     "data": {
      "text/plain": [
       "<urllib3.response.HTTPResponse at 0x13d4a0640>"
      ]
     },
     "execution_count": 38,
     "metadata": {},
     "output_type": "execute_result"
    }
   ],
   "source": [
    "submit(p1, day=day, part='a', year=year)"
   ]
  },
  {
   "cell_type": "code",
   "execution_count": 83,
   "id": "fb58e885-0dc3-4944-888e-68ffa2b4155c",
   "metadata": {
    "scrolled": true
   },
   "outputs": [],
   "source": [
    "g = Grid(dat)\n",
    "\n",
    "max_c, max_r = max(g)\n",
    "max_c += 1\n",
    "max_r += 1\n",
    "\n",
    "for k,v in g.items():\n",
    "    if v == 'S':\n",
    "        start = k\n",
    "        g[k] = '.'\n",
    "        break\n",
    "\n",
    "def wrap_add(p: Point, q: Point, max_c, max_r) -> Point: \n",
    "    x = p[0] + q[0]\n",
    "    y = p[1] + q[1]\n",
    "    return (x % max_c, y % max_r), (x // max_c, y // max_r)\n",
    "    \n",
    "from functools import cache\n",
    "\n",
    "def inf_neighbors(p,max_c,max_r):\n",
    "    return [wrap_add(p, Δ,max_c,max_r) for Δ in directions4]\n",
    "\n",
    "@cache\n",
    "def valid_neighbors(p, p_wrap, max_c, max_r):\n",
    "    new_search = set()\n",
    "    for n_coords,n_wrap in inf_neighbors(p,max_c,max_r):\n",
    "        if g[n_coords] == '.':\n",
    "            n_wrap = add2(p_wrap,n_wrap)\n",
    "            new_search.add((n_coords, n_wrap))\n",
    "    return new_search"
   ]
  },
  {
   "cell_type": "code",
   "execution_count": 84,
   "id": "b03a825d-ca8f-4143-9378-feda0a46fdf3",
   "metadata": {
    "scrolled": true
   },
   "outputs": [
    {
     "ename": "KeyboardInterrupt",
     "evalue": "",
     "output_type": "error",
     "traceback": [
      "\u001b[0;31m---------------------------------------------------------------------------\u001b[0m",
      "\u001b[0;31mKeyboardInterrupt\u001b[0m                         Traceback (most recent call last)",
      "Cell \u001b[0;32mIn[84], line 6\u001b[0m\n\u001b[1;32m      4\u001b[0m new_search \u001b[38;5;241m=\u001b[39m \u001b[38;5;28mset\u001b[39m()\n\u001b[1;32m      5\u001b[0m \u001b[38;5;28;01mfor\u001b[39;00m p,p_wrap \u001b[38;5;129;01min\u001b[39;00m to_search:\n\u001b[0;32m----> 6\u001b[0m     new_search\u001b[38;5;241m.\u001b[39mupdate(\u001b[43mvalid_neighbors\u001b[49m\u001b[43m(\u001b[49m\u001b[43mp\u001b[49m\u001b[43m,\u001b[49m\u001b[43m \u001b[49m\u001b[43mp_wrap\u001b[49m\u001b[43m,\u001b[49m\u001b[43m \u001b[49m\u001b[43mmax_c\u001b[49m\u001b[43m,\u001b[49m\u001b[43m \u001b[49m\u001b[43mmax_r\u001b[49m\u001b[43m)\u001b[49m)\n\u001b[1;32m      7\u001b[0m res \u001b[38;5;241m=\u001b[39m \u001b[38;5;28mlen\u001b[39m(new_search)\n\u001b[1;32m      8\u001b[0m to_search \u001b[38;5;241m=\u001b[39m new_search\n",
      "\u001b[0;31mKeyboardInterrupt\u001b[0m: "
     ]
    }
   ],
   "source": [
    "n = 500\n",
    "to_search = [(start,(0,0))]\n",
    "visited = set()\n",
    "odd_count = 0\n",
    "even_count = 0\n",
    "for i in range(n):\n",
    "    new_search = set()\n",
    "    visited.add\n",
    "    for p,p_wrap in to_search:\n",
    "        new_search.update(valid_neighbors(p, p_wrap, max_c, max_r))\n",
    "    res = len(new_search)\n",
    "    to_search = new_search\n",
    "res"
   ]
  },
  {
   "cell_type": "code",
   "execution_count": 4,
   "id": "5f65e1f4-8298-4862-be2a-f9cdd18f0576",
   "metadata": {},
   "outputs": [
    {
     "data": {
      "text/plain": [
       "\u001b[0;31mDocstring:\u001b[0m\n",
       "Remove and return an arbitrary set element.\n",
       "Raises KeyError if the set is empty.\n",
       "\u001b[0;31mType:\u001b[0m      method_descriptor"
      ]
     },
     "metadata": {},
     "output_type": "display_data"
    }
   ],
   "source": [
    "set.pop?"
   ]
  },
  {
   "cell_type": "code",
   "execution_count": 8,
   "id": "97419d4a-445d-49af-b661-8a7a11804406",
   "metadata": {
    "scrolled": true
   },
   "outputs": [
    {
     "name": "stdout",
     "output_type": "stream",
     "text": [
      "Part b already solved with same answer: 55358\n"
     ]
    }
   ],
   "source": [
    "submit(p2, day=day, part='b', year=year)"
   ]
  }
 ],
 "metadata": {
  "kernelspec": {
   "display_name": "conda_base",
   "language": "python",
   "name": "conda_base"
  },
  "language_info": {
   "codemirror_mode": {
    "name": "ipython",
    "version": 3
   },
   "file_extension": ".py",
   "mimetype": "text/x-python",
   "name": "python",
   "nbconvert_exporter": "python",
   "pygments_lexer": "ipython3",
   "version": "3.11.5"
  }
 },
 "nbformat": 4,
 "nbformat_minor": 5
}
