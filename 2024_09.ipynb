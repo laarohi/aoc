{
 "cells": [
  {
   "cell_type": "code",
   "execution_count": 1,
   "id": "021838ca-c426-4c3d-b155-dcef79098cb1",
   "metadata": {},
   "outputs": [],
   "source": [
    "from aoc_utils import *\n",
    "\n",
    "import pandas as pd\n",
    "import numpy as np\n",
    "\n",
    "from aocd import get_data, submit"
   ]
  },
  {
   "cell_type": "code",
   "execution_count": 2,
   "id": "9c8b3281-561d-485d-a78e-99929790addf",
   "metadata": {},
   "outputs": [],
   "source": [
    "year = 2024\n",
    "day = 9"
   ]
  },
  {
   "cell_type": "code",
   "execution_count": 8,
   "id": "f942dbf5-a17e-475a-9c28-b7b699ba4436",
   "metadata": {},
   "outputs": [],
   "source": [
    "dat = get_data(day=day, year=year, block=True)"
   ]
  },
  {
   "cell_type": "code",
   "execution_count": 6,
   "id": "157775a6-f1dc-489d-ace2-d44614af64be",
   "metadata": {},
   "outputs": [],
   "source": [
    "dat = '2333133121414131402'"
   ]
  },
  {
   "cell_type": "code",
   "execution_count": 29,
   "id": "f1ebf338-f7cd-432e-b2ee-d5638781b52c",
   "metadata": {
    "scrolled": true
   },
   "outputs": [
    {
     "data": {
      "text/plain": [
       "6401092019345"
      ]
     },
     "execution_count": 29,
     "metadata": {},
     "output_type": "execute_result"
    }
   ],
   "source": [
    "def allocate(file_pos, file_idx, to_alloc):\n",
    "    res = 0\n",
    "    for p in range(to_alloc):\n",
    "        # print(file_pos + p, (file_idx//2 ))\n",
    "        res += (file_pos + p) * (file_idx//2 )\n",
    "    # print()\n",
    "    return res\n",
    "        \n",
    "\n",
    "\n",
    "ends_in_even = (len(dat) % 2 == 0)\n",
    "p1 = 0\n",
    "alloc_idx = len(dat) - 1\n",
    "if ends_in_even:\n",
    "    alloc_idx -= 1\n",
    "alloc_val = int(dat[alloc_idx])\n",
    "file_pos = 0\n",
    "for i,d in enumerate(dat):\n",
    "    d = int(d)\n",
    "    if (i % 2 == 0): # file\n",
    "        # print('file')\n",
    "        if i == alloc_idx:\n",
    "           p1 += allocate(file_pos, i, alloc_val)\n",
    "           break\n",
    "        # p1 += sum((file_pos + p) * (i//2+1) for p in range(d))\n",
    "        p1 += allocate(file_pos, i, d)\n",
    "        file_pos += d\n",
    "    else: # free space\n",
    "        # print('free')\n",
    "        while d > 0:\n",
    "            to_alloc = min(d, alloc_val)\n",
    "            d -= to_alloc\n",
    "            alloc_val -= to_alloc\n",
    "            # p1 += sum((file_pos + p) * (alloc_idx//2+1) for p in range(to_alloc))\n",
    "            p1 += allocate(file_pos, alloc_idx, to_alloc)\n",
    "            file_pos += to_alloc\n",
    "            if alloc_val == 0:\n",
    "                alloc_idx -= 2\n",
    "                assert alloc_idx > 0\n",
    "                alloc_val = int(dat[alloc_idx])\n",
    "        \n",
    "\n",
    "p1\n",
    "        \n",
    "            \n",
    "    \n",
    "    "
   ]
  },
  {
   "cell_type": "code",
   "execution_count": 12,
   "id": "43605b0a-b15c-494a-8a3a-10f8550e1499",
   "metadata": {
    "scrolled": true
   },
   "outputs": [
    {
     "name": "stderr",
     "output_type": "stream",
     "text": [
      "wrong answer: That's not the right answer.  If you're stuck, make sure you're using the full input data; there are also some general tips on the about page, or you can ask for hints on the subreddit.  Please wait one minute before trying again. [Return to Day 9]\n"
     ]
    },
    {
     "name": "stdout",
     "output_type": "stream",
     "text": [
      "\u001b[31mThat's not the right answer.  If you're stuck, make sure you're using the full input data; there are also some general tips on the about page, or you can ask for hints on the subreddit.  Please wait one minute before trying again. [Return to Day 9]\u001b[0m\n"
     ]
    },
    {
     "data": {
      "text/plain": [
       "<urllib3.response.HTTPResponse at 0x136a38160>"
      ]
     },
     "execution_count": 12,
     "metadata": {},
     "output_type": "execute_result"
    }
   ],
   "source": [
    "submit(p1, day=day, part='a', year=year)"
   ]
  },
  {
   "cell_type": "code",
   "execution_count": 9,
   "id": "f91f3c6f-05b9-4220-835d-c8e3d4ea8880",
   "metadata": {
    "scrolled": true
   },
   "outputs": [
    {
     "data": {
      "text/plain": [
       "6431472344710"
      ]
     },
     "execution_count": 9,
     "metadata": {},
     "output_type": "execute_result"
    }
   ],
   "source": [
    "def allocate(file_pos, file_idx, to_alloc):\n",
    "    res = 0\n",
    "    for p in range(to_alloc):\n",
    "        # print(file_pos + p, (file_idx//2 ))\n",
    "        res += (file_pos + p) * (file_idx//2 )\n",
    "    # print()\n",
    "    return res\n",
    "        \n",
    "\n",
    "\n",
    "p2 = 0\n",
    "to_allocate = {i:int(d) for i,d in enumerate(dat) if i % 2 == 0}\n",
    "allocated = set()\n",
    "file_pos = 0\n",
    "for i,d in enumerate(dat):\n",
    "    d = int(d)\n",
    "    if (i % 2 == 0): # file\n",
    "        # print('file')\n",
    "        if i not in allocated:\n",
    "            p2 += allocate(file_pos, i, d)\n",
    "        file_pos += d\n",
    "    else: # free space\n",
    "        # print('free')\n",
    "        to_check = list(sorted(to_allocate.keys(), reverse=True))\n",
    "        for alloc_idx in to_check:\n",
    "            alloc_val = to_allocate[alloc_idx]\n",
    "            if d < alloc_val:\n",
    "                continue\n",
    "            if i > alloc_idx:\n",
    "                to_allocate.pop(alloc_idx)\n",
    "                allocated.add(alloc_idx)\n",
    "                continue\n",
    "            # print('allocating',alloc_idx, alloc_val)\n",
    "            d -= alloc_val\n",
    "            p2 += allocate(file_pos, alloc_idx, alloc_val)\n",
    "            to_allocate.pop(alloc_idx)\n",
    "            allocated.add(alloc_idx)\n",
    "            file_pos += alloc_val\n",
    "        file_pos += d\n",
    "        \n",
    "\n",
    "p2\n",
    "        \n",
    "            \n",
    "    \n",
    "    "
   ]
  },
  {
   "cell_type": "code",
   "execution_count": 35,
   "id": "944174b9-4884-40ed-93c8-5b8148e4e514",
   "metadata": {},
   "outputs": [
    {
     "data": {
      "text/plain": [
       "[18, 16, 14, 12, 10, 8, 6, 4, 2, 0]"
      ]
     },
     "execution_count": 35,
     "metadata": {},
     "output_type": "execute_result"
    }
   ],
   "source": [
    "to_allocate = {i:int(d) for i,d in enumerate(dat) if i % 2 == 0}\n",
    "to_allocate\n",
    "sorted(to_allocate.keys(), reverse=True)"
   ]
  },
  {
   "cell_type": "code",
   "execution_count": 6,
   "id": "5f65e1f4-8298-4862-be2a-f9cdd18f0576",
   "metadata": {},
   "outputs": [],
   "source": []
  },
  {
   "cell_type": "code",
   "execution_count": 5,
   "id": "97419d4a-445d-49af-b661-8a7a11804406",
   "metadata": {
    "scrolled": true
   },
   "outputs": [
    {
     "name": "stderr",
     "output_type": "stream",
     "text": [
      "wrong answer: That's not the right answer; your answer is too high.  If you're stuck, make sure you're using the full input data; there are also some general tips on the about page, or you can ask for hints on the subreddit.  Please wait one minute before trying again. [Return to Day 9]\n"
     ]
    },
    {
     "name": "stdout",
     "output_type": "stream",
     "text": [
      "\u001b[31mThat's not the right answer; your answer is too high.  If you're stuck, make sure you're using the full input data; there are also some general tips on the about page, or you can ask for hints on the subreddit.  Please wait one minute before trying again. [Return to Day 9]\u001b[0m\n"
     ]
    },
    {
     "data": {
      "text/plain": [
       "<urllib3.response.HTTPResponse at 0x13c91f520>"
      ]
     },
     "execution_count": 5,
     "metadata": {},
     "output_type": "execute_result"
    }
   ],
   "source": [
    "submit(p2, day=day, part='b', year=year)"
   ]
  },
  {
   "cell_type": "code",
   "execution_count": null,
   "id": "33008cdb-1849-4306-8354-bd380c8ffee9",
   "metadata": {},
   "outputs": [],
   "source": []
  }
 ],
 "metadata": {
  "kernelspec": {
   "display_name": "conda_base",
   "language": "python",
   "name": "conda_base"
  },
  "language_info": {
   "codemirror_mode": {
    "name": "ipython",
    "version": 3
   },
   "file_extension": ".py",
   "mimetype": "text/x-python",
   "name": "python",
   "nbconvert_exporter": "python",
   "pygments_lexer": "ipython3",
   "version": "3.11.5"
  }
 },
 "nbformat": 4,
 "nbformat_minor": 5
}
