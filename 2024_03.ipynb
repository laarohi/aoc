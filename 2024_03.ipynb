{
 "cells": [
  {
   "cell_type": "code",
   "execution_count": 1,
   "id": "021838ca-c426-4c3d-b155-dcef79098cb1",
   "metadata": {},
   "outputs": [],
   "source": [
    "from aoc_utils import *\n",
    "\n",
    "import pandas as pd\n",
    "import numpy as np\n",
    "\n",
    "from aocd import get_data, submit"
   ]
  },
  {
   "cell_type": "code",
   "execution_count": 4,
   "id": "9c8b3281-561d-485d-a78e-99929790addf",
   "metadata": {},
   "outputs": [],
   "source": [
    "year = 2024\n",
    "day = 3"
   ]
  },
  {
   "cell_type": "code",
   "execution_count": 5,
   "id": "f942dbf5-a17e-475a-9c28-b7b699ba4436",
   "metadata": {},
   "outputs": [
    {
     "name": "stdout",
     "output_type": "stream",
     "text": [
      "                                                                               \n"
     ]
    }
   ],
   "source": [
    "dat = get_data(day=day, year=year, block=True)"
   ]
  },
  {
   "cell_type": "code",
   "execution_count": 14,
   "id": "f1ebf338-f7cd-432e-b2ee-d5638781b52c",
   "metadata": {
    "scrolled": true
   },
   "outputs": [
    {
     "data": {
      "text/plain": [
       "166630675"
      ]
     },
     "execution_count": 14,
     "metadata": {},
     "output_type": "execute_result"
    }
   ],
   "source": [
    "pat = r'mul\\(\\d*,\\d*\\)'\n",
    "f = re.findall(pat, dat)\n",
    "r = parse('\\n'.join(f), ints)\n",
    "res = sum(o[1]*o[0] for o in r)\n",
    "p1 = res\n",
    "p1"
   ]
  },
  {
   "cell_type": "code",
   "execution_count": 15,
   "id": "43605b0a-b15c-494a-8a3a-10f8550e1499",
   "metadata": {
    "scrolled": true
   },
   "outputs": [
    {
     "name": "stdout",
     "output_type": "stream",
     "text": [
      "\u001b[32mThat's the right answer!  You are one gold star closer to finding the Chief Historian. [Continue to Part Two]\u001b[0m\n"
     ]
    },
    {
     "data": {
      "text/plain": [
       "<urllib3.response.HTTPResponse at 0x15fb6f100>"
      ]
     },
     "execution_count": 15,
     "metadata": {},
     "output_type": "execute_result"
    }
   ],
   "source": [
    "submit(p1, day=day, part='a', year=year)"
   ]
  },
  {
   "cell_type": "code",
   "execution_count": 25,
   "id": "a89f5ef4-aee4-493a-a472-1dcf85c15076",
   "metadata": {
    "scrolled": true
   },
   "outputs": [
    {
     "data": {
      "text/plain": [
       "93465710"
      ]
     },
     "execution_count": 25,
     "metadata": {},
     "output_type": "execute_result"
    }
   ],
   "source": [
    "pat = r\"(mul\\(\\d*,\\d*\\))|(do\\(\\))|(don't\\(\\))\"\n",
    "f = re.findall(pat, dat)\n",
    "enabled = True\n",
    "res = 0\n",
    "for m,d,dnt in f:\n",
    "    if d:\n",
    "        enabled = True\n",
    "    if dnt:\n",
    "        enabled = False\n",
    "    if enabled and m:\n",
    "        m = parse(m, ints)[0]\n",
    "        res += m[0]*m[1]\n",
    "    \n",
    "        \n",
    "p2 = res\n",
    "p2"
   ]
  },
  {
   "cell_type": "code",
   "execution_count": 32,
   "id": "d49f4edb-ef3b-4894-a597-70171ee7e42c",
   "metadata": {},
   "outputs": [],
   "source": [
    "dat = re.sub(r'don\\'t\\(\\).*?do\\(\\)', '', dat, flags=re.DOTALL)\n",
    "digs = ints('_'.join(re.findall(r'(mul\\(\\d+,\\d+\\))', dat)))\n",
    "ans = sum([a * b for a, b in batched(digs, 2)])"
   ]
  },
  {
   "cell_type": "code",
   "execution_count": 33,
   "id": "7b79a8be-e663-4833-9b42-12715315345e",
   "metadata": {},
   "outputs": [
    {
     "data": {
      "text/plain": [
       "93465710"
      ]
     },
     "execution_count": 33,
     "metadata": {},
     "output_type": "execute_result"
    }
   ],
   "source": [
    "ans"
   ]
  },
  {
   "cell_type": "code",
   "execution_count": 36,
   "id": "7d613951-dfbf-4480-9db1-53f2606c96df",
   "metadata": {},
   "outputs": [
    {
     "data": {
      "text/plain": [
       "\u001b[0;31mSignature:\u001b[0m \u001b[0mbatched\u001b[0m\u001b[0;34m(\u001b[0m\u001b[0miterable\u001b[0m\u001b[0;34m,\u001b[0m \u001b[0mn\u001b[0m\u001b[0;34m)\u001b[0m \u001b[0;34m->\u001b[0m \u001b[0mIterable\u001b[0m\u001b[0;34m[\u001b[0m\u001b[0mtuple\u001b[0m\u001b[0;34m]\u001b[0m\u001b[0;34m\u001b[0m\u001b[0;34m\u001b[0m\u001b[0m\n",
       "\u001b[0;31mDocstring:\u001b[0m Batch data into non-overlapping tuples of length n. The last batch may be shorter.\n",
       "\u001b[0;31mFile:\u001b[0m      ~/pyfiles/aoc/aoc_utils.py\n",
       "\u001b[0;31mType:\u001b[0m      function"
      ]
     },
     "metadata": {},
     "output_type": "display_data"
    }
   ],
   "source": [
    "batched?"
   ]
  },
  {
   "cell_type": "code",
   "execution_count": 26,
   "id": "97419d4a-445d-49af-b661-8a7a11804406",
   "metadata": {
    "scrolled": true
   },
   "outputs": [
    {
     "name": "stdout",
     "output_type": "stream",
     "text": [
      "\u001b[32mThat's the right answer!  You are one gold star closer to finding the Chief Historian.You have completed Day 3! You can [Shareon\n",
      "  Bluesky\n",
      "Twitter\n",
      "Mastodon] this victory or [Return to Your Advent Calendar].\u001b[0m\n"
     ]
    },
    {
     "data": {
      "text/plain": [
       "<urllib3.response.HTTPResponse at 0x15fbc3bb0>"
      ]
     },
     "execution_count": 26,
     "metadata": {},
     "output_type": "execute_result"
    }
   ],
   "source": [
    "submit(p2, day=day, part='b', year=year)"
   ]
  }
 ],
 "metadata": {
  "kernelspec": {
   "display_name": "conda_base",
   "language": "python",
   "name": "conda_base"
  },
  "language_info": {
   "codemirror_mode": {
    "name": "ipython",
    "version": 3
   },
   "file_extension": ".py",
   "mimetype": "text/x-python",
   "name": "python",
   "nbconvert_exporter": "python",
   "pygments_lexer": "ipython3",
   "version": "3.11.5"
  }
 },
 "nbformat": 4,
 "nbformat_minor": 5
}
