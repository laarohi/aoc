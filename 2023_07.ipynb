{
 "cells": [
  {
   "cell_type": "code",
   "execution_count": 2,
   "id": "021838ca-c426-4c3d-b155-dcef79098cb1",
   "metadata": {},
   "outputs": [],
   "source": [
    "from aoc_utils import *\n",
    "\n",
    "import pandas as pd\n",
    "import numpy as np\n",
    "\n",
    "from aocd import get_data, submit"
   ]
  },
  {
   "cell_type": "code",
   "execution_count": 3,
   "id": "9c8b3281-561d-485d-a78e-99929790addf",
   "metadata": {},
   "outputs": [],
   "source": [
    "year = 2023\n",
    "day = 7"
   ]
  },
  {
   "cell_type": "code",
   "execution_count": 70,
   "id": "f942dbf5-a17e-475a-9c28-b7b699ba4436",
   "metadata": {},
   "outputs": [],
   "source": [
    "dat = get_data(day=day, year=year, block=True)"
   ]
  },
  {
   "cell_type": "code",
   "execution_count": 78,
   "id": "f1ebf338-f7cd-432e-b2ee-d5638781b52c",
   "metadata": {
    "scrolled": true
   },
   "outputs": [],
   "source": [
    "cmap = dict(A='Z',K='Y',Q='X',J='W',T='V')\n",
    "score = lambda x: cat(map(str, sorted(list(Counter(x).values()), reverse=True))) + cat([cmap.get(i,i) for i in x])"
   ]
  },
  {
   "cell_type": "code",
   "execution_count": 79,
   "id": "251f991f-2eb4-49e1-8f57-47a2ac235ce4",
   "metadata": {},
   "outputs": [
    {
     "data": {
      "text/plain": [
       "248422077"
      ]
     },
     "execution_count": 79,
     "metadata": {},
     "output_type": "execute_result"
    }
   ],
   "source": [
    "d = [i.split() for i in dat.splitlines()]\n",
    "d = sorted([(hand,bid) for hand,bid in d], key=lambda x: score(x[0]))\n",
    "p1 = sum([((i+1)*int(b)) for i,(h,b) in enumerate(d)])\n",
    "p1"
   ]
  },
  {
   "cell_type": "code",
   "execution_count": 46,
   "id": "43605b0a-b15c-494a-8a3a-10f8550e1499",
   "metadata": {
    "collapsed": true,
    "jupyter": {
     "outputs_hidden": true
    },
    "scrolled": true
   },
   "outputs": [
    {
     "name": "stdout",
     "output_type": "stream",
     "text": [
      "\u001b[32mThat's the right answer!  You are one gold star closer to restoring snow operations. [Continue to Part Two]\u001b[0m\n"
     ]
    },
    {
     "data": {
      "text/plain": [
       "<urllib3.response.HTTPResponse at 0x1653c5810>"
      ]
     },
     "execution_count": 46,
     "metadata": {},
     "output_type": "execute_result"
    }
   ],
   "source": [
    "submit(p1, day=day, part='a', year=year)"
   ]
  },
  {
   "cell_type": "code",
   "execution_count": 80,
   "id": "5f65e1f4-8298-4862-be2a-f9cdd18f0576",
   "metadata": {},
   "outputs": [],
   "source": [
    "cmap = dict(A='Z',K='Y',Q='X',J='0',T='V')\n",
    "def score(x): \n",
    "    vals = Counter(x)\n",
    "    if 'J' in vals:\n",
    "        j = vals.pop('J')\n",
    "        if vals.most_common():\n",
    "            mc = vals.most_common()[0][0]\n",
    "        else:\n",
    "            mc = '1'\n",
    "        vals[mc] += j\n",
    "    res = cat(map(str, sorted(list(vals.values()), reverse=True)))\n",
    "    res += cat([cmap.get(i,i) for i in x])\n",
    "    return res"
   ]
  },
  {
   "cell_type": "code",
   "execution_count": 81,
   "id": "95d38f08-2513-425c-9b93-eab049c59750",
   "metadata": {},
   "outputs": [
    {
     "data": {
      "text/plain": [
       "249817836"
      ]
     },
     "execution_count": 81,
     "metadata": {},
     "output_type": "execute_result"
    }
   ],
   "source": [
    "d = [i.split() for i in dat.splitlines()]\n",
    "d = sorted([(hand,bid) for hand,bid in d], key=lambda x: score(x[0]))\n",
    "p2 = sum([((i+1)*int(b)) for i,(h,b) in enumerate(d)])\n",
    "p2"
   ]
  },
  {
   "cell_type": "code",
   "execution_count": 77,
   "id": "97419d4a-445d-49af-b661-8a7a11804406",
   "metadata": {
    "collapsed": true,
    "jupyter": {
     "outputs_hidden": true
    },
    "scrolled": true
   },
   "outputs": [
    {
     "name": "stdout",
     "output_type": "stream",
     "text": [
      "\u001b[32mThat's the right answer!  You are one gold star closer to restoring snow operations.You have completed Day 7! You can [Shareon\n",
      "  Twitter\n",
      "Mastodon] this victory or [Return to Your Advent Calendar].\u001b[0m\n"
     ]
    },
    {
     "data": {
      "text/plain": [
       "<urllib3.response.HTTPResponse at 0x165bc4460>"
      ]
     },
     "execution_count": 77,
     "metadata": {},
     "output_type": "execute_result"
    }
   ],
   "source": [
    "submit(p2, day=day, part='b', year=year)"
   ]
  },
  {
   "cell_type": "code",
   "execution_count": null,
   "id": "49e09d78-1807-432a-ab63-9613247fb577",
   "metadata": {},
   "outputs": [],
   "source": []
  }
 ],
 "metadata": {
  "kernelspec": {
   "display_name": "conda_base",
   "language": "python",
   "name": "conda_base"
  },
  "language_info": {
   "codemirror_mode": {
    "name": "ipython",
    "version": 3
   },
   "file_extension": ".py",
   "mimetype": "text/x-python",
   "name": "python",
   "nbconvert_exporter": "python",
   "pygments_lexer": "ipython3",
   "version": "3.11.5"
  }
 },
 "nbformat": 4,
 "nbformat_minor": 5
}
