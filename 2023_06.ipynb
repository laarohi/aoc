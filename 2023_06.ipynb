{
 "cells": [
  {
   "cell_type": "code",
   "execution_count": 1,
   "id": "021838ca-c426-4c3d-b155-dcef79098cb1",
   "metadata": {},
   "outputs": [],
   "source": [
    "from aoc_utils import *\n",
    "\n",
    "import pandas as pd\n",
    "import numpy as np\n",
    "\n",
    "from aocd import get_data, submit"
   ]
  },
  {
   "cell_type": "code",
   "execution_count": 2,
   "id": "9c8b3281-561d-485d-a78e-99929790addf",
   "metadata": {},
   "outputs": [],
   "source": [
    "year = 2023\n",
    "day = 6"
   ]
  },
  {
   "cell_type": "code",
   "execution_count": 31,
   "id": "f942dbf5-a17e-475a-9c28-b7b699ba4436",
   "metadata": {},
   "outputs": [],
   "source": [
    "dat = get_data(day=day, year=year, block=True)"
   ]
  },
  {
   "cell_type": "code",
   "execution_count": 32,
   "id": "f1ebf338-f7cd-432e-b2ee-d5638781b52c",
   "metadata": {
    "scrolled": true
   },
   "outputs": [],
   "source": [
    "times, dist = parse(dat, ints)"
   ]
  },
  {
   "cell_type": "code",
   "execution_count": 37,
   "id": "bcaa13e5-7a53-4b3a-bf8c-6cac41ba069c",
   "metadata": {},
   "outputs": [],
   "source": [
    "res = 1\n",
    "for t, d in zip(times, dist):\n",
    "    res *= sum([d<i*(t-i) for i in range(0,t+1)])\n",
    "p1 = res"
   ]
  },
  {
   "cell_type": "code",
   "execution_count": 36,
   "id": "43605b0a-b15c-494a-8a3a-10f8550e1499",
   "metadata": {
    "scrolled": true
   },
   "outputs": [
    {
     "name": "stdout",
     "output_type": "stream",
     "text": [
      "\u001b[32mThat's the right answer!  You are one gold star closer to restoring snow operations. [Continue to Part Two]\u001b[0m\n"
     ]
    },
    {
     "data": {
      "text/plain": [
       "<urllib3.response.HTTPResponse at 0x12e1965f0>"
      ]
     },
     "execution_count": 36,
     "metadata": {},
     "output_type": "execute_result"
    }
   ],
   "source": [
    "submit(p1, day=day, part='a', year=year)"
   ]
  },
  {
   "cell_type": "code",
   "execution_count": 44,
   "id": "0ee5ac30-3bf3-44b9-962e-09d6cc48123b",
   "metadata": {},
   "outputs": [],
   "source": [
    "t = int(''.join(map(str, times)))\n",
    "d = int(''.join(map(str, dist)))"
   ]
  },
  {
   "cell_type": "code",
   "execution_count": 50,
   "id": "55ec8fdd-aa7a-48fd-ab1b-577a48834ff8",
   "metadata": {},
   "outputs": [],
   "source": [
    "import math\n",
    "#i*t * -i**2  - d = 0\n",
    "a = -1\n",
    "b = t \n",
    "c = -d\n",
    "ans_1 = int((-b + math.sqrt(b**2 - 4*a*c)) / (2 * a)) + 1\n",
    "ans_2 = int((-b - math.sqrt(b**2 - 4*a*c)) / (2 * a)) + 1\n",
    "p2 = ans_2 - ans_1"
   ]
  },
  {
   "cell_type": "code",
   "execution_count": 53,
   "id": "97419d4a-445d-49af-b661-8a7a11804406",
   "metadata": {
    "scrolled": true
   },
   "outputs": [
    {
     "name": "stdout",
     "output_type": "stream",
     "text": [
      "\u001b[32mThat's the right answer!  You are one gold star closer to restoring snow operations.You have completed Day 6! You can [Shareon\n",
      "  Twitter\n",
      "Mastodon] this victory or [Return to Your Advent Calendar].\u001b[0m\n"
     ]
    },
    {
     "data": {
      "text/plain": [
       "<urllib3.response.HTTPResponse at 0x12e198580>"
      ]
     },
     "execution_count": 53,
     "metadata": {},
     "output_type": "execute_result"
    }
   ],
   "source": [
    "submit(p2, day=day, part='b', year=year)"
   ]
  }
 ],
 "metadata": {
  "kernelspec": {
   "display_name": "conda_base",
   "language": "python",
   "name": "conda_base"
  },
  "language_info": {
   "codemirror_mode": {
    "name": "ipython",
    "version": 3
   },
   "file_extension": ".py",
   "mimetype": "text/x-python",
   "name": "python",
   "nbconvert_exporter": "python",
   "pygments_lexer": "ipython3",
   "version": "3.11.5"
  }
 },
 "nbformat": 4,
 "nbformat_minor": 5
}
