{
 "cells": [
  {
   "cell_type": "code",
   "execution_count": 1,
   "id": "021838ca-c426-4c3d-b155-dcef79098cb1",
   "metadata": {},
   "outputs": [],
   "source": [
    "from aoc_utils import *\n",
    "\n",
    "import pandas as pd\n",
    "import numpy as np\n",
    "\n",
    "from aocd import get_data, submit"
   ]
  },
  {
   "cell_type": "code",
   "execution_count": 2,
   "id": "9c8b3281-561d-485d-a78e-99929790addf",
   "metadata": {},
   "outputs": [],
   "source": [
    "year = 2023\n",
    "day = 12"
   ]
  },
  {
   "cell_type": "code",
   "execution_count": 179,
   "id": "f942dbf5-a17e-475a-9c28-b7b699ba4436",
   "metadata": {},
   "outputs": [],
   "source": [
    "dat = get_data(day=day, year=year, block=True)"
   ]
  },
  {
   "cell_type": "code",
   "execution_count": 203,
   "id": "6868b8c9-0cca-4c00-8c27-83f8052da11f",
   "metadata": {},
   "outputs": [],
   "source": [
    "dat = '''???.### 1,1,3\n",
    ".??..??...?##. 1,1,3\n",
    "?#?#?#?#?#?#?#? 1,3,1,6\n",
    "????.#...#... 4,1,1\n",
    "????.######..#####. 1,6,5\n",
    "?###???????? 3,2,1'''"
   ]
  },
  {
   "cell_type": "code",
   "execution_count": 123,
   "id": "f1ebf338-f7cd-432e-b2ee-d5638781b52c",
   "metadata": {
    "scrolled": true
   },
   "outputs": [],
   "source": [
    "from copy import copy\n",
    "res = 0\n",
    "\n",
    "def is_valid(g, c):\n",
    "    gs = ''.join(g)\n",
    "    gs = gs.split('.')\n",
    "    gsc = [len(ig) for ig in gs]\n",
    "    return gsc == c\n",
    "    \n",
    "\n",
    "for l in dat.splitlines():\n",
    "    g, c = l.split(' ')\n",
    "    c = c.split(',')\n",
    "    c = [int(s) for s in c]\n",
    "    tot_c = sum(c)\n",
    "    q_idx = [i for i,q in enumerate(g) if q == '?']\n",
    "    tot_q = len(q_idx)\n",
    "    tot_h = len([h for h in g if h == '#'])\n",
    "    base = list(g)\n",
    "    for comb in combinations(q_idx, tot_c-tot_h):\n",
    "        test = copy(base)\n",
    "        for i in q_idx:\n",
    "            if i in comb:\n",
    "                test[i] = '#'\n",
    "            else:\n",
    "                test[i] = '.'\n",
    "        test_s = ''.join(test)\n",
    "        test_s = test_s.split('.')\n",
    "        test_c = [len(ig) for ig in test_s if len(ig)]\n",
    "        res += (test_c == c)\n",
    "            \n",
    "        "
   ]
  },
  {
   "cell_type": "code",
   "execution_count": 39,
   "id": "97557532-8ebd-4926-a1b8-96e48cd8de4e",
   "metadata": {},
   "outputs": [],
   "source": [
    "p1 = res"
   ]
  },
  {
   "cell_type": "code",
   "execution_count": 40,
   "id": "43605b0a-b15c-494a-8a3a-10f8550e1499",
   "metadata": {},
   "outputs": [
    {
     "name": "stdout",
     "output_type": "stream",
     "text": [
      "\u001b[32mThat's the right answer!  You are one gold star closer to restoring snow operations. [Continue to Part Two]\u001b[0m\n"
     ]
    },
    {
     "data": {
      "text/plain": [
       "<urllib3.response.HTTPResponse at 0x154696b00>"
      ]
     },
     "execution_count": 40,
     "metadata": {},
     "output_type": "execute_result"
    }
   ],
   "source": [
    "submit(p1, day=day, part='a', year=year)"
   ]
  },
  {
   "cell_type": "code",
   "execution_count": 156,
   "id": "50396e19-cc21-4f23-9124-eefb8f704ff3",
   "metadata": {},
   "outputs": [],
   "source": [
    "from tqdm import tqdm"
   ]
  },
  {
   "cell_type": "code",
   "execution_count": 214,
   "id": "6ba35dd1-3391-4327-861c-76a37079abcc",
   "metadata": {
    "scrolled": true
   },
   "outputs": [
    {
     "name": "stdout",
     "output_type": "stream",
     "text": [
      "### 1\n",
      "find combs l='###', c=1, i=0, s='#', b_prop=deque([]), b_target=1, combs=[]\n",
      "find combs l='###', c=1, i=1, s='#', b_prop=deque(['#']), b_target=1, combs=[]\n",
      "combs: []\n",
      "??? 1\n",
      "find combs l='???', c=1, i=0, s='?', b_prop=deque([]), b_target=1, combs=[]\n",
      "find combs l='???', c=1, i=1, s='?', b_prop=deque(['?']), b_target=1, combs=[]\n",
      "find combs l='???', c=1, i=2, s='?', b_prop=deque(['?']), b_target=1, combs=[2]\n",
      "find combs l='???', c=1, i=3, s='.', b_prop=deque(['?']), b_target=1, combs=[2, 3]\n",
      "combs: [2, 3, 4]\n",
      "### 1\n",
      "find combs l='###', c=1, i=0, s='#', b_prop=deque([]), b_target=1, combs=[]\n",
      "find combs l='###', c=1, i=1, s='#', b_prop=deque(['#']), b_target=1, combs=[]\n",
      "combs: []\n",
      "? 1\n",
      "find combs l='?', c=1, i=0, s='?', b_prop=deque([]), b_target=1, combs=[]\n",
      "find combs l='?', c=1, i=1, s='.', b_prop=deque(['?']), b_target=1, combs=[]\n",
      "combs: [2]\n",
      "### 3\n",
      "find combs l='###', c=3, i=0, s='#', b_prop=deque([]), b_target=3, combs=[]\n",
      "find combs l='###', c=3, i=1, s='#', b_prop=deque(['#']), b_target=3, combs=[]\n",
      "find combs l='###', c=3, i=2, s='#', b_prop=deque(['#', '#']), b_target=3, combs=[]\n",
      "find combs l='###', c=3, i=3, s='.', b_prop=deque(['#', '#', '#']), b_target=3, combs=[]\n",
      "combs: [4]\n",
      "### 1\n",
      "find combs l='###', c=1, i=0, s='#', b_prop=deque([]), b_target=1, combs=[]\n",
      "find combs l='###', c=1, i=1, s='#', b_prop=deque(['#']), b_target=1, combs=[]\n",
      "combs: []\n",
      "### 1\n",
      "find combs l='###', c=1, i=0, s='#', b_prop=deque([]), b_target=1, combs=[]\n",
      "find combs l='###', c=1, i=1, s='#', b_prop=deque(['#']), b_target=1, combs=[]\n",
      "combs: []\n",
      "\n",
      "COUNT\n",
      " 1\n",
      "?## 1\n",
      "find combs l='?##', c=1, i=0, s='?', b_prop=deque([]), b_target=1, combs=[]\n",
      "find combs l='?##', c=1, i=1, s='#', b_prop=deque(['?']), b_target=1, combs=[]\n",
      "find combs l='?##', c=1, i=2, s='#', b_prop=deque(['#']), b_target=1, combs=[]\n",
      "combs: []\n",
      " 1\n",
      "combs: []\n",
      " 1\n",
      "combs: []\n",
      "?? 1\n",
      "find combs l='??', c=1, i=0, s='?', b_prop=deque([]), b_target=1, combs=[]\n",
      "find combs l='??', c=1, i=1, s='?', b_prop=deque(['?']), b_target=1, combs=[]\n",
      "find combs l='??', c=1, i=2, s='.', b_prop=deque(['?']), b_target=1, combs=[2]\n",
      "combs: [2, 3]\n",
      "?## 1\n",
      "find combs l='?##', c=1, i=0, s='?', b_prop=deque([]), b_target=1, combs=[]\n",
      "find combs l='?##', c=1, i=1, s='#', b_prop=deque(['?']), b_target=1, combs=[]\n",
      "find combs l='?##', c=1, i=2, s='#', b_prop=deque(['#']), b_target=1, combs=[]\n",
      "combs: []\n",
      " 1\n",
      "combs: []\n",
      " 1\n",
      "combs: []\n",
      "?## 1\n",
      "find combs l='?##', c=1, i=0, s='?', b_prop=deque([]), b_target=1, combs=[]\n",
      "find combs l='?##', c=1, i=1, s='#', b_prop=deque(['?']), b_target=1, combs=[]\n",
      "find combs l='?##', c=1, i=2, s='#', b_prop=deque(['#']), b_target=1, combs=[]\n",
      "combs: []\n",
      " 1\n",
      "combs: []\n",
      " 1\n",
      "combs: []\n",
      " 1\n",
      "combs: []\n",
      "?? 1\n",
      "find combs l='??', c=1, i=0, s='?', b_prop=deque([]), b_target=1, combs=[]\n",
      "find combs l='??', c=1, i=1, s='?', b_prop=deque(['?']), b_target=1, combs=[]\n",
      "find combs l='??', c=1, i=2, s='.', b_prop=deque(['?']), b_target=1, combs=[2]\n",
      "combs: [2, 3]\n",
      "?## 1\n",
      "find combs l='?##', c=1, i=0, s='?', b_prop=deque([]), b_target=1, combs=[]\n",
      "find combs l='?##', c=1, i=1, s='#', b_prop=deque(['?']), b_target=1, combs=[]\n",
      "find combs l='?##', c=1, i=2, s='#', b_prop=deque(['#']), b_target=1, combs=[]\n",
      "combs: []\n",
      " 1\n",
      "combs: []\n",
      " 1\n",
      "combs: []\n",
      "?? 1\n",
      "find combs l='??', c=1, i=0, s='?', b_prop=deque([]), b_target=1, combs=[]\n",
      "find combs l='??', c=1, i=1, s='?', b_prop=deque(['?']), b_target=1, combs=[]\n",
      "find combs l='??', c=1, i=2, s='.', b_prop=deque(['?']), b_target=1, combs=[2]\n",
      "combs: [2, 3]\n",
      "?## 3\n",
      "find combs l='?##', c=3, i=0, s='?', b_prop=deque([]), b_target=3, combs=[]\n",
      "find combs l='?##', c=3, i=1, s='#', b_prop=deque(['?']), b_target=3, combs=[]\n",
      "find combs l='?##', c=3, i=2, s='#', b_prop=deque(['?', '#']), b_target=3, combs=[]\n",
      "find combs l='?##', c=3, i=3, s='.', b_prop=deque(['?', '#', '#']), b_target=3, combs=[]\n",
      "combs: [4]\n",
      " 3\n",
      "combs: []\n",
      " 3\n",
      "combs: []\n",
      "?## 3\n",
      "find combs l='?##', c=3, i=0, s='?', b_prop=deque([]), b_target=3, combs=[]\n",
      "find combs l='?##', c=3, i=1, s='#', b_prop=deque(['?']), b_target=3, combs=[]\n",
      "find combs l='?##', c=3, i=2, s='#', b_prop=deque(['?', '#']), b_target=3, combs=[]\n",
      "find combs l='?##', c=3, i=3, s='.', b_prop=deque(['?', '#', '#']), b_target=3, combs=[]\n",
      "combs: [4]\n",
      " 3\n",
      "combs: []\n",
      " 3\n",
      "combs: []\n",
      " 1\n",
      "combs: []\n",
      "?## 1\n",
      "find combs l='?##', c=1, i=0, s='?', b_prop=deque([]), b_target=1, combs=[]\n",
      "find combs l='?##', c=1, i=1, s='#', b_prop=deque(['?']), b_target=1, combs=[]\n",
      "find combs l='?##', c=1, i=2, s='#', b_prop=deque(['#']), b_target=1, combs=[]\n",
      "combs: []\n",
      " 1\n",
      "combs: []\n",
      " 1\n",
      "combs: []\n",
      "?? 1\n",
      "find combs l='??', c=1, i=0, s='?', b_prop=deque([]), b_target=1, combs=[]\n",
      "find combs l='??', c=1, i=1, s='?', b_prop=deque(['?']), b_target=1, combs=[]\n",
      "find combs l='??', c=1, i=2, s='.', b_prop=deque(['?']), b_target=1, combs=[2]\n",
      "combs: [2, 3]\n",
      "?## 3\n",
      "find combs l='?##', c=3, i=0, s='?', b_prop=deque([]), b_target=3, combs=[]\n",
      "find combs l='?##', c=3, i=1, s='#', b_prop=deque(['?']), b_target=3, combs=[]\n",
      "find combs l='?##', c=3, i=2, s='#', b_prop=deque(['?', '#']), b_target=3, combs=[]\n",
      "find combs l='?##', c=3, i=3, s='.', b_prop=deque(['?', '#', '#']), b_target=3, combs=[]\n",
      "combs: [4]\n",
      " 3\n",
      "combs: []\n",
      " 3\n",
      "combs: []\n",
      "?## 3\n",
      "find combs l='?##', c=3, i=0, s='?', b_prop=deque([]), b_target=3, combs=[]\n",
      "find combs l='?##', c=3, i=1, s='#', b_prop=deque(['?']), b_target=3, combs=[]\n",
      "find combs l='?##', c=3, i=2, s='#', b_prop=deque(['?', '#']), b_target=3, combs=[]\n",
      "find combs l='?##', c=3, i=3, s='.', b_prop=deque(['?', '#', '#']), b_target=3, combs=[]\n",
      "combs: [4]\n",
      " 3\n",
      "combs: []\n",
      " 3\n",
      "combs: []\n",
      " 1\n",
      "combs: []\n",
      " 1\n",
      "combs: []\n",
      "\n",
      "COUNT\n",
      " 0\n",
      "?#?#?#?#?#?#?#? 1\n",
      "find combs l='?#?#?#?#?#?#?#?', c=1, i=0, s='?', b_prop=deque([]), b_target=1, combs=[]\n",
      "find combs l='?#?#?#?#?#?#?#?', c=1, i=1, s='#', b_prop=deque(['?']), b_target=1, combs=[]\n",
      "find combs l='?#?#?#?#?#?#?#?', c=1, i=2, s='?', b_prop=deque(['#']), b_target=1, combs=[]\n",
      "combs: [3]\n"
     ]
    },
    {
     "ename": "TypeError",
     "evalue": "can only concatenate str (not \"NoneType\") to str",
     "output_type": "error",
     "traceback": [
      "\u001b[0;31m---------------------------------------------------------------------------\u001b[0m",
      "\u001b[0;31mTypeError\u001b[0m                                 Traceback (most recent call last)",
      "Cell \u001b[0;32mIn[214], line 98\u001b[0m\n\u001b[1;32m     94\u001b[0m c \u001b[38;5;241m=\u001b[39m [\u001b[38;5;28mint\u001b[39m(s) \u001b[38;5;28;01mfor\u001b[39;00m s \u001b[38;5;129;01min\u001b[39;00m c]\n\u001b[1;32m     95\u001b[0m \u001b[38;5;66;03m# g = '?'.join([g]*5)\u001b[39;00m\n\u001b[1;32m     96\u001b[0m \u001b[38;5;66;03m# c = c*5\u001b[39;00m\n\u001b[1;32m     97\u001b[0m \u001b[38;5;66;03m#g = [i for i in g.split('.') if i]\u001b[39;00m\n\u001b[0;32m---> 98\u001b[0m r \u001b[38;5;241m=\u001b[39m  \u001b[43mcount_combs\u001b[49m\u001b[43m(\u001b[49m\u001b[43mg\u001b[49m\u001b[43m,\u001b[49m\u001b[43m \u001b[49m\u001b[43mc\u001b[49m\u001b[43m)\u001b[49m\n\u001b[1;32m     99\u001b[0m \u001b[38;5;28mprint\u001b[39m(\u001b[38;5;124m'\u001b[39m\u001b[38;5;130;01m\\n\u001b[39;00m\u001b[38;5;124mCOUNT\u001b[39m\u001b[38;5;130;01m\\n\u001b[39;00m\u001b[38;5;124m'\u001b[39m, r)\n\u001b[1;32m    100\u001b[0m res \u001b[38;5;241m+\u001b[39m\u001b[38;5;241m=\u001b[39m r\n",
      "Cell \u001b[0;32mIn[214], line 56\u001b[0m, in \u001b[0;36mcount_combs\u001b[0;34m(g, c)\u001b[0m\n\u001b[1;32m     54\u001b[0m remaining \u001b[38;5;241m=\u001b[39m current[comb_idx:]\n\u001b[1;32m     55\u001b[0m \u001b[38;5;28;01mif\u001b[39;00m remaining:\n\u001b[0;32m---> 56\u001b[0m     res \u001b[38;5;241m+\u001b[39m\u001b[38;5;241m=\u001b[39m count_combs(\u001b[43mcurrent\u001b[49m\u001b[43m[\u001b[49m\u001b[43mcomb_idx\u001b[49m\u001b[43m:\u001b[49m\u001b[43m]\u001b[49m\u001b[38;5;241;43m+\u001b[39;49m\u001b[38;5;124;43m'\u001b[39;49m\u001b[38;5;124;43m.\u001b[39;49m\u001b[38;5;124;43m'\u001b[39;49m\u001b[38;5;241;43m+\u001b[39;49m\u001b[43mrest\u001b[49m, c_rest)\n\u001b[1;32m     57\u001b[0m \u001b[38;5;28;01melif\u001b[39;00m rest:\n\u001b[1;32m     58\u001b[0m     res \u001b[38;5;241m+\u001b[39m\u001b[38;5;241m=\u001b[39m count_combs(rest, c_rest)\n",
      "\u001b[0;31mTypeError\u001b[0m: can only concatenate str (not \"NoneType\") to str"
     ]
    }
   ],
   "source": [
    "from copy import copy\n",
    "\n",
    "and_pat = re.compile(r'[#?]+')\n",
    "or_pat = re.compile(r'#+|\\?+')\n",
    "\n",
    "# def find_combs(l, c, res=0):\n",
    "#     if not c:\n",
    "#         return 1\n",
    "#     if len(l.replace('.','')) < sum(c):\n",
    "#         #print('not enough broken')\n",
    "#         return 0\n",
    "#     # if len(c) < len([i for i in l.split('.') if i]):\n",
    "#     #     print(l, c)\n",
    "#     #     print('too many fixed')\n",
    "#         return 0\n",
    "#     b_prop = deque()\n",
    "#     b_target = c[0]\n",
    "#     for i,s in enumerate( l + '.'):\n",
    "#         if len(b_prop) == b_target:\n",
    "#             if s != '#':\n",
    "#                 res += 1 * find_combs(l[i+1:],c[1:])\n",
    "#             if b_prop[0] == '#' :\n",
    "#                 return res\n",
    "#             else:\n",
    "#                 b_prop.popleft()\n",
    "#         if s == '.' and '#' in b_prop:\n",
    "#                 # reached . but havent reached c_target\n",
    "#                 return res\n",
    "#         if ('?' not in l[i:] and '#' not in l[i:]):\n",
    "#             return res\n",
    "#         if s in '#?':\n",
    "#             b_prop.append(s)\n",
    "\n",
    "\n",
    "def count_combs(g, c):\n",
    "    g = g.split('.', maxsplit=1)\n",
    "    if len(g) == 2:\n",
    "        current, rest = g\n",
    "    else: \n",
    "        current, rest = g[0], None\n",
    "    if len(c) > 1:\n",
    "        c_cur, c_rest = c[0], c[1:]\n",
    "    else:\n",
    "        c_cur, c_rest = c[0], None\n",
    "    res = 0\n",
    "    if '#' not in current:\n",
    "        if rest:\n",
    "            res += count_combs(rest, c)\n",
    "    print(current, c_cur)\n",
    "    combs = find_combs(current,c_cur)\n",
    "    print('combs:',combs)\n",
    "    if c_rest:\n",
    "        for comb_idx in combs:\n",
    "            remaining = current[comb_idx:]\n",
    "            if remaining:\n",
    "                res += count_combs(current[comb_idx:]+'.'+rest, c_rest)\n",
    "            elif rest:\n",
    "                res += count_combs(rest, c_rest)\n",
    "            else:\n",
    "                res += 1\n",
    "    else:\n",
    "        return len(combs)\n",
    "    return res\n",
    "\n",
    "            \n",
    "def find_combs(l, c):\n",
    "    if not l:\n",
    "        return []\n",
    "    b_prop = deque()\n",
    "    b_target = c\n",
    "    combs = []\n",
    "    for i,s in enumerate( l + '.'):\n",
    "        print('find combs', f'{l=}, {c=}, {i=}, {s=}, {b_prop=}, {b_target=}, {combs=}')\n",
    "        if len(b_prop) == b_target:\n",
    "            if s != '#':\n",
    "                combs.append(i+1)\n",
    "            if b_prop[0] == '#':\n",
    "                return combs\n",
    "            else:\n",
    "                b_prop.popleft()\n",
    "        if s == '.' and '#' in b_prop:\n",
    "                # reached . but havent reached c_target\n",
    "                return combs\n",
    "        if s in '#?':\n",
    "            b_prop.append(s)\n",
    "    return combs\n",
    "            \n",
    "        \n",
    "res = 0\n",
    "for i, l in enumerate(dat.splitlines()):\n",
    "    g, c = l.split(' ')\n",
    "    c = c.split(',')\n",
    "    c = [int(s) for s in c]\n",
    "    # g = '?'.join([g]*5)\n",
    "    # c = c*5\n",
    "    #g = [i for i in g.split('.') if i]\n",
    "    r =  count_combs(g, c)\n",
    "    print('\\nCOUNT\\n', r)\n",
    "    res += r\n",
    "print(res)        \n",
    "            \n",
    "        \n",
    "    \n",
    "    \n",
    "    # for comb in combinations(q_idx, tot_c-tot_h):\n",
    "    #     test = copy(base)\n",
    "    #     for i in q_idx:\n",
    "    #         if i in comb:\n",
    "    #             test[i] = '#'\n",
    "    #         else:\n",
    "    #             test[i] = '.'\n",
    "    #     test_s = ''.join(test)\n",
    "    #     test_s = test_s.split('.')\n",
    "    #     test_c = [len(ig) for ig in test_s if len(ig)]\n",
    "    #     res += (test_c == c)\n",
    "            "
   ]
  },
  {
   "cell_type": "code",
   "execution_count": 216,
   "id": "75ff7428-0e89-40b4-a2cb-89df14d0f787",
   "metadata": {},
   "outputs": [
    {
     "name": "stdout",
     "output_type": "stream",
     "text": [
      "???.### 1,1,3\n",
      ".??..??...?##. 1,1,3\n",
      "?#?#?#?#?#?#?#? 1,3,1,6\n",
      "????.#...#... 4,1,1\n",
      "????.######..#####. 1,6,5\n",
      "?###???????? 3,2,1\n"
     ]
    }
   ],
   "source": [
    "print(dat)"
   ]
  },
  {
   "cell_type": "code",
   "execution_count": 199,
   "id": "eceade02-c64e-45d4-98ff-b9a5691ac16b",
   "metadata": {},
   "outputs": [
    {
     "data": {
      "text/plain": [
       "\u001b[0;31mSignature:\u001b[0m \u001b[0mstr\u001b[0m\u001b[0;34m.\u001b[0m\u001b[0msplit\u001b[0m\u001b[0;34m(\u001b[0m\u001b[0mself\u001b[0m\u001b[0;34m,\u001b[0m \u001b[0;34m/\u001b[0m\u001b[0;34m,\u001b[0m \u001b[0msep\u001b[0m\u001b[0;34m=\u001b[0m\u001b[0;32mNone\u001b[0m\u001b[0;34m,\u001b[0m \u001b[0mmaxsplit\u001b[0m\u001b[0;34m=\u001b[0m\u001b[0;34m-\u001b[0m\u001b[0;36m1\u001b[0m\u001b[0;34m)\u001b[0m\u001b[0;34m\u001b[0m\u001b[0;34m\u001b[0m\u001b[0m\n",
       "\u001b[0;31mDocstring:\u001b[0m\n",
       "Return a list of the substrings in the string, using sep as the separator string.\n",
       "\n",
       "  sep\n",
       "    The separator used to split the string.\n",
       "\n",
       "    When set to None (the default value), will split on any whitespace\n",
       "    character (including \\\\n \\\\r \\\\t \\\\f and spaces) and will discard\n",
       "    empty strings from the result.\n",
       "  maxsplit\n",
       "    Maximum number of splits (starting from the left).\n",
       "    -1 (the default value) means no limit.\n",
       "\n",
       "Note, str.split() is mainly useful for data that has been intentionally\n",
       "delimited.  With natural text that includes punctuation, consider using\n",
       "the regular expression module.\n",
       "\u001b[0;31mType:\u001b[0m      method_descriptor"
      ]
     },
     "metadata": {},
     "output_type": "display_data"
    }
   ],
   "source": [
    "str.split?"
   ]
  },
  {
   "cell_type": "markdown",
   "id": "23249a4b-8343-4dd5-85bd-4c060ccadaa1",
   "metadata": {},
   "source": [
    "suppose we have:\n",
    "'.??..??...?##. 1,1,3'\n",
    "what if we fix the position of the # and focus on the dots\n",
    "we know we must have:\n",
    "'#.#.###'\n",
    "and then we add back the given dots:\n",
    "'.#..#...###'"
   ]
  },
  {
   "cell_type": "code",
   "execution_count": 169,
   "id": "06788de8-30bc-4030-9bf5-428b121685d6",
   "metadata": {},
   "outputs": [
    {
     "data": {
      "text/plain": [
       "['?###????????']"
      ]
     },
     "execution_count": 169,
     "metadata": {},
     "output_type": "execute_result"
    }
   ],
   "source": [
    "pat = re.compile(r'[#|?]+')\n",
    "pat.findall(g)"
   ]
  },
  {
   "cell_type": "code",
   "execution_count": 121,
   "id": "2af99eb3-9730-4ec5-8b68-7c437230fa0b",
   "metadata": {},
   "outputs": [
    {
     "name": "stdout",
     "output_type": "stream",
     "text": [
      "<re.Match object; span=(0, 0), match=''>\n",
      ".?????????.\n"
     ]
    }
   ],
   "source": [
    "pat = lambda x: r'(?=([.?]+[#?]{' + str(x) + '}[.?]))'\n",
    "matches = re.finditer(r'(?=(^[.?]+[#?]{3}[.?]))','.?????????.')\n",
    "for match in matches:\n",
    "    print(match)\n",
    "    print(match.group(1))"
   ]
  },
  {
   "cell_type": "code",
   "execution_count": 148,
   "id": "810dfe3e-5921-4a97-8cc2-49f30d8b3371",
   "metadata": {},
   "outputs": [
    {
     "data": {
      "text/plain": [
       "'abc?abc?abc'"
      ]
     },
     "execution_count": 148,
     "metadata": {},
     "output_type": "execute_result"
    }
   ],
   "source": [
    "'?'.join(['abc']*3)"
   ]
  },
  {
   "cell_type": "code",
   "execution_count": 8,
   "id": "97419d4a-445d-49af-b661-8a7a11804406",
   "metadata": {
    "scrolled": true
   },
   "outputs": [
    {
     "name": "stdout",
     "output_type": "stream",
     "text": [
      "Part b already solved with same answer: 55358\n"
     ]
    }
   ],
   "source": [
    "submit(p2, day=day, part='b', year=year)"
   ]
  }
 ],
 "metadata": {
  "kernelspec": {
   "display_name": "conda_base",
   "language": "python",
   "name": "conda_base"
  },
  "language_info": {
   "codemirror_mode": {
    "name": "ipython",
    "version": 3
   },
   "file_extension": ".py",
   "mimetype": "text/x-python",
   "name": "python",
   "nbconvert_exporter": "python",
   "pygments_lexer": "ipython3",
   "version": "3.11.5"
  }
 },
 "nbformat": 4,
 "nbformat_minor": 5
}
