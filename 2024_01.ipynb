{
 "cells": [
  {
   "cell_type": "code",
   "execution_count": 1,
   "id": "021838ca-c426-4c3d-b155-dcef79098cb1",
   "metadata": {},
   "outputs": [],
   "source": [
    "from aoc_utils import *\n",
    "\n",
    "import pandas as pd\n",
    "import numpy as np\n",
    "\n",
    "from aocd import get_data, submit"
   ]
  },
  {
   "cell_type": "code",
   "execution_count": 2,
   "id": "9c8b3281-561d-485d-a78e-99929790addf",
   "metadata": {},
   "outputs": [],
   "source": [
    "year = 2024\n",
    "day = 1"
   ]
  },
  {
   "cell_type": "code",
   "execution_count": 3,
   "id": "f942dbf5-a17e-475a-9c28-b7b699ba4436",
   "metadata": {},
   "outputs": [],
   "source": [
    "dat = get_data(day=day, year=year, block=True)"
   ]
  },
  {
   "cell_type": "code",
   "execution_count": 6,
   "id": "f1ebf338-f7cd-432e-b2ee-d5638781b52c",
   "metadata": {
    "scrolled": true
   },
   "outputs": [],
   "source": [
    "d = parse(dat, ints)"
   ]
  },
  {
   "cell_type": "code",
   "execution_count": 12,
   "id": "014b87fb-7cd5-4bea-be8a-7a195f1c986c",
   "metadata": {},
   "outputs": [],
   "source": [
    "l1 = mapl(lambda x: x[0], d)\n",
    "l2 = mapl(lambda x: x[1], d)\n",
    "p1 = np.abs(np.array(sorted(l1)) - np.array(sorted(l2))).sum()"
   ]
  },
  {
   "cell_type": "code",
   "execution_count": 10,
   "id": "43605b0a-b15c-494a-8a3a-10f8550e1499",
   "metadata": {
    "scrolled": true
   },
   "outputs": [
    {
     "name": "stderr",
     "output_type": "stream",
     "text": [
      "coerced int64 value 1319616 for 2024/01\n"
     ]
    },
    {
     "name": "stdout",
     "output_type": "stream",
     "text": [
      "\u001b[32mThat's the right answer!  You are one gold star closer to finding the Chief Historian. [Continue to Part Two]\u001b[0m\n"
     ]
    },
    {
     "data": {
      "text/plain": [
       "<urllib3.response.HTTPResponse at 0x1406c6e60>"
      ]
     },
     "execution_count": 10,
     "metadata": {},
     "output_type": "execute_result"
    }
   ],
   "source": [
    "submit(p1, day=day, part='a', year=year)"
   ]
  },
  {
   "cell_type": "code",
   "execution_count": 16,
   "id": "5f65e1f4-8298-4862-be2a-f9cdd18f0576",
   "metadata": {},
   "outputs": [
    {
     "data": {
      "text/plain": [
       "27267728"
      ]
     },
     "execution_count": 16,
     "metadata": {},
     "output_type": "execute_result"
    }
   ],
   "source": [
    "c2 = Counter(l2)\n",
    "p2 = 0\n",
    "for e in l1:\n",
    "    p2 += e*c2[e]\n",
    "p2"
   ]
  },
  {
   "cell_type": "code",
   "execution_count": 17,
   "id": "97419d4a-445d-49af-b661-8a7a11804406",
   "metadata": {
    "scrolled": true
   },
   "outputs": [
    {
     "name": "stdout",
     "output_type": "stream",
     "text": [
      "\u001b[32mThat's the right answer!  You are one gold star closer to finding the Chief Historian.You have completed Day 1! You can [Shareon\n",
      "  Bluesky\n",
      "Twitter\n",
      "Mastodon] this victory or [Return to Your Advent Calendar].\u001b[0m\n"
     ]
    },
    {
     "data": {
      "text/plain": [
       "<urllib3.response.HTTPResponse at 0x140837670>"
      ]
     },
     "execution_count": 17,
     "metadata": {},
     "output_type": "execute_result"
    }
   ],
   "source": [
    "submit(p2, day=day, part='b', year=year)"
   ]
  },
  {
   "cell_type": "code",
   "execution_count": null,
   "id": "833fb7e1-9056-4f45-a274-e7a92bd1660d",
   "metadata": {},
   "outputs": [],
   "source": []
  }
 ],
 "metadata": {
  "kernelspec": {
   "display_name": "conda_base",
   "language": "python",
   "name": "conda_base"
  },
  "language_info": {
   "codemirror_mode": {
    "name": "ipython",
    "version": 3
   },
   "file_extension": ".py",
   "mimetype": "text/x-python",
   "name": "python",
   "nbconvert_exporter": "python",
   "pygments_lexer": "ipython3",
   "version": "3.11.5"
  }
 },
 "nbformat": 4,
 "nbformat_minor": 5
}
