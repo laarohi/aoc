{
 "cells": [
  {
   "cell_type": "code",
   "execution_count": 1,
   "id": "021838ca-c426-4c3d-b155-dcef79098cb1",
   "metadata": {},
   "outputs": [],
   "source": [
    "from aoc_utils import *\n",
    "\n",
    "import pandas as pd\n",
    "import numpy as np\n",
    "\n",
    "from aocd import get_data, submit"
   ]
  },
  {
   "cell_type": "code",
   "execution_count": 2,
   "id": "9c8b3281-561d-485d-a78e-99929790addf",
   "metadata": {},
   "outputs": [],
   "source": [
    "year = 2023\n",
    "day = 10"
   ]
  },
  {
   "cell_type": "code",
   "execution_count": 3,
   "id": "f942dbf5-a17e-475a-9c28-b7b699ba4436",
   "metadata": {},
   "outputs": [],
   "source": [
    "dat = get_data(day=day, year=year, block=True)"
   ]
  },
  {
   "cell_type": "code",
   "execution_count": 4,
   "id": "c8a09e10-1dc6-44af-86f2-fa78e1011792",
   "metadata": {
    "scrolled": true
   },
   "outputs": [],
   "source": [
    "g = Grid(parse(dat))"
   ]
  },
  {
   "cell_type": "code",
   "execution_count": 5,
   "id": "9ac8574f-7904-4d8d-bc73-7805413336f9",
   "metadata": {
    "scrolled": true
   },
   "outputs": [],
   "source": [
    "s_idx = list(g.values()).index('S')\n",
    "s_key = list(g.keys())[s_idx]"
   ]
  },
  {
   "cell_type": "code",
   "execution_count": 8,
   "id": "7db6ed53-2950-4257-80ea-fc150c99f94b",
   "metadata": {
    "scrolled": true
   },
   "outputs": [],
   "source": [
    "k_map = {\n",
    "    '|':{(0,1),(0,-1)},\n",
    "    '-':{(1,0),(-1,0)},\n",
    "    'L':{(0,1),(-1,0)},\n",
    "    'J':{(0,1),(1,0)},\n",
    "    '7':{(1,0),(0,-1)},\n",
    "    'F':{(-1,0),(0,-1)},\n",
    "    'S':{(1,0),(-1,0),(0,1),(0,-1)},\n",
    "    '.': set()\n",
    "}\n",
    "n_map = {k:set(map(neg,v)) for k,v in k_map.items()}\n",
    "\n",
    "path = []\n",
    "k = s_key\n",
    "prev_point = k\n",
    "loop = False\n",
    "while not loop:\n",
    "    for n in g.neighbors(k):\n",
    "        if n != prev_point:\n",
    "            dir = sub(k,n)\n",
    "            if dir in (k_map[g[k]] & n_map[g[n]]):\n",
    "                prev_point = k\n",
    "                path.append(n)\n",
    "                k = n\n",
    "                if g[n] == 'S':\n",
    "                    # loop found\n",
    "                    loop = True\n",
    "                break\n",
    "p1 = (len(path)-1)//2"
   ]
  },
  {
   "cell_type": "code",
   "execution_count": 9,
   "id": "43605b0a-b15c-494a-8a3a-10f8550e1499",
   "metadata": {
    "scrolled": true
   },
   "outputs": [
    {
     "name": "stdout",
     "output_type": "stream",
     "text": [
      "aocd will not submit that answer again. At 2023-12-10 12:28:09.943744-05:00 you've previously submitted 7107 and the server responded with:\n",
      "\u001b[32mThat's the right answer!  You are one gold star closer to restoring snow operations. [Continue to Part Two]\u001b[0m\n"
     ]
    }
   ],
   "source": [
    "submit(p1+1, day=day, part='a', year=year)"
   ]
  },
  {
   "cell_type": "code",
   "execution_count": 10,
   "id": "5f65e1f4-8298-4862-be2a-f9cdd18f0576",
   "metadata": {},
   "outputs": [],
   "source": [
    "from functools import reduce\n",
    "\n",
    "def add2(p: Point, q: Point) -> Point: \n",
    "    return (p[0] + q[0], p[1] + q[1])\n",
    "    \n",
    "pipe_state = lambda x: reduce(add2, x, (0,0))\n",
    "\n",
    "inner = []\n",
    "g2 = g.copy()\n",
    "for j, l in enumerate(g.to_rows()):\n",
    "    cross = 0\n",
    "    state = (0,0)\n",
    "    for i, s in enumerate(l):\n",
    "        if s == \"S\":\n",
    "            s = '-'\n",
    "        if (i,j) in path:\n",
    "            state = add2(state, pipe_state(k_map[s]))\n",
    "            if state == (0,0):\n",
    "                cross += 1\n",
    "            elif state in ((0,-2),(0,2)):\n",
    "                # no cross, reset state\n",
    "                state = (0,0)\n",
    "        else:\n",
    "            if (cross % 2) == 1:\n",
    "                inner.append((i,j))\n",
    "                g2[(i,j)] = 'I'\n",
    "\n",
    "p2 = len(inner)"
   ]
  },
  {
   "cell_type": "code",
   "execution_count": 11,
   "id": "97419d4a-445d-49af-b661-8a7a11804406",
   "metadata": {
    "scrolled": true
   },
   "outputs": [
    {
     "name": "stdout",
     "output_type": "stream",
     "text": [
      "aocd will not submit that answer again. At 2023-12-10 14:30:39.894534-05:00 you've previously submitted 281 and the server responded with:\n",
      "\u001b[32mThat's the right answer!  You are one gold star closer to restoring snow operations.You have completed Day 10! You can [Shareon\n",
      "  Twitter\n",
      "Mastodon] this victory or [Return to Your Advent Calendar].\u001b[0m\n"
     ]
    }
   ],
   "source": [
    "submit(p2, day=day, part='b', year=year)"
   ]
  }
 ],
 "metadata": {
  "kernelspec": {
   "display_name": "conda_base",
   "language": "python",
   "name": "conda_base"
  },
  "language_info": {
   "codemirror_mode": {
    "name": "ipython",
    "version": 3
   },
   "file_extension": ".py",
   "mimetype": "text/x-python",
   "name": "python",
   "nbconvert_exporter": "python",
   "pygments_lexer": "ipython3",
   "version": "3.11.5"
  }
 },
 "nbformat": 4,
 "nbformat_minor": 5
}
