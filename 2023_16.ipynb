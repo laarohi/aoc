{
 "cells": [
  {
   "cell_type": "code",
   "execution_count": 1,
   "id": "021838ca-c426-4c3d-b155-dcef79098cb1",
   "metadata": {},
   "outputs": [],
   "source": [
    "from aoc_utils import *\n",
    "\n",
    "import pandas as pd\n",
    "import numpy as np\n",
    "\n",
    "from aocd import get_data, submit"
   ]
  },
  {
   "cell_type": "code",
   "execution_count": 2,
   "id": "9c8b3281-561d-485d-a78e-99929790addf",
   "metadata": {},
   "outputs": [],
   "source": [
    "year = 2023\n",
    "day = 16"
   ]
  },
  {
   "cell_type": "code",
   "execution_count": 3,
   "id": "f942dbf5-a17e-475a-9c28-b7b699ba4436",
   "metadata": {},
   "outputs": [],
   "source": [
    "dat = get_data(day=day, year=year, block=True)"
   ]
  },
  {
   "cell_type": "code",
   "execution_count": 4,
   "id": "12ff3f8d-9ee9-42f9-8e9e-aabf021c37fc",
   "metadata": {},
   "outputs": [],
   "source": [
    "g = Grid(dat)"
   ]
  },
  {
   "cell_type": "code",
   "execution_count": 7,
   "id": "f1ebf338-f7cd-432e-b2ee-d5638781b52c",
   "metadata": {
    "scrolled": true
   },
   "outputs": [
    {
     "data": {
      "text/plain": [
       "6795"
      ]
     },
     "execution_count": 7,
     "metadata": {},
     "output_type": "execute_result"
    }
   ],
   "source": [
    "from functools import cache\n",
    "\n",
    "@cache\n",
    "def beam(stp, dir):\n",
    "    v = g[stp]\n",
    "    if v == '\\\\':\n",
    "        if dir in (East, West):\n",
    "            out = [make_turn(dir,'R')]\n",
    "        elif dir in (North,South):\n",
    "            out = [make_turn(dir,'L')]\n",
    "    elif v == '/':\n",
    "        if dir in (East, West):\n",
    "            out = [make_turn(dir,'L')]\n",
    "        elif dir in (North,South):\n",
    "            out = [make_turn(dir,'R')]\n",
    "    elif v == '|':\n",
    "        if dir in (East, West):\n",
    "            out = [North, South]\n",
    "        elif dir in (North, South):\n",
    "            out = [dir]\n",
    "    elif v == '-':\n",
    "        if dir in (North, South):\n",
    "            out = [East, West]\n",
    "        elif dir in (East, West):\n",
    "            out = [dir]\n",
    "    else:\n",
    "        out = [dir]\n",
    "    pos = set()\n",
    "    for d in out:\n",
    "        p = add2(stp,d)\n",
    "        if p in g:\n",
    "            pos.add((p,d))\n",
    "    return pos\n",
    "\n",
    "pos = {((0,0), East)}\n",
    "lit = set()\n",
    "all_pos = set()\n",
    "while pos:\n",
    "    new_pos = set()\n",
    "    all_pos |= pos\n",
    "    for p in pos:\n",
    "        lit.add(p[0])\n",
    "        new_pos |= beam(*p)\n",
    "    new_pos -= all_pos \n",
    "    pos = new_pos\n",
    "p1 = len(lit)\n",
    "p1"
   ]
  },
  {
   "cell_type": "code",
   "execution_count": 8,
   "id": "43605b0a-b15c-494a-8a3a-10f8550e1499",
   "metadata": {
    "scrolled": true
   },
   "outputs": [
    {
     "name": "stdout",
     "output_type": "stream",
     "text": [
      "aocd will not submit that answer again. At 2023-12-16 00:43:00.886847-05:00 you've previously submitted 6795 and the server responded with:\n",
      "\u001b[32mThat's the right answer!  You are one gold star closer to restoring snow operations. [Continue to Part Two]\u001b[0m\n"
     ]
    }
   ],
   "source": [
    "submit(p1, day=day, part='a', year=year)"
   ]
  },
  {
   "cell_type": "code",
   "execution_count": 9,
   "id": "97c6d2ca-88e3-4f48-a1b5-e8bcf618a8f3",
   "metadata": {
    "scrolled": true
   },
   "outputs": [
    {
     "data": {
      "text/plain": [
       "7154"
      ]
     },
     "execution_count": 9,
     "metadata": {},
     "output_type": "execute_result"
    }
   ],
   "source": [
    "#pos = {((0,0), East)}\n",
    "st_positions = []\n",
    "nr = len(dat.splitlines())\n",
    "nc = len(dat.splitlines()[0])\n",
    "st_positions += [{((0,i), East)} for i in range(nr)]\n",
    "st_positions += [{((nc-1,i), West)} for i in range(nr)]\n",
    "st_positions += [{((i,0), South)} for i in range(nc)]\n",
    "st_positions += [{((i,nr-1), North)} for i in range(nc)]\n",
    "\n",
    "res = []\n",
    "for i, pos in enumerate(st_positions):\n",
    "    lit = set()\n",
    "    all_pos = set()\n",
    "    while pos:\n",
    "        new_pos = set()\n",
    "        all_pos |= pos\n",
    "        for p in pos:\n",
    "            lit.add(p[0])\n",
    "            new_pos |= beam(*p)\n",
    "        new_pos -= all_pos \n",
    "        pos = new_pos\n",
    "    res.append(len(lit))\n",
    "p2 = max(res)\n",
    "p2"
   ]
  },
  {
   "cell_type": "code",
   "execution_count": 10,
   "id": "97419d4a-445d-49af-b661-8a7a11804406",
   "metadata": {
    "scrolled": true
   },
   "outputs": [
    {
     "name": "stdout",
     "output_type": "stream",
     "text": [
      "aocd will not submit that answer again. At 2023-12-16 01:04:46.573058-05:00 you've previously submitted 7154 and the server responded with:\n",
      "\u001b[32mThat's the right answer!  You are one gold star closer to restoring snow operations.You have completed Day 16! You can [Shareon\n",
      "  Twitter\n",
      "Mastodon] this victory or [Return to Your Advent Calendar].\u001b[0m\n"
     ]
    }
   ],
   "source": [
    "submit(p2, day=day, part='b', year=year)"
   ]
  }
 ],
 "metadata": {
  "kernelspec": {
   "display_name": "conda_base",
   "language": "python",
   "name": "conda_base"
  },
  "language_info": {
   "codemirror_mode": {
    "name": "ipython",
    "version": 3
   },
   "file_extension": ".py",
   "mimetype": "text/x-python",
   "name": "python",
   "nbconvert_exporter": "python",
   "pygments_lexer": "ipython3",
   "version": "3.11.5"
  }
 },
 "nbformat": 4,
 "nbformat_minor": 5
}
