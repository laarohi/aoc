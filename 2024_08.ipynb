{
 "cells": [
  {
   "cell_type": "code",
   "execution_count": 1,
   "id": "021838ca-c426-4c3d-b155-dcef79098cb1",
   "metadata": {},
   "outputs": [],
   "source": [
    "from aoc_utils import *\n",
    "\n",
    "import pandas as pd\n",
    "import numpy as np\n",
    "\n",
    "from aocd import get_data, submit"
   ]
  },
  {
   "cell_type": "code",
   "execution_count": 2,
   "id": "9c8b3281-561d-485d-a78e-99929790addf",
   "metadata": {},
   "outputs": [],
   "source": [
    "year = 2024\n",
    "day = 8"
   ]
  },
  {
   "cell_type": "code",
   "execution_count": 17,
   "id": "f942dbf5-a17e-475a-9c28-b7b699ba4436",
   "metadata": {},
   "outputs": [],
   "source": [
    "dat = get_data(day=day, year=year, block=True)"
   ]
  },
  {
   "cell_type": "code",
   "execution_count": 13,
   "id": "7542529e-8b0b-4d82-8438-04bda22fff41",
   "metadata": {},
   "outputs": [],
   "source": [
    "dat = '''............\n",
    "........0...\n",
    ".....0......\n",
    ".......0....\n",
    "....0.......\n",
    "......A.....\n",
    "............\n",
    "............\n",
    "........A...\n",
    ".........A..\n",
    "............\n",
    "............'''"
   ]
  },
  {
   "cell_type": "code",
   "execution_count": 18,
   "id": "f1ebf338-f7cd-432e-b2ee-d5638781b52c",
   "metadata": {
    "scrolled": true
   },
   "outputs": [],
   "source": [
    "# iterate pairwise through nodes of same frequency\n",
    "d = parse(dat)\n",
    "g = Grid(d)"
   ]
  },
  {
   "cell_type": "code",
   "execution_count": 8,
   "id": "e81a6601-b6c0-49f5-ab08-b25f5d5e1d60",
   "metadata": {},
   "outputs": [
    {
     "data": {
      "text/plain": [
       "285"
      ]
     },
     "execution_count": 8,
     "metadata": {},
     "output_type": "execute_result"
    }
   ],
   "source": [
    "\n",
    "\n",
    "#2n2 - n1\n",
    "\n",
    "# 2n2 - n1 - n2 = n2 - n1\n",
    "\n",
    "# 2n2 - n1 - n1 = 2n2 - 2n1\n",
    "\n",
    "nodes = defaultdict(list)\n",
    "for p,v in g.items():\n",
    "    if v != '.':\n",
    "        nodes[v].append(p)\n",
    "\n",
    "antinodes = set()\n",
    "for freq, n in nodes.items():\n",
    "    for n1, n2 in combinations(n, 2):\n",
    "        dist = sub(n2, n1)\n",
    "        an1 = sub(mul(n2, 2),n1)\n",
    "        an2 = sub(mul(n1, 2),n2)\n",
    "        if an1 in g:\n",
    "            antinodes.add(an1)\n",
    "        if an2 in g:\n",
    "            antinodes.add(an2)\n",
    "\n",
    "p1 = len(antinodes)\n",
    "p1\n"
   ]
  },
  {
   "cell_type": "code",
   "execution_count": 9,
   "id": "43605b0a-b15c-494a-8a3a-10f8550e1499",
   "metadata": {
    "scrolled": true
   },
   "outputs": [
    {
     "name": "stdout",
     "output_type": "stream",
     "text": [
      "\u001b[32mThat's the right answer!  You are one gold star closer to finding the Chief Historian. [Continue to Part Two]\u001b[0m\n"
     ]
    },
    {
     "data": {
      "text/plain": [
       "<urllib3.response.HTTPResponse at 0x12abc7a90>"
      ]
     },
     "execution_count": 9,
     "metadata": {},
     "output_type": "execute_result"
    }
   ],
   "source": [
    "submit(p1, day=day, part='a', year=year)"
   ]
  },
  {
   "cell_type": "code",
   "execution_count": 19,
   "id": "14e102a3-5c34-4c89-bcfc-940fea3673c7",
   "metadata": {},
   "outputs": [
    {
     "data": {
      "text/plain": [
       "944"
      ]
     },
     "execution_count": 19,
     "metadata": {},
     "output_type": "execute_result"
    }
   ],
   "source": [
    "\n",
    "\n",
    "#2n2 - n1\n",
    "\n",
    "# 2n2 - n1 - n2 = n2 - n1\n",
    "\n",
    "# 2n2 - n1 - n1 = 2n2 - 2n1\n",
    "\n",
    "g2 = g.copy()\n",
    "nodes = defaultdict(list)\n",
    "for p,v in g.items():\n",
    "    if v != '.':\n",
    "        nodes[v].append(p)\n",
    "\n",
    "antinodes = set()\n",
    "for freq, n in nodes.items():\n",
    "    for n1, n2 in combinations(n, 2):\n",
    "        d = 0\n",
    "        while True:\n",
    "            an1 = sub(mul(n2, d+1),mul(n1,d))\n",
    "            if an1 in g:\n",
    "                antinodes.add(an1)\n",
    "                d += 1\n",
    "            else:\n",
    "                break\n",
    "        d = 0\n",
    "        while True:\n",
    "            an2 = sub(mul(n1, d+1),mul(n2,d))\n",
    "            if an2 in g:\n",
    "                antinodes.add(an2)\n",
    "                \n",
    "                d += 1\n",
    "            else:\n",
    "                break\n",
    "\n",
    "p2 = len(antinodes)\n",
    "p2\n"
   ]
  },
  {
   "cell_type": "code",
   "execution_count": 6,
   "id": "5f65e1f4-8298-4862-be2a-f9cdd18f0576",
   "metadata": {},
   "outputs": [],
   "source": []
  },
  {
   "cell_type": "code",
   "execution_count": 20,
   "id": "97419d4a-445d-49af-b661-8a7a11804406",
   "metadata": {
    "scrolled": true
   },
   "outputs": [
    {
     "name": "stdout",
     "output_type": "stream",
     "text": [
      "\u001b[32mThat's the right answer!  You are one gold star closer to finding the Chief Historian.You have completed Day 8! You can [Shareon\n",
      "  Bluesky\n",
      "Twitter\n",
      "Mastodon] this victory or [Return to Your Advent Calendar].\u001b[0m\n"
     ]
    },
    {
     "data": {
      "text/plain": [
       "<urllib3.response.HTTPResponse at 0x12af109a0>"
      ]
     },
     "execution_count": 20,
     "metadata": {},
     "output_type": "execute_result"
    }
   ],
   "source": [
    "submit(p2, day=day, part='b', year=year)"
   ]
  },
  {
   "cell_type": "code",
   "execution_count": null,
   "id": "2ce1b9cc-df52-4ab8-afe1-3e240c0dabce",
   "metadata": {},
   "outputs": [],
   "source": []
  },
  {
   "cell_type": "code",
   "execution_count": null,
   "id": "02058f61-e6df-496f-92fc-6c967b54fcf6",
   "metadata": {},
   "outputs": [],
   "source": []
  }
 ],
 "metadata": {
  "kernelspec": {
   "display_name": "conda_base",
   "language": "python",
   "name": "conda_base"
  },
  "language_info": {
   "codemirror_mode": {
    "name": "ipython",
    "version": 3
   },
   "file_extension": ".py",
   "mimetype": "text/x-python",
   "name": "python",
   "nbconvert_exporter": "python",
   "pygments_lexer": "ipython3",
   "version": "3.11.5"
  }
 },
 "nbformat": 4,
 "nbformat_minor": 5
}
