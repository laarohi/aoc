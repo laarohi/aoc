{
 "cells": [
  {
   "cell_type": "code",
   "execution_count": 1,
   "id": "021838ca-c426-4c3d-b155-dcef79098cb1",
   "metadata": {},
   "outputs": [],
   "source": [
    "from aoc_utils import *\n",
    "\n",
    "import pandas as pd\n",
    "import numpy as np\n",
    "\n",
    "from aocd import get_data, submit"
   ]
  },
  {
   "cell_type": "code",
   "execution_count": 2,
   "id": "9c8b3281-561d-485d-a78e-99929790addf",
   "metadata": {},
   "outputs": [],
   "source": [
    "year = 2023\n",
    "day = 14"
   ]
  },
  {
   "cell_type": "code",
   "execution_count": 75,
   "id": "f942dbf5-a17e-475a-9c28-b7b699ba4436",
   "metadata": {},
   "outputs": [],
   "source": [
    "dat = get_data(day=day, year=year, block=True)"
   ]
  },
  {
   "cell_type": "code",
   "execution_count": 67,
   "id": "468b0f6c-c7e3-40d1-a4e5-3db0ced9092f",
   "metadata": {},
   "outputs": [],
   "source": [
    "dat = '''O....#....\n",
    "O.OO#....#\n",
    ".....##...\n",
    "OO.#O....O\n",
    ".O.....O#.\n",
    "O.#..O.#.#\n",
    "..O..#O..O\n",
    ".......O..\n",
    "#....###..\n",
    "#OO..#....'''"
   ]
  },
  {
   "cell_type": "code",
   "execution_count": 76,
   "id": "7446dce1-cfe7-4dff-b7f1-2cd280c768c6",
   "metadata": {},
   "outputs": [],
   "source": [
    "def transpose(d):\n",
    "    return tuple(map(lambda x: ''.join(x), zip(*d)))\n",
    "\n",
    "def reverse(d):\n",
    "    return tuple(map(lambda x: x[::-1], d))\n",
    "\n",
    "def orient(d, dir):\n",
    "    if dir in ('N','S'):\n",
    "        d = transpose(d)\n",
    "    if dir in ('E','S'):\n",
    "        d = reverse(d)\n",
    "    return d\n",
    "\n",
    "def inv_orient(d, dir):\n",
    "    if dir in ('E','S'):\n",
    "        d = reverse(d)\n",
    "    if dir in ('N','S'):\n",
    "        d = transpose(d)\n",
    "    return d\n",
    "\n",
    "\n",
    "def tilt(dat):\n",
    "    new_dat = []\n",
    "    for l in dat:\n",
    "        l = l.split('#')\n",
    "        l = mapt(lambda x: ''.join(sorted(x, reverse=True)), l)\n",
    "        new_dat.append('#'.join(l))\n",
    "    return tuple(new_dat)\n",
    "\n",
    "def weight(dat):\n",
    "    n = len(dat[0])\n",
    "    res = 0\n",
    "    for l in dat:\n",
    "        res += sum([n-i for i,v in enumerate(l) if v == 'O'])\n",
    "    return res\n",
    "\n",
    "def cycles(d, n=1):\n",
    "    for _ in range(n):\n",
    "        d = cycle(d)\n",
    "    return d\n",
    "\n",
    "def cycle(d):\n",
    "    for dir in 'NWSE':\n",
    "        d = orient(d, dir)\n",
    "        d = tilt(d)\n",
    "        d = inv_orient(d, dir)\n",
    "    return d\n",
    "\n",
    "d = tuple(dat.splitlines())\n",
    "d = orient(d, 'N')\n",
    "d = tilt(d)\n",
    "p1 = weight(d)\n",
    "\n",
    "d = tuple(dat.splitlines())\n",
    "cycle_list = []\n",
    "offset = None\n",
    "n = 1000000000\n",
    "for i in range(n):\n",
    "    d = cycle(d)\n",
    "    if d not in cycle_list:\n",
    "        cycle_list.append(d)\n",
    "    else:\n",
    "        offset = cycle_list.index(d)\n",
    "        cycle_list = cycle_list[offset:]\n",
    "        break\n",
    "\n",
    "if offset is None:\n",
    "    d = orient(d, 'N')\n",
    "    w = weight(d)\n",
    "else:\n",
    "    n -= offset\n",
    "    n -= 1\n",
    "    c = len(cycle_list)\n",
    "    d = cycle_list[n % c]\n",
    "    d = orient(d, 'N')\n",
    "    w = weight(d)\n",
    "p2 = w\n"
   ]
  },
  {
   "cell_type": "code",
   "execution_count": 77,
   "id": "43605b0a-b15c-494a-8a3a-10f8550e1499",
   "metadata": {
    "scrolled": true
   },
   "outputs": [
    {
     "name": "stdout",
     "output_type": "stream",
     "text": [
      "aocd will not submit that answer again. At 2023-12-14 00:39:57.633220-05:00 you've previously submitted 107430 and the server responded with:\n",
      "\u001b[32mThat's the right answer!  You are one gold star closer to restoring snow operations. [Continue to Part Two]\u001b[0m\n"
     ]
    }
   ],
   "source": [
    "submit(p1, day=day, part='a', year=year)"
   ]
  },
  {
   "cell_type": "code",
   "execution_count": 78,
   "id": "97419d4a-445d-49af-b661-8a7a11804406",
   "metadata": {
    "scrolled": true
   },
   "outputs": [
    {
     "name": "stdout",
     "output_type": "stream",
     "text": [
      "\u001b[32mThat's the right answer!  You are one gold star closer to restoring snow operations.You have completed Day 14! You can [Shareon\n",
      "  Twitter\n",
      "Mastodon] this victory or [Return to Your Advent Calendar].\u001b[0m\n"
     ]
    },
    {
     "data": {
      "text/plain": [
       "<urllib3.response.HTTPResponse at 0x13bb08b80>"
      ]
     },
     "execution_count": 78,
     "metadata": {},
     "output_type": "execute_result"
    }
   ],
   "source": [
    "submit(p2, day=day, part='b', year=year)"
   ]
  },
  {
   "cell_type": "code",
   "execution_count": null,
   "id": "7fc54fea-c955-417f-8afd-b9763dcadd5d",
   "metadata": {},
   "outputs": [],
   "source": []
  }
 ],
 "metadata": {
  "kernelspec": {
   "display_name": "conda_base",
   "language": "python",
   "name": "conda_base"
  },
  "language_info": {
   "codemirror_mode": {
    "name": "ipython",
    "version": 3
   },
   "file_extension": ".py",
   "mimetype": "text/x-python",
   "name": "python",
   "nbconvert_exporter": "python",
   "pygments_lexer": "ipython3",
   "version": "3.11.5"
  }
 },
 "nbformat": 4,
 "nbformat_minor": 5
}
