{
 "cells": [
  {
   "cell_type": "code",
   "execution_count": 1,
   "id": "021838ca-c426-4c3d-b155-dcef79098cb1",
   "metadata": {},
   "outputs": [],
   "source": [
    "from aoc_utils import *\n",
    "\n",
    "import pandas as pd\n",
    "import numpy as np\n",
    "\n",
    "from aocd import get_data, submit"
   ]
  },
  {
   "cell_type": "code",
   "execution_count": 2,
   "id": "9c8b3281-561d-485d-a78e-99929790addf",
   "metadata": {},
   "outputs": [],
   "source": [
    "year = 2024\n",
    "day = 5"
   ]
  },
  {
   "cell_type": "code",
   "execution_count": 45,
   "id": "f942dbf5-a17e-475a-9c28-b7b699ba4436",
   "metadata": {},
   "outputs": [],
   "source": [
    "dat = get_data(day=day, year=year, block=True)"
   ]
  },
  {
   "cell_type": "code",
   "execution_count": 38,
   "id": "4c52ff8f-d18f-48b5-98b7-d8e0fee2641d",
   "metadata": {},
   "outputs": [],
   "source": [
    "dat = '''47|53\n",
    "97|13\n",
    "97|61\n",
    "97|47\n",
    "75|29\n",
    "61|13\n",
    "75|53\n",
    "29|13\n",
    "97|29\n",
    "53|29\n",
    "61|53\n",
    "97|53\n",
    "61|29\n",
    "47|13\n",
    "75|47\n",
    "97|75\n",
    "47|61\n",
    "75|61\n",
    "47|29\n",
    "75|13\n",
    "53|13\n",
    "\n",
    "75,47,61,53,29\n",
    "97,61,53,29,13\n",
    "75,29,13\n",
    "75,97,47,61,53\n",
    "61,13,29\n",
    "97,13,75,29,47'''"
   ]
  },
  {
   "cell_type": "code",
   "execution_count": 46,
   "id": "f1ebf338-f7cd-432e-b2ee-d5638781b52c",
   "metadata": {
    "scrolled": true
   },
   "outputs": [],
   "source": [
    "rules, updates = dat.split('\\n\\n')\n",
    "rules = parse(rules, ints)\n",
    "updates = parse(updates, ints)\n",
    "rset = {(v[0],v[1]) for v in rules}"
   ]
  },
  {
   "cell_type": "code",
   "execution_count": 30,
   "id": "857332b5-0975-445a-9e19-5cde7eab9afe",
   "metadata": {},
   "outputs": [
    {
     "data": {
      "text/plain": [
       "5452"
      ]
     },
     "execution_count": 30,
     "metadata": {},
     "output_type": "execute_result"
    }
   ],
   "source": [
    "p1 = 0\n",
    "for u in updates:\n",
    "    ordered = True\n",
    "    for i in range(len(u)-1):\n",
    "        before = u[i]\n",
    "        after = u[i+1]\n",
    "        if not ((before, after) in rset):\n",
    "            ordered = False\n",
    "    if ordered:\n",
    "        p1 += u[len(u)//2] \n",
    "            \n",
    "p1"
   ]
  },
  {
   "cell_type": "code",
   "execution_count": 31,
   "id": "43605b0a-b15c-494a-8a3a-10f8550e1499",
   "metadata": {
    "scrolled": true
   },
   "outputs": [
    {
     "name": "stdout",
     "output_type": "stream",
     "text": [
      "\u001b[32mThat's the right answer!  You are one gold star closer to finding the Chief Historian. [Continue to Part Two]\u001b[0m\n"
     ]
    },
    {
     "data": {
      "text/plain": [
       "<urllib3.response.HTTPResponse at 0x14d646ef0>"
      ]
     },
     "execution_count": 31,
     "metadata": {},
     "output_type": "execute_result"
    }
   ],
   "source": [
    "submit(p1, day=day, part='a', year=year)"
   ]
  },
  {
   "cell_type": "code",
   "execution_count": 33,
   "id": "5f65e1f4-8298-4862-be2a-f9cdd18f0576",
   "metadata": {},
   "outputs": [],
   "source": [
    "from copy import copy"
   ]
  },
  {
   "cell_type": "code",
   "execution_count": 49,
   "id": "acfcc295-f11f-42bd-9742-265b80ab5935",
   "metadata": {},
   "outputs": [
    {
     "data": {
      "text/plain": [
       "4598"
      ]
     },
     "execution_count": 49,
     "metadata": {},
     "output_type": "execute_result"
    }
   ],
   "source": [
    "p2 = 0\n",
    "for u in updates:\n",
    "    ordered = True\n",
    "    for i in range(len(u)-1):\n",
    "        before = u[i]\n",
    "        after = u[i+1]\n",
    "        if not ((before, after) in rset):\n",
    "            ordered = False\n",
    "    if not ordered:\n",
    "        to_order = list(copy(u))\n",
    "        reordered = []\n",
    "        while to_order:\n",
    "            for i,e1 in enumerate(to_order):\n",
    "                largest = True\n",
    "                for e2 in to_order:\n",
    "                    if e1 == e2: continue\n",
    "                    if (e1, e2) not in rset:\n",
    "                        largest = False\n",
    "                if largest: break\n",
    "            reordered.append(to_order.pop(i))\n",
    "        p2 += reordered[len(reordered)//2] \n",
    "            \n",
    "p2"
   ]
  },
  {
   "cell_type": "code",
   "execution_count": 50,
   "id": "97419d4a-445d-49af-b661-8a7a11804406",
   "metadata": {
    "scrolled": true
   },
   "outputs": [
    {
     "name": "stdout",
     "output_type": "stream",
     "text": [
      "\u001b[32mThat's the right answer!  You are one gold star closer to finding the Chief Historian.You have completed Day 5! You can [Shareon\n",
      "  Bluesky\n",
      "Twitter\n",
      "Mastodon] this victory or [Return to Your Advent Calendar].\u001b[0m\n"
     ]
    },
    {
     "data": {
      "text/plain": [
       "<urllib3.response.HTTPResponse at 0x14d64fe20>"
      ]
     },
     "execution_count": 50,
     "metadata": {},
     "output_type": "execute_result"
    }
   ],
   "source": [
    "submit(p2, day=day, part='b', year=year)"
   ]
  }
 ],
 "metadata": {
  "kernelspec": {
   "display_name": "conda_base",
   "language": "python",
   "name": "conda_base"
  },
  "language_info": {
   "codemirror_mode": {
    "name": "ipython",
    "version": 3
   },
   "file_extension": ".py",
   "mimetype": "text/x-python",
   "name": "python",
   "nbconvert_exporter": "python",
   "pygments_lexer": "ipython3",
   "version": "3.11.5"
  }
 },
 "nbformat": 4,
 "nbformat_minor": 5
}
