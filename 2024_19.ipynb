{
 "cells": [
  {
   "cell_type": "code",
   "execution_count": 1,
   "id": "021838ca-c426-4c3d-b155-dcef79098cb1",
   "metadata": {},
   "outputs": [],
   "source": [
    "from aoc_utils import *\n",
    "\n",
    "import pandas as pd\n",
    "import numpy as np\n",
    "\n",
    "from aocd import get_data, submit"
   ]
  },
  {
   "cell_type": "code",
   "execution_count": 2,
   "id": "9c8b3281-561d-485d-a78e-99929790addf",
   "metadata": {},
   "outputs": [],
   "source": [
    "year = 2024\n",
    "day = 19"
   ]
  },
  {
   "cell_type": "code",
   "execution_count": 45,
   "id": "f942dbf5-a17e-475a-9c28-b7b699ba4436",
   "metadata": {},
   "outputs": [],
   "source": [
    "dat = get_data(day=day, year=year, block=True)"
   ]
  },
  {
   "cell_type": "code",
   "execution_count": 33,
   "id": "ed36fed5-a379-4245-abce-fd022530b605",
   "metadata": {},
   "outputs": [],
   "source": [
    "dat = '''r, wr, b, g, bwu, rb, gb, br\n",
    "\n",
    "brwrr\n",
    "bggr\n",
    "gbbr\n",
    "rrbgbr\n",
    "ubwu\n",
    "bwurrg\n",
    "brgr\n",
    "bbrgwb'''"
   ]
  },
  {
   "cell_type": "code",
   "execution_count": 34,
   "id": "f547a9d4-7735-4465-ba32-91bc990c0a79",
   "metadata": {},
   "outputs": [
    {
     "data": {
      "text/plain": [
       "[3, 4, 5, 6]"
      ]
     },
     "execution_count": 34,
     "metadata": {},
     "output_type": "execute_result"
    }
   ],
   "source": [
    "pp.actions(2)"
   ]
  },
  {
   "cell_type": "code",
   "execution_count": 47,
   "id": "f1ebf338-f7cd-432e-b2ee-d5638781b52c",
   "metadata": {
    "scrolled": true
   },
   "outputs": [
    {
     "name": "stdout",
     "output_type": "stream",
     "text": [
      "400\n"
     ]
    },
    {
     "data": {
      "text/plain": [
       "319"
      ]
     },
     "execution_count": 47,
     "metadata": {},
     "output_type": "execute_result"
    }
   ],
   "source": [
    "avail, pat = dat.split('\\n\\n')\n",
    "avail = set(parse(avail, atoms)[0])\n",
    "pat = [p[0] for p in parse(pat, atoms)]\n",
    "max_avail = max(len(a) for a in avail)\n",
    "\n",
    "class PatProblem(SearchProblem):\n",
    "\n",
    "    def actions(self, state):\n",
    "        a = []\n",
    "        i = 1\n",
    "        while state+i <= len(self.pat) or i <= max_avail:\n",
    "            word = self.pat[state:state+i]\n",
    "            if word in self.avail:\n",
    "                a.append(state+i)\n",
    "            i += 1\n",
    "        return a\n",
    "\n",
    "    def action_cost(self, s, a, s1):\n",
    "        return a - s\n",
    "\n",
    "    def h(self, node):\n",
    "        return self.goal - node.state\n",
    "        \n",
    "p1 = 0\n",
    "print(len(pat))\n",
    "for i,p in enumerate(pat):\n",
    "    # print(i)\n",
    "    pp = PatProblem(initial=0, goal=len(p), avail=avail, pat=p)\n",
    "    s = A_star_search(pp)\n",
    "    if s.path_cost < inf:\n",
    "        p1 += 1\n",
    "p1"
   ]
  },
  {
   "cell_type": "code",
   "execution_count": null,
   "id": "dc5653dc-be7f-46f4-a5dd-aafb2e6448d0",
   "metadata": {},
   "outputs": [],
   "source": [
    "p1"
   ]
  },
  {
   "cell_type": "code",
   "execution_count": 17,
   "id": "43605b0a-b15c-494a-8a3a-10f8550e1499",
   "metadata": {
    "scrolled": true
   },
   "outputs": [
    {
     "name": "stdout",
     "output_type": "stream",
     "text": [
      "\u001b[32mThat's the right answer!  You are one gold star closer to finding the Chief Historian. [Continue to Part Two]\u001b[0m\n"
     ]
    },
    {
     "data": {
      "text/plain": [
       "<urllib3.response.HTTPResponse at 0x16804c550>"
      ]
     },
     "execution_count": 17,
     "metadata": {},
     "output_type": "execute_result"
    }
   ],
   "source": [
    "submit(p1, day=day, part='a', year=year)"
   ]
  },
  {
   "cell_type": "code",
   "execution_count": 49,
   "id": "5f65e1f4-8298-4862-be2a-f9cdd18f0576",
   "metadata": {
    "scrolled": true
   },
   "outputs": [
    {
     "name": "stdout",
     "output_type": "stream",
     "text": [
      "400\n"
     ]
    },
    {
     "data": {
      "text/plain": [
       "692575723305545"
      ]
     },
     "execution_count": 49,
     "metadata": {},
     "output_type": "execute_result"
    }
   ],
   "source": [
    "\n",
    "@cache\n",
    "def find_paths(path):\n",
    "    res = 0\n",
    "    i = 1\n",
    "    while i <= len(path) or i <= max_avail:\n",
    "        word = path[:i]\n",
    "        if word in avail:\n",
    "            if i == len(path):\n",
    "                res += 1\n",
    "            else:\n",
    "                res += find_paths(path[i:])\n",
    "        i += 1\n",
    "    return res\n",
    "\n",
    "p2 = 0\n",
    "print(len(pat))\n",
    "for i,p in enumerate(pat):\n",
    "    p2 += find_paths(p)\n",
    "  \n",
    "p2"
   ]
  },
  {
   "cell_type": "code",
   "execution_count": 50,
   "id": "97419d4a-445d-49af-b661-8a7a11804406",
   "metadata": {
    "scrolled": true
   },
   "outputs": [
    {
     "name": "stdout",
     "output_type": "stream",
     "text": [
      "\u001b[32mThat's the right answer!  You are one gold star closer to finding the Chief Historian.You have completed Day 19! You can [Shareon\n",
      "  Bluesky\n",
      "Twitter\n",
      "Mastodon] this victory or [Return to Your Advent Calendar].\u001b[0m\n"
     ]
    },
    {
     "data": {
      "text/plain": [
       "<urllib3.response.HTTPResponse at 0x15001cac0>"
      ]
     },
     "execution_count": 50,
     "metadata": {},
     "output_type": "execute_result"
    }
   ],
   "source": [
    "submit(p2, day=day, part='b', year=year)"
   ]
  },
  {
   "cell_type": "code",
   "execution_count": null,
   "id": "e609332c-d67a-48ef-a257-a886320f0e08",
   "metadata": {},
   "outputs": [],
   "source": []
  }
 ],
 "metadata": {
  "kernelspec": {
   "display_name": "conda_base",
   "language": "python",
   "name": "conda_base"
  },
  "language_info": {
   "codemirror_mode": {
    "name": "ipython",
    "version": 3
   },
   "file_extension": ".py",
   "mimetype": "text/x-python",
   "name": "python",
   "nbconvert_exporter": "python",
   "pygments_lexer": "ipython3",
   "version": "3.11.5"
  }
 },
 "nbformat": 4,
 "nbformat_minor": 5
}
