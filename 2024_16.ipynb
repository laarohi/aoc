{
 "cells": [
  {
   "cell_type": "code",
   "execution_count": 1,
   "id": "021838ca-c426-4c3d-b155-dcef79098cb1",
   "metadata": {},
   "outputs": [],
   "source": [
    "from aoc_utils import *\n",
    "\n",
    "import pandas as pd\n",
    "import numpy as np\n",
    "\n",
    "from aocd import get_data, submit"
   ]
  },
  {
   "cell_type": "code",
   "execution_count": 2,
   "id": "9c8b3281-561d-485d-a78e-99929790addf",
   "metadata": {},
   "outputs": [],
   "source": [
    "year = 2024\n",
    "day = 16"
   ]
  },
  {
   "cell_type": "code",
   "execution_count": 33,
   "id": "f942dbf5-a17e-475a-9c28-b7b699ba4436",
   "metadata": {},
   "outputs": [],
   "source": [
    "dat = get_data(day=day, year=year, block=True)"
   ]
  },
  {
   "cell_type": "code",
   "execution_count": 25,
   "id": "2867874a-538d-4d26-8fd4-ca5126e4c439",
   "metadata": {},
   "outputs": [],
   "source": [
    "dat = '''###############\n",
    "#.......#....E#\n",
    "#.#.###.#.###.#\n",
    "#.....#.#...#.#\n",
    "#.###.#####.#.#\n",
    "#.#.#.......#.#\n",
    "#.#.#####.###.#\n",
    "#...........#.#\n",
    "###.#.#####.#.#\n",
    "#...#.....#.#.#\n",
    "#.#.#.###.#.#.#\n",
    "#.....#...#.#.#\n",
    "#.###.#.#.#.#.#\n",
    "#S..#.....#...#\n",
    "###############'''"
   ]
  },
  {
   "cell_type": "code",
   "execution_count": 34,
   "id": "f1ebf338-f7cd-432e-b2ee-d5638781b52c",
   "metadata": {
    "scrolled": true
   },
   "outputs": [
    {
     "data": {
      "text/plain": [
       "72400"
      ]
     },
     "execution_count": 34,
     "metadata": {},
     "output_type": "execute_result"
    }
   ],
   "source": [
    "g = Grid(parse(dat))\n",
    "for k,v in g.items():\n",
    "    if v == 'E':\n",
    "        goal = k\n",
    "    if v == 'S':\n",
    "        init = (k, East)\n",
    "\n",
    "class ReinProblem(GridProblem):\n",
    "    def actions(self, state):\n",
    "        loc, dir = state\n",
    "        return [(n,sub(n,loc)) for n in self.grid.neighbors(loc) if g[n] != '#']\n",
    "    def action_cost(self, s, a, s1):\n",
    "        loc, dir = s\n",
    "        nloc, ndir = a\n",
    "        if dir == (0,0):\n",
    "            return 1\n",
    "        elif dir == ndir:\n",
    "            return 1\n",
    "        elif add2(dir, ndir) == (0,0):\n",
    "            return np.inf\n",
    "        else:\n",
    "            return 1001\n",
    "    def is_goal(self, state):\n",
    "        return state[0] == self.goal\n",
    "    def h(self, node):\n",
    "        loc = node.state[0]\n",
    "        return taxi_distance(loc, self.goal)\n",
    "\n",
    "gp = ReinProblem(grid=g, initial=init, goal=goal)\n",
    "\n",
    "p1 = A_star_search(gp)\n",
    "p1.path_cost"
   ]
  },
  {
   "cell_type": "code",
   "execution_count": 20,
   "id": "7122bcc2-91e2-4120-b264-c8b235ab9d7e",
   "metadata": {},
   "outputs": [
    {
     "name": "stdout",
     "output_type": "stream",
     "text": [
      "###############\n",
      "#.......#....^#\n",
      "#.#.###.#.###^#\n",
      "#.....#.#...#^#\n",
      "#.###.#####.#^#\n",
      "#.#.#.......#^#\n",
      "#.#.#####.###^#\n",
      "#....^>>>>>>#^#\n",
      "###.#^#####v#^#\n",
      "#...#^....#v#^#\n",
      "#.#.#^###.#v#^#\n",
      "#^>>>>#...#v#^#\n",
      "#^###.#.#.#v#^#\n",
      "#S..#.....#v>>#\n",
      "###############\n"
     ]
    }
   ],
   "source": [
    "g2 = g.copy()\n",
    "dirs = {North:'^', South:'v', East:'>',West:'<'}\n",
    "for s in path_states(p1):\n",
    "    g2[s[0]] = dirs.get(s[1], 'S')\n",
    "g2.print()"
   ]
  },
  {
   "cell_type": "code",
   "execution_count": 5,
   "id": "43605b0a-b15c-494a-8a3a-10f8550e1499",
   "metadata": {
    "scrolled": true
   },
   "outputs": [
    {
     "name": "stdout",
     "output_type": "stream",
     "text": [
      "Part a already solved with same answer: 56042\n"
     ]
    }
   ],
   "source": [
    "submit(p1, day=day, part='a', year=year)"
   ]
  },
  {
   "cell_type": "code",
   "execution_count": 35,
   "id": "5f65e1f4-8298-4862-be2a-f9cdd18f0576",
   "metadata": {},
   "outputs": [
    {
     "data": {
      "text/plain": [
       "435"
      ]
     },
     "execution_count": 35,
     "metadata": {},
     "output_type": "execute_result"
    }
   ],
   "source": [
    "\n",
    "def A_star_search2(problem, h=None):\n",
    "    \"\"\"Search nodes with minimum f(n) = path_cost(n) + h(n) value first.\"\"\"\n",
    "    h = h or problem.h\n",
    "    return best_first_search2(problem, f=lambda n: n.path_cost + h(n))\n",
    "\n",
    "def best_first_search2(problem, f) -> 'Node':\n",
    "    \"Search nodes with minimum f(node) value first.\"\n",
    "    node = Node(problem.initial)\n",
    "    frontier = PriorityQueue([node], key=f)\n",
    "    reached = {problem.initial: node}\n",
    "    soln_paths = []\n",
    "    soln_cost = np.inf\n",
    "    while frontier:\n",
    "        node = frontier.pop()\n",
    "        if problem.is_goal(node.state):\n",
    "            if not soln_paths:\n",
    "                soln_paths.append(node)\n",
    "                soln_cost = node.path_cost\n",
    "            else:\n",
    "                # print(soln_cost, node.path_cost)\n",
    "                if soln_cost < node.path_cost:\n",
    "                    return soln_paths\n",
    "                else:\n",
    "                    soln_paths.append(node)\n",
    "        for child in expand(problem, node):\n",
    "            s = child.state\n",
    "            if s not in reached or child.path_cost <= reached[s].path_cost:\n",
    "                reached[s] = child\n",
    "                frontier.add(child)\n",
    "    return search_failure\n",
    "\n",
    "\n",
    "gp = ReinProblem(grid=g, initial=init, goal=goal)\n",
    "\n",
    "p2 = A_star_search2(gp)\n",
    "\n",
    "res = set()\n",
    "for n in p2:\n",
    "    for p,d in path_states(n):\n",
    "        res.add(p)\n",
    "len(res)"
   ]
  },
  {
   "cell_type": "code",
   "execution_count": 8,
   "id": "97419d4a-445d-49af-b661-8a7a11804406",
   "metadata": {
    "scrolled": true
   },
   "outputs": [
    {
     "name": "stdout",
     "output_type": "stream",
     "text": [
      "Part b already solved with same answer: 55358\n"
     ]
    }
   ],
   "source": [
    "submit(p2, day=day, part='b', year=year)"
   ]
  }
 ],
 "metadata": {
  "kernelspec": {
   "display_name": "conda_base",
   "language": "python",
   "name": "conda_base"
  },
  "language_info": {
   "codemirror_mode": {
    "name": "ipython",
    "version": 3
   },
   "file_extension": ".py",
   "mimetype": "text/x-python",
   "name": "python",
   "nbconvert_exporter": "python",
   "pygments_lexer": "ipython3",
   "version": "3.11.5"
  }
 },
 "nbformat": 4,
 "nbformat_minor": 5
}
