{
 "cells": [
  {
   "cell_type": "code",
   "execution_count": 1,
   "id": "021838ca-c426-4c3d-b155-dcef79098cb1",
   "metadata": {},
   "outputs": [],
   "source": [
    "from aoc_utils import *\n",
    "\n",
    "import pandas as pd\n",
    "import numpy as np\n",
    "\n",
    "from aocd import get_data, submit"
   ]
  },
  {
   "cell_type": "code",
   "execution_count": 2,
   "id": "9c8b3281-561d-485d-a78e-99929790addf",
   "metadata": {},
   "outputs": [],
   "source": [
    "year = 2023\n",
    "day = 13"
   ]
  },
  {
   "cell_type": "code",
   "execution_count": 35,
   "id": "f942dbf5-a17e-475a-9c28-b7b699ba4436",
   "metadata": {},
   "outputs": [],
   "source": [
    "dat = get_data(day=day, year=year, block=True)"
   ]
  },
  {
   "cell_type": "code",
   "execution_count": 72,
   "id": "f1ebf338-f7cd-432e-b2ee-d5638781b52c",
   "metadata": {
    "scrolled": true
   },
   "outputs": [
    {
     "data": {
      "text/plain": [
       "30802"
      ]
     },
     "execution_count": 72,
     "metadata": {},
     "output_type": "execute_result"
    }
   ],
   "source": [
    "d = parse(dat, str, paragraphs)\n",
    "res = 0\n",
    "for j, pat in enumerate(d):\n",
    "    prev_res = res\n",
    "    hlines = pat.splitlines()\n",
    "    vlines = mapl(cat, T(hlines))\n",
    "    lv = [(hlines, 100), (vlines, 1)]\n",
    "    for lines, val in lv:\n",
    "        n = len(lines)\n",
    "        for r in range(1, len(lines)):\n",
    "            s1 = lines[max(0,r - (n - r)):r]\n",
    "            s2 = lines[r:min(n, r+len(s1))]\n",
    "            if s1 and s2 and all([i == j for i,j in zip(s1,reversed(s2))]):\n",
    "                res += val*(r)\n",
    "                break\n",
    "    if prev_res == res:\n",
    "        raise Exception\n",
    "p1 = res\n",
    "p1"
   ]
  },
  {
   "cell_type": "code",
   "execution_count": 66,
   "id": "43605b0a-b15c-494a-8a3a-10f8550e1499",
   "metadata": {
    "scrolled": true
   },
   "outputs": [
    {
     "name": "stdout",
     "output_type": "stream",
     "text": [
      "\u001b[32mThat's the right answer!  You are one gold star closer to restoring snow operations. [Continue to Part Two]\u001b[0m\n"
     ]
    },
    {
     "data": {
      "text/plain": [
       "<urllib3.response.HTTPResponse at 0x1388b49a0>"
      ]
     },
     "execution_count": 66,
     "metadata": {},
     "output_type": "execute_result"
    }
   ],
   "source": [
    "submit(p1, day=day, part='a', year=year)"
   ]
  },
  {
   "cell_type": "code",
   "execution_count": 73,
   "id": "baf3a2b2-ddd3-4750-90ed-1636fb664e86",
   "metadata": {
    "scrolled": true
   },
   "outputs": [
    {
     "data": {
      "text/plain": [
       "37876"
      ]
     },
     "execution_count": 73,
     "metadata": {},
     "output_type": "execute_result"
    }
   ],
   "source": [
    "d = parse(dat, str, paragraphs)\n",
    "res = 0\n",
    "\n",
    "def smudge_check(s1, s2):\n",
    "    pairs = 0\n",
    "    smudge = 0\n",
    "    for ri, rj in zip(s1, s2):\n",
    "        if ri == rj:\n",
    "            pairs += 1\n",
    "        elif sum([li != lj for li,lj in zip(ri, rj)]) == 1:\n",
    "            smudge += 1\n",
    "        if smudge > 1:\n",
    "            return False\n",
    "    if smudge == 1 and pairs == (len(s1) - 1):\n",
    "        return True\n",
    "    else:\n",
    "        return False\n",
    "                \n",
    "\n",
    "for j, pat in enumerate(d):\n",
    "    prev_res = res\n",
    "    hlines = pat.splitlines()\n",
    "    vlines = mapl(cat, T(hlines))\n",
    "    lv = [(hlines, 100), (vlines, 1)]\n",
    "    for lines, val in lv:\n",
    "        n = len(lines)\n",
    "        for r in range(1, len(lines)):\n",
    "            s1 = lines[max(0,r - (n - r)):r]\n",
    "            s2 = lines[r:min(n, r+len(s1))]\n",
    "            if s1 and s2 and smudge_check(s1, reversed(s2)):\n",
    "                res += val*(r)\n",
    "                break\n",
    "    if prev_res == res:\n",
    "        raise Exception\n",
    "p2 = res\n",
    "p2"
   ]
  },
  {
   "cell_type": "code",
   "execution_count": 70,
   "id": "97419d4a-445d-49af-b661-8a7a11804406",
   "metadata": {
    "scrolled": true
   },
   "outputs": [
    {
     "name": "stdout",
     "output_type": "stream",
     "text": [
      "\u001b[32mThat's the right answer!  You are one gold star closer to restoring snow operations.You have completed Day 13! You can [Shareon\n",
      "  Twitter\n",
      "Mastodon] this victory or [Return to Your Advent Calendar].\u001b[0m\n"
     ]
    },
    {
     "data": {
      "text/plain": [
       "<urllib3.response.HTTPResponse at 0x1389875e0>"
      ]
     },
     "execution_count": 70,
     "metadata": {},
     "output_type": "execute_result"
    }
   ],
   "source": [
    "submit(p2, day=day, part='b', year=year)"
   ]
  }
 ],
 "metadata": {
  "kernelspec": {
   "display_name": "conda_base",
   "language": "python",
   "name": "conda_base"
  },
  "language_info": {
   "codemirror_mode": {
    "name": "ipython",
    "version": 3
   },
   "file_extension": ".py",
   "mimetype": "text/x-python",
   "name": "python",
   "nbconvert_exporter": "python",
   "pygments_lexer": "ipython3",
   "version": "3.11.5"
  }
 },
 "nbformat": 4,
 "nbformat_minor": 5
}
